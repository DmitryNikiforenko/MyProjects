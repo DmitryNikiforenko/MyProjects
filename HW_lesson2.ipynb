{
 "cells": [
  {
   "cell_type": "code",
   "execution_count": 2,
   "id": "d1e88db8-12ab-4e89-ae7b-e87db7297f88",
   "metadata": {
    "id": "c7NGnJrtiqs_"
   },
   "outputs": [],
   "source": [
    "import numpy as np\n",
    "from sklearn import datasets\n",
    "import matplotlib.pyplot as plt\n",
    "from mpl_toolkits.mplot3d.axes3d import Axes3D\n",
    "\n",
    "%matplotlib inline\n",
    "import warnings\n",
    "warnings.filterwarnings('ignore')"
   ]
  },
  {
   "cell_type": "markdown",
   "id": "e5249e35-41ed-466e-9f40-00c711064807",
   "metadata": {},
   "source": [
    "1. Постройте график зависимости весов всех признаков от lambda в самописной L2-регуляризации (на данных про ЕГЭ). Сделайте вывод"
   ]
  },
  {
   "cell_type": "code",
   "execution_count": 3,
   "id": "1f675fd7-9d39-4a3e-8922-2a5874f71833",
   "metadata": {
    "colab": {},
    "colab_type": "code",
    "id": "_n6il-AZaLuA",
    "tags": []
   },
   "outputs": [],
   "source": [
    "X = np.array([[   1,    1,  500,    1],\n",
    "              [   1,    1,  700,    1],\n",
    "              [   1,    2,  750,    2],\n",
    "              [   1,    5,  600,    1],\n",
    "              [   1,    3, 1450,    2],\n",
    "              [   1,    0,  800,    1],\n",
    "              [   1,    5, 1500,    3],\n",
    "              [   1,   10, 2000,    3],\n",
    "              [   1,    1,  450,    1],\n",
    "              [   1,    2, 1000,    2]])"
   ]
  },
  {
   "cell_type": "code",
   "execution_count": 4,
   "id": "f26cd030-8c0e-48bc-9ee9-1558c01b7531",
   "metadata": {
    "colab": {},
    "colab_type": "code",
    "id": "x8yoci01ni-t"
   },
   "outputs": [],
   "source": [
    "y = [45, 55, 50, 55, 60, 35, 75, 80, 50, 60]"
   ]
  },
  {
   "cell_type": "code",
   "execution_count": 5,
   "id": "fe5400d0-c856-4574-aa0f-69c2e024521b",
   "metadata": {},
   "outputs": [],
   "source": [
    "#функция стандартизации\n",
    "def standard_scale(X):\n",
    "    mean = X.mean()\n",
    "    std = X.std()\n",
    "    return (X - mean) / std"
   ]
  },
  {
   "cell_type": "code",
   "execution_count": 6,
   "id": "3ed36576-26e3-4d62-b70d-29e18c089530",
   "metadata": {
    "colab": {},
    "colab_type": "code",
    "id": "VDpN7UxYnrcS"
   },
   "outputs": [],
   "source": [
    "def calc_mse(y, y_pred):\n",
    "    err = np.mean((y - y_pred)**2)\n",
    "    return err"
   ]
  },
  {
   "cell_type": "code",
   "execution_count": 7,
   "id": "0fe2c9c3-2420-4c2a-98e0-e142a65f7990",
   "metadata": {
    "colab": {},
    "colab_type": "code",
    "id": "M57-Pzl_f_rF"
   },
   "outputs": [
    {
     "data": {
      "text/plain": [
       "array([[ 1.        , -0.70710678, -0.97958969, -0.89625816],\n",
       "       [ 1.        , -0.70710678, -0.56713087, -0.89625816],\n",
       "       [ 1.        , -0.35355339, -0.46401617,  0.38411064],\n",
       "       [ 1.        ,  0.70710678, -0.77336028, -0.89625816],\n",
       "       [ 1.        ,  0.        ,  0.97958969,  0.38411064],\n",
       "       [ 1.        , -1.06066017, -0.36090146, -0.89625816],\n",
       "       [ 1.        ,  0.70710678,  1.08270439,  1.66447944],\n",
       "       [ 1.        ,  2.47487373,  2.11385144,  1.66447944],\n",
       "       [ 1.        , -0.70710678, -1.08270439, -0.89625816],\n",
       "       [ 1.        , -0.35355339,  0.05155735,  0.38411064]])"
      ]
     },
     "execution_count": 7,
     "metadata": {},
     "output_type": "execute_result"
    }
   ],
   "source": [
    "#стандартизация\n",
    "X_st = X.astype(np.float64)\n",
    "X_st[:, 1] = standard_scale(X_st[:, 1])\n",
    "X_st[:, 2] = standard_scale(X_st[:, 2])\n",
    "X_st[:, 3] = standard_scale(X_st[:, 3])\n",
    "\n",
    "X_st"
   ]
  },
  {
   "cell_type": "code",
   "execution_count": 206,
   "id": "beb0cb1e-d498-4042-82e8-b6ca64d840de",
   "metadata": {
    "colab": {},
    "colab_type": "code",
    "id": "7AVoe1Mswjni"
   },
   "outputs": [],
   "source": [
    "def gradient_descent_reg_l2_graf(X_st, y, iterations, eta, reg):\n",
    "    W = np.random.randn(X_st.shape[1])\n",
    "    n = X_st.shape[0]    \n",
    "        \n",
    "    for i in range(0, iterations):\n",
    "        y_pred = np.dot(X_st, W)\n",
    "        err = calc_mse(y, y_pred)\n",
    "        \n",
    "        dQ = 2/n * X.T @ (y_pred - y) # градиент функции ошибки\n",
    "        dReg = reg * W # градиент регуляризации\n",
    "        \n",
    "        W -= eta * (dQ + dReg)\n",
    "        \n",
    "        #if i % (iterations / 10) == 0:\n",
    "            #print(f'Iter: {i}, weights: {W}, error {err}')\n",
    "                \n",
    "    #print(f'Final MSE: {calc_mse(y, np.dot(X_st, W))}')\n",
    "    return W"
   ]
  },
  {
   "cell_type": "code",
   "execution_count": 130,
   "id": "ab82e372-8e6d-4290-b0c2-c16efb9c583a",
   "metadata": {
    "colab": {
     "base_uri": "https://localhost:8080/",
     "height": 207
    },
    "colab_type": "code",
    "id": "vLJL6j8Lw6OA",
    "outputId": "dac9ef42-5966-4404-9346-aeb18cca83c6"
   },
   "outputs": [
    {
     "data": {
      "text/plain": [
       "array([56.4997175 ,  6.30077313, -0.3760365 ,  6.59619433])"
      ]
     },
     "execution_count": 130,
     "metadata": {},
     "output_type": "execute_result"
    }
   ],
   "source": [
    "gradient_descent_reg_l2(X_st, y, iterations=10000, eta=2e-3, reg=1e-5)"
   ]
  },
  {
   "cell_type": "code",
   "execution_count": 212,
   "id": "ba4a9661-bbfe-4296-858a-155db419daa0",
   "metadata": {},
   "outputs": [
    {
     "data": {
      "text/plain": [
       "Text(0, 0.5, 'Вес признака')"
      ]
     },
     "execution_count": 212,
     "metadata": {},
     "output_type": "execute_result"
    },
    {
     "data": {
      "image/png": "[encoded data removed]",
      "text/plain": [
       "<Figure size 432x288 with 1 Axes>"
      ]
     },
     "metadata": {
      "needs_background": "light"
     },
     "output_type": "display_data"
    }
   ],
   "source": [
    "n = 50\n",
    "\n",
    "coeffs = np.zeros((n, X_st.shape[1]))\n",
    "lambda_list = np.logspace(-5, 1, n)\n",
    "\n",
    "for i, val in enumerate(lambda_list):  \n",
    "    coeffs[i, :] = gradient_descent_reg_l2_graf(X_st, y, iterations=10000, eta=2e-3, reg=val)\n",
    "\n",
    "for i in range(X_st.shape[1]):\n",
    "    plt.plot(lambda_list, coeffs[:, i])\n",
    "\n",
    "plt.title('Значения весов признаков\\n при увеличении коэффициента регуляризации lambda')\n",
    "#plt.xticks(np.arange(0, 100, 10))\n",
    "plt.xlabel('Значение lambda')\n",
    "plt.ylabel('Вес признака')"
   ]
  },
  {
   "cell_type": "markdown",
   "id": "16cd13e1-ea40-4bb8-b895-cde49acea4b4",
   "metadata": {},
   "source": [
    "### Вывод: исспользование L2-регуляризации для данной модели приводит к росту значения одного из признаков, тем самым увеличивается значение ошибки."
   ]
  },
  {
   "cell_type": "markdown",
   "id": "7941e124-5063-4320-b30b-d5b4676ddb00",
   "metadata": {},
   "source": [
    "### Можно ли к одному и тому же признаку применить сразу и нормализацию, и стандартизацию?\n",
    "К одному и тому же признаку нельзя одновременно применить и стандартизацию и нормализацию, т.к. это два разных метода масштабированния данных. При нормализации диапазон значений укладывается между 0 и 1. При стандартизации среднее значение находится в нуле, а разброс значений располагается от -1 до 1 со стандартным отклонением в 1."
   ]
  },
  {
   "cell_type": "markdown",
   "id": "de06ce62-907c-4c28-a748-ca6207faa487",
   "metadata": {},
   "source": [
    "### Напишите функцию наподобие eval_model_reg2, но для применения L1-регуляризации."
   ]
  },
  {
   "cell_type": "code",
   "execution_count": 10,
   "id": "f1ae207a-50cd-4949-8160-954b09499ef2",
   "metadata": {
    "colab": {},
    "colab_type": "code",
    "id": "_n6il-AZaLuA",
    "tags": []
   },
   "outputs": [],
   "source": [
    "X = np.array([[   1,    1,  500,    1],\n",
    "              [   1,    1,  700,    1],\n",
    "              [   1,    2,  750,    2],\n",
    "              [   1,    5,  600,    1],\n",
    "              [   1,    3, 1450,    2],\n",
    "              [   1,    0,  800,    1],\n",
    "              [   1,    5, 1500,    3],\n",
    "              [   1,   10, 2000,    3],\n",
    "              [   1,    1,  450,    1],\n",
    "              [   1,    2, 1000,    2]])"
   ]
  },
  {
   "cell_type": "code",
   "execution_count": 11,
   "id": "7477cfe6-67c3-4e36-ba8c-0a9a798154db",
   "metadata": {
    "colab": {},
    "colab_type": "code",
    "id": "x8yoci01ni-t"
   },
   "outputs": [],
   "source": [
    "y = [45, 55, 50, 55, 60, 35, 75, 80, 50, 60]"
   ]
  },
  {
   "cell_type": "code",
   "execution_count": 12,
   "id": "62fe8d0a-eb6d-49ba-8281-5286fb183347",
   "metadata": {
    "colab": {},
    "colab_type": "code",
    "id": "M57-Pzl_f_rF"
   },
   "outputs": [
    {
     "data": {
      "text/plain": [
       "array([[ 1.        , -0.70710678, -0.97958969, -0.89625816],\n",
       "       [ 1.        , -0.70710678, -0.56713087, -0.89625816],\n",
       "       [ 1.        , -0.35355339, -0.46401617,  0.38411064],\n",
       "       [ 1.        ,  0.70710678, -0.77336028, -0.89625816],\n",
       "       [ 1.        ,  0.        ,  0.97958969,  0.38411064],\n",
       "       [ 1.        , -1.06066017, -0.36090146, -0.89625816],\n",
       "       [ 1.        ,  0.70710678,  1.08270439,  1.66447944],\n",
       "       [ 1.        ,  2.47487373,  2.11385144,  1.66447944],\n",
       "       [ 1.        , -0.70710678, -1.08270439, -0.89625816],\n",
       "       [ 1.        , -0.35355339,  0.05155735,  0.38411064]])"
      ]
     },
     "execution_count": 12,
     "metadata": {},
     "output_type": "execute_result"
    }
   ],
   "source": [
    "#стандартизация\n",
    "X_st = X.astype(np.float64)\n",
    "X_st[:, 1] = standard_scale(X_st[:, 1])\n",
    "X_st[:, 2] = standard_scale(X_st[:, 2])\n",
    "X_st[:, 3] = standard_scale(X_st[:, 3])\n",
    "\n",
    "X_st"
   ]
  },
  {
   "cell_type": "code",
   "execution_count": 15,
   "id": "9b9cfd93-bfdf-415e-9507-7a8ce5b20167",
   "metadata": {
    "colab": {},
    "colab_type": "code",
    "id": "7AVoe1Mswjni"
   },
   "outputs": [],
   "source": [
    "def gradient_descent_reg_l2(X, y, iterations, eta=1e-4, reg=1e-8):\n",
    "    W = np.random.randn(X.shape[1])\n",
    "    n = X.shape[0]\n",
    "    \n",
    "    for i in range(0, iterations):\n",
    "        y_pred = np.dot(X, W)\n",
    "        err = calc_mse(y, y_pred)\n",
    "        \n",
    "        dQ = 2/n * X.T @ (y_pred - y) # градиент функции ошибки\n",
    "        dReg = reg * (W/np.abs(W)) # градиент регуляризации L1\n",
    "        \n",
    "        W -= eta * (dQ + dReg)\n",
    "        \n",
    "        if i % (iterations / 10) == 0:\n",
    "            print(f'Iter: {i}, weights: {W}, error {err}')\n",
    "    \n",
    "    print(f'Final MSE: {calc_mse(y, np.dot(X, W))}')\n",
    "    return W"
   ]
  },
  {
   "cell_type": "code",
   "execution_count": 22,
   "id": "c40c610c-0a26-4746-a247-432382bb706f",
   "metadata": {
    "colab": {
     "base_uri": "https://localhost:8080/",
     "height": 207
    },
    "colab_type": "code",
    "id": "vLJL6j8Lw6OA",
    "outputId": "dac9ef42-5966-4404-9346-aeb18cca83c6"
   },
   "outputs": [
    {
     "name": "stdout",
     "output_type": "stream",
     "text": [
      "Iter: 0, weights: [10.79534045  2.49496513  2.67802244  1.53331607], error 3411.7773770518847\n",
      "Iter: 500, weights: [56.4999995   6.30305965 -0.35622926  6.57134528], error 24.90461888156252\n",
      "Iter: 1000, weights: [56.4999995   6.30309147 -0.35638289  6.57147208], error 24.904618876914814\n",
      "Iter: 1500, weights: [56.4999995   6.30309147 -0.3563829   6.57147208], error 24.90461887691479\n",
      "Iter: 2000, weights: [56.4999995   6.30309147 -0.3563829   6.57147208], error 24.904618876914785\n",
      "Iter: 2500, weights: [56.4999995   6.30309147 -0.3563829   6.57147208], error 24.904618876914785\n",
      "Iter: 3000, weights: [56.4999995   6.30309147 -0.3563829   6.57147208], error 24.904618876914785\n",
      "Iter: 3500, weights: [56.4999995   6.30309147 -0.3563829   6.57147208], error 24.904618876914785\n",
      "Iter: 4000, weights: [56.4999995   6.30309147 -0.3563829   6.57147208], error 24.904618876914785\n",
      "Iter: 4500, weights: [56.4999995   6.30309147 -0.3563829   6.57147208], error 24.904618876914785\n",
      "Final MSE: 24.904618876914785\n"
     ]
    },
    {
     "data": {
      "text/plain": [
       "array([56.4999995 ,  6.30309147, -0.3563829 ,  6.57147208])"
      ]
     },
     "execution_count": 22,
     "metadata": {},
     "output_type": "execute_result"
    }
   ],
   "source": [
    "gradient_descent_reg_l2(X_st, y, iterations=5000, eta=1e-1, reg=1e-6)"
   ]
  },
  {
   "cell_type": "code",
   "execution_count": null,
   "id": "6d72e5f1-7d21-459f-aef0-43fcaba1fa80",
   "metadata": {},
   "outputs": [],
   "source": []
  }
 ],
 "metadata": {
  "kernelspec": {
   "display_name": "Python 3 (ipykernel)",
   "language": "python",
   "name": "python3"
  },
  "language_info": {
   "codemirror_mode": {
    "name": "ipython",
    "version": 3
   },
   "file_extension": ".py",
   "mimetype": "text/x-python",
   "name": "python",
   "nbconvert_exporter": "python",
   "pygments_lexer": "ipython3",
   "version": "3.9.7"
  }
 },
 "nbformat": 4,
 "nbformat_minor": 5
}

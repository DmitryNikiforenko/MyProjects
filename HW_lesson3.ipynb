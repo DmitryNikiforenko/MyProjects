{
 "cells": [
  {
   "cell_type": "markdown",
   "id": "31821cda",
   "metadata": {},
   "source": [
    "### Для чего и в каких случаях полезны различные варианты усреднения для метрик качества классификации: micro, macro, weighted?"
   ]
  },
  {
   "cell_type": "markdown",
   "id": "f96bb892",
   "metadata": {},
   "source": [
    "* micro усреднение рассчитывает значение метрик исходя из суммарного числа True Positive, False Negative и False Positive предсказаний. Здесь не учитывается принадлежность к классу\n",
    "* macro усреднение рассчитывает метрики для каждого из классов и вычисляет невзвешенное среднее. Дисбаланс классов не учитывается\n",
    "* weighted усреднение рассчитывает метрики для каждого из классов и вычисляет взвешенное среднее с учётом дисбаланса классов"
   ]
  },
  {
   "cell_type": "markdown",
   "id": "be179d9e",
   "metadata": {},
   "source": [
    "### В чём разница между моделями xgboost, lightgbm и catboost или какие их основные особенности?"
   ]
  },
  {
   "cell_type": "markdown",
   "id": "39a3ca39",
   "metadata": {},
   "source": [
    "* xgboost:\n",
    "    * Имеются различные стратегии работы с пропущенными данными.\n",
    "    * Возможность распараллеливания процесса обучения деревьев решений.\n",
    "    * Можно продолжить дообучение модели на новых данных.\n",
    "    \n",
    "* lightgbm:\n",
    "    * Градиентная одностороняя выборка.\n",
    "    * Возможность объединения взаимоисключающих признаков.   \n",
    "\n",
    "* catboost:\n",
    "    * Возможность работы с каиегориальными типами данных.\n",
    "    * На каждом шаге алгоритма выбирается наиболее оптимальное решение.\n",
    "    "
   ]
  }
 ],
 "metadata": {
  "kernelspec": {
   "display_name": "Python 3 (ipykernel)",
   "language": "python",
   "name": "python3"
  },
  "language_info": {
   "codemirror_mode": {
    "name": "ipython",
    "version": 3
   },
   "file_extension": ".py",
   "mimetype": "text/x-python",
   "name": "python",
   "nbconvert_exporter": "python",
   "pygments_lexer": "ipython3",
   "version": "3.9.7"
  }
 },
 "nbformat": 4,
 "nbformat_minor": 5
}

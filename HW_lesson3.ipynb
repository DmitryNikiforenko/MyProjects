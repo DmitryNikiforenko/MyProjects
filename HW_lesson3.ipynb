{
 "cells": [
  {
   "cell_type": "markdown",
   "id": "4e3bc9e2-27a1-4b3a-9aad-863979f60d93",
   "metadata": {},
   "source": [
    "### Измените функцию calc_logloss так, чтобы нули по возможности не попадали в np.log."
   ]
  },
  {
   "cell_type": "code",
   "execution_count": 25,
   "id": "028e14a0-2e61-4eaa-bf3e-96041a3e99d5",
   "metadata": {
    "colab": {},
    "colab_type": "code",
    "id": "zhwkeWtb1O0w"
   },
   "outputs": [],
   "source": [
    "import numpy as np\n",
    "import matplotlib.pyplot as plt\n",
    "import math\n",
    "from sklearn.metrics import accuracy_score, confusion_matrix, recall_score, precision_score, f1_score"
   ]
  },
  {
   "cell_type": "code",
   "execution_count": 3,
   "id": "50d2f504-6b10-4d73-ae1c-528bf2e2f4dd",
   "metadata": {
    "colab": {},
    "colab_type": "code",
    "id": "FeKFn2yb1To4"
   },
   "outputs": [],
   "source": [
    "X = np.array([ [   1,    1,  500,    1],\n",
    "               [   1,    1,  700,    1],\n",
    "               [   1,    2,  750,    2],\n",
    "               [   1,    5,  600,    1],\n",
    "               [   1,    3, 1450,    2],\n",
    "               [   1,    0,  800,    1],\n",
    "               [   1,    5, 1500,    3],\n",
    "               [   1,   10, 2000,    3],\n",
    "               [   1,    1,  450,    1],\n",
    "               [   1,    2, 1000,    2]], dtype=np.float64)\n",
    "\n",
    "y = np.array([0, 0, 1, 0, 1, 0, 1, 0, 1, 1], dtype=np.float64)"
   ]
  },
  {
   "cell_type": "code",
   "execution_count": 4,
   "id": "5ec94c12-6748-43dd-8900-caa090366799",
   "metadata": {
    "colab": {
     "base_uri": "https://localhost:8080/",
     "height": 155
    },
    "colab_type": "code",
    "id": "yXSj4nbxHsFd",
    "jupyter": {
     "source_hidden": true
    },
    "outputId": "8d102d54-94bf-4acc-d5b8-d60da152b953",
    "scrolled": true,
    "tags": []
   },
   "outputs": [
    {
     "data": {
      "text/plain": [
       "array([[1.00e+00, 1.00e+00, 5.00e+02, 1.00e+00],\n",
       "       [1.00e+00, 1.00e+00, 7.00e+02, 1.00e+00],\n",
       "       [1.00e+00, 2.00e+00, 7.50e+02, 2.00e+00],\n",
       "       [1.00e+00, 5.00e+00, 6.00e+02, 1.00e+00],\n",
       "       [1.00e+00, 3.00e+00, 1.45e+03, 2.00e+00],\n",
       "       [1.00e+00, 0.00e+00, 8.00e+02, 1.00e+00],\n",
       "       [1.00e+00, 5.00e+00, 1.50e+03, 3.00e+00],\n",
       "       [1.00e+00, 1.00e+01, 2.00e+03, 3.00e+00],\n",
       "       [1.00e+00, 1.00e+00, 4.50e+02, 1.00e+00],\n",
       "       [1.00e+00, 2.00e+00, 1.00e+03, 2.00e+00]])"
      ]
     },
     "execution_count": 4,
     "metadata": {},
     "output_type": "execute_result"
    }
   ],
   "source": [
    "X"
   ]
  },
  {
   "cell_type": "code",
   "execution_count": 5,
   "id": "b9accc2e-2593-46e8-83fb-538a263955a5",
   "metadata": {
    "colab": {
     "base_uri": "https://localhost:8080/",
     "height": 34
    },
    "colab_type": "code",
    "id": "QU0A16vZHugZ",
    "outputId": "71d74b95-77f4-41a7-e339-c9e7b2004e4b"
   },
   "outputs": [
    {
     "data": {
      "text/plain": [
       "array([0., 0., 1., 0., 1., 0., 1., 0., 1., 1.])"
      ]
     },
     "execution_count": 5,
     "metadata": {},
     "output_type": "execute_result"
    }
   ],
   "source": [
    "y"
   ]
  },
  {
   "cell_type": "code",
   "execution_count": 6,
   "id": "e26cfc69-5d05-458a-9d22-9827ca9e48c0",
   "metadata": {
    "colab": {},
    "colab_type": "code",
    "id": "M-aO1NTxOUfo"
   },
   "outputs": [],
   "source": [
    "def standard_scale(x):\n",
    "    res = (x - x.mean()) / x.std()\n",
    "    return res"
   ]
  },
  {
   "cell_type": "code",
   "execution_count": 7,
   "id": "d0b9d8df-5f75-4f66-87e9-ee741f3839ef",
   "metadata": {
    "colab": {},
    "colab_type": "code",
    "id": "D8EL0iGJOVpe"
   },
   "outputs": [],
   "source": [
    "X_st = X.copy()\n",
    "X_st[:, 2] = standard_scale(X[:, 2])"
   ]
  },
  {
   "cell_type": "code",
   "execution_count": 8,
   "id": "477735ec-e838-4353-8a0c-b8ee236938ea",
   "metadata": {
    "colab": {
     "base_uri": "https://localhost:8080/",
     "height": 155
    },
    "colab_type": "code",
    "id": "gviMxz7EOuI3",
    "outputId": "af9a2576-f4d7-41d7-e216-46e0a068cfad"
   },
   "outputs": [
    {
     "data": {
      "text/plain": [
       "array([[ 1.        ,  1.        , -0.97958969,  1.        ],\n",
       "       [ 1.        ,  1.        , -0.56713087,  1.        ],\n",
       "       [ 1.        ,  2.        , -0.46401617,  2.        ],\n",
       "       [ 1.        ,  5.        , -0.77336028,  1.        ],\n",
       "       [ 1.        ,  3.        ,  0.97958969,  2.        ],\n",
       "       [ 1.        ,  0.        , -0.36090146,  1.        ],\n",
       "       [ 1.        ,  5.        ,  1.08270439,  3.        ],\n",
       "       [ 1.        , 10.        ,  2.11385144,  3.        ],\n",
       "       [ 1.        ,  1.        , -1.08270439,  1.        ],\n",
       "       [ 1.        ,  2.        ,  0.05155735,  2.        ]])"
      ]
     },
     "execution_count": 8,
     "metadata": {},
     "output_type": "execute_result"
    }
   ],
   "source": [
    "X_st"
   ]
  },
  {
   "cell_type": "code",
   "execution_count": 14,
   "id": "f4ce953f-277e-458c-8ba2-3ce96e457cf8",
   "metadata": {
    "colab": {},
    "colab_type": "code",
    "id": "qMR5pOA38dDw"
   },
   "outputs": [],
   "source": [
    "def calc_logloss(y, y_pred):\n",
    "    y_pred_mod=np.where(y_pred==1, y_pred-1e-09, np.where(y_pred==0, y_pred+1e-09, y_pred))\n",
    "    err = - np.mean(y * np.log(y_pred_mod) + (1.0 - y) * np.log(1.0 - y_pred_mod))\n",
    "    return err"
   ]
  },
  {
   "cell_type": "code",
   "execution_count": 10,
   "id": "aae171c8-c9b3-4370-8f1f-bd73cfd14599",
   "metadata": {},
   "outputs": [
    {
     "data": {
      "text/plain": [
       "20.723265851087376"
      ]
     },
     "execution_count": 10,
     "metadata": {},
     "output_type": "execute_result"
    }
   ],
   "source": [
    "y1 = np.array([1, 0])\n",
    "y_pred1 = np.array([0, 1])\n",
    "calc_logloss_mod(y1, y_pred1)"
   ]
  },
  {
   "cell_type": "markdown",
   "id": "c0dd7073-6072-4352-be76-dcfc18783b40",
   "metadata": {},
   "source": [
    "### Подберите аргументы функции eval_model для логистической регрессии таким образом, чтобы log loss был минимальным."
   ]
  },
  {
   "cell_type": "code",
   "execution_count": 11,
   "id": "e862f706-d090-45a5-b15a-763d08d756f3",
   "metadata": {
    "id": "MojlVOSyWjsV"
   },
   "outputs": [],
   "source": [
    "def sigmoid(x):\n",
    "    return 1 / (1 + np.exp(-x))"
   ]
  },
  {
   "cell_type": "code",
   "execution_count": 12,
   "id": "5727c251-c820-4d40-8473-1a9b8a6a2791",
   "metadata": {
    "colab": {},
    "colab_type": "code",
    "id": "qtgUN3LW-UIq"
   },
   "outputs": [],
   "source": [
    "def eval_model(X_st, y, iterations, eta=1e-4):\n",
    "    np.random.seed(42)\n",
    "    W = np.random.randn(X_st.shape[1])\n",
    "    n = X_st.shape[0]\n",
    "    \n",
    "    for i in range(iterations):\n",
    "        z = np.dot(X_st, W)\n",
    "        y_pred = sigmoid(z)\n",
    "        err = calc_logloss(y, y_pred)\n",
    "        \n",
    "        dQ = 1/n * X_st.T @ (y_pred - y)\n",
    "        W -= eta * dQ\n",
    "        if i % (iterations / 10) == 0:\n",
    "            print(i, W, err)\n",
    "    return W"
   ]
  },
  {
   "cell_type": "code",
   "execution_count": 15,
   "id": "4a6c5fe5-e428-49a2-a244-52c96caa5070",
   "metadata": {
    "colab": {
     "base_uri": "https://localhost:8080/",
     "height": 190
    },
    "colab_type": "code",
    "id": "oqX7loklBmYZ",
    "outputId": "f4849295-1f14-40d8-c8f2-d1b002e130c5"
   },
   "outputs": [
    {
     "name": "stdout",
     "output_type": "stream",
     "text": [
      "0 [-1.47609763 -7.68281945  0.50531036 -1.42093074] 1.1785958344356262\n",
      "200 [-24.55639078  -5.26645364  -4.21089798  24.36747991] 0.3382880398305177\n",
      "400 [-31.09656747  -3.23266717  -8.2770825   25.72329935] 0.12129434171580529\n",
      "600 [-33.46679836  -3.36700688  -9.00659354  27.59377365] 0.11536644326618795\n",
      "800 [-34.95158211  -3.51739748  -9.41452937  28.81263251] 0.11176544909148309\n",
      "1000 [-36.3415778   -3.65927807  -9.80837711  29.86926393] 0.10818031066505167\n",
      "1200 [-37.62144683  -3.77291347 -10.16947476  30.89776884] 0.10544835561878596\n",
      "1400 [-38.83284066  -3.8798663  -10.51149934  31.86974307] 0.10300389779116445\n",
      "1600 [-39.98496672  -3.98098095 -10.83713776  32.79259581] 0.10079562364579328\n",
      "1800 [-41.08530207  -4.07694026 -11.14853537  33.67244236] 0.09878399461509804\n"
     ]
    }
   ],
   "source": [
    "W = eval_model(X_st, y, iterations=2000, eta=5.2)"
   ]
  },
  {
   "cell_type": "markdown",
   "id": "7cad11c6-3303-4985-ad82-75a1e221db6e",
   "metadata": {},
   "source": [
    "### Создайте функцию calc_pred_proba, возвращающую предсказанную вероятность класса 1. На вход подаётся W, который уже посчитан функцией eval_model, и X, на выходе — массив y_pred_proba."
   ]
  },
  {
   "cell_type": "code",
   "execution_count": 16,
   "id": "642077fd-fea7-4413-b564-feed17b3dfba",
   "metadata": {},
   "outputs": [
    {
     "data": {
      "text/plain": [
       "array([-42.13485652,  -4.16786447, -11.44599134,  34.51021508])"
      ]
     },
     "execution_count": 16,
     "metadata": {},
     "output_type": "execute_result"
    }
   ],
   "source": [
    "W"
   ]
  },
  {
   "cell_type": "code",
   "execution_count": 17,
   "id": "55962f4e-c721-45ce-88d1-20965a0a2882",
   "metadata": {},
   "outputs": [],
   "source": [
    "def calc_pred_proba(W, X): \n",
    "    pred_proba = sigmoid(np.dot(X, W))\n",
    "    return pred_proba"
   ]
  },
  {
   "cell_type": "code",
   "execution_count": 18,
   "id": "0dbd48ca-21d3-4390-bc56-2cff47cc3141",
   "metadata": {},
   "outputs": [
    {
     "data": {
      "text/plain": [
       "array([0.36, 0.  , 1.  , 0.  , 0.96, 0.03, 1.  , 0.01, 0.65, 1.  ])"
      ]
     },
     "execution_count": 18,
     "metadata": {},
     "output_type": "execute_result"
    }
   ],
   "source": [
    "calc_pred_proba1 = calc_pred_proba(W, X_st)\n",
    "calc_pred_proba1.round(2)"
   ]
  },
  {
   "cell_type": "markdown",
   "id": "66b9d6b9-5f77-4a8f-b795-8c0655b21dd8",
   "metadata": {},
   "source": [
    "### Создайте функцию calc_pred, возвращающую предсказанный класс. На вход подаётся W, который уже посчитан функцией eval_model, и X, на выходе — массив y_pred."
   ]
  },
  {
   "cell_type": "code",
   "execution_count": 39,
   "id": "0f5eaa4a-f100-429e-8709-6355927d461b",
   "metadata": {},
   "outputs": [],
   "source": [
    "def calc_pred(W, X, lim=0.7):    # lim -  порог, при превышении которого, объект будет относиться к классу 1\n",
    "    pred_proba = sigmoid(np.dot(X, W))\n",
    "    pred=np.zeros_like(pred_proba)\n",
    "    for idx, prob in enumerate(pred_proba):\n",
    "        if prob>lim:\n",
    "            pred[idx]=1\n",
    "    return pred"
   ]
  },
  {
   "cell_type": "code",
   "execution_count": 40,
   "id": "e4bc162a-8745-47d7-b420-d96837b2d672",
   "metadata": {},
   "outputs": [
    {
     "data": {
      "text/plain": [
       "array([0., 0., 1., 0., 1., 0., 1., 0., 0., 1.])"
      ]
     },
     "execution_count": 40,
     "metadata": {},
     "output_type": "execute_result"
    }
   ],
   "source": [
    "y_pred=calc_pred(W, X_st)\n",
    "y_pred"
   ]
  },
  {
   "cell_type": "markdown",
   "id": "082f9c7e-4441-4f48-8df3-3033b896560c",
   "metadata": {},
   "source": [
    "### Посчитайте Accuracy, матрицу ошибок, точность и полноту, а также F1 score."
   ]
  },
  {
   "cell_type": "code",
   "execution_count": 41,
   "id": "197b7fa2-57f7-4594-8a39-cddedd7dec61",
   "metadata": {},
   "outputs": [],
   "source": [
    "def manual_accuracy(real, pred):\n",
    "    all_r = len(real)\n",
    "    trues=0\n",
    "    for i in range(all_r):\n",
    "        trues+=int(real[i]==pred[i])\n",
    "    return trues/all_r"
   ]
  },
  {
   "cell_type": "code",
   "execution_count": 42,
   "id": "6902b486-ca9e-4551-a21f-717ccb223c93",
   "metadata": {},
   "outputs": [
    {
     "data": {
      "text/plain": [
       "(0.9, 0.9)"
      ]
     },
     "execution_count": 42,
     "metadata": {},
     "output_type": "execute_result"
    }
   ],
   "source": [
    "manual_accuracy(y, y_pred), accuracy_score(y,y_pred)  #ручной рассчёт и проверка"
   ]
  },
  {
   "cell_type": "code",
   "execution_count": 60,
   "id": "a2f80896-992b-4f32-b1ea-125be3cdb747",
   "metadata": {},
   "outputs": [],
   "source": [
    "def manual_confusion_matrix(real, pred):\n",
    "    n_classes=len(np.unique(real))\n",
    "    all_res=len(real)\n",
    "    conf_matr=np.zeros((n_classes,n_classes), dtype='int')\n",
    "    for i in range(all_res):\n",
    "        conf_matr[int(real[i])][int(pred[i])] += 1\n",
    "    return conf_matr"
   ]
  },
  {
   "cell_type": "code",
   "execution_count": 61,
   "id": "e2a8f26f-3568-491d-bb3a-cdbfdca63a0b",
   "metadata": {},
   "outputs": [
    {
     "data": {
      "text/plain": [
       "(array([[5, 0],\n",
       "        [1, 4]]),\n",
       " array([[5, 0],\n",
       "        [1, 4]], dtype=int64))"
      ]
     },
     "execution_count": 61,
     "metadata": {},
     "output_type": "execute_result"
    }
   ],
   "source": [
    "manual_confusion_matrix(y, y_pred), confusion_matrix(y,y_pred)"
   ]
  },
  {
   "cell_type": "code",
   "execution_count": 62,
   "id": "47546316-dbf0-479f-b3bc-4a5147bd99ec",
   "metadata": {},
   "outputs": [],
   "source": [
    "def manual_precision(real, pred):\n",
    "    tn, fp, fn, tp = manual_confusion_matrix(real, pred).ravel()\n",
    "    return tp/(tp+fp)"
   ]
  },
  {
   "cell_type": "code",
   "execution_count": 63,
   "id": "7de88c64-f463-4578-a0d2-eee59c7ea365",
   "metadata": {},
   "outputs": [
    {
     "data": {
      "text/plain": [
       "(1.0, 1.0)"
      ]
     },
     "execution_count": 63,
     "metadata": {},
     "output_type": "execute_result"
    }
   ],
   "source": [
    "manual_precision(y,y_pred), precision_score(y,y_pred)"
   ]
  },
  {
   "cell_type": "code",
   "execution_count": 66,
   "id": "620fbcb2-88f0-44e9-a203-bbbd6e175695",
   "metadata": {},
   "outputs": [],
   "source": [
    "def manual_recall(real, pred):\n",
    "    tn, fp, fn, tp = manual_confusion_matrix(real, pred).ravel()\n",
    "    return tp/(tp+fn)"
   ]
  },
  {
   "cell_type": "code",
   "execution_count": 68,
   "id": "99c4da1f-c8f5-49d7-b5ae-c0a49ea2519b",
   "metadata": {},
   "outputs": [
    {
     "data": {
      "text/plain": [
       "(0.8, 0.8)"
      ]
     },
     "execution_count": 68,
     "metadata": {},
     "output_type": "execute_result"
    }
   ],
   "source": [
    "manual_recall(y,y_pred), recall_score(y,y_pred)"
   ]
  },
  {
   "cell_type": "code",
   "execution_count": 69,
   "id": "a6f405db-2bb6-426b-998d-64d9958b19f7",
   "metadata": {},
   "outputs": [],
   "source": [
    "def manual_f1(real, pred, beta=1):\n",
    "    return (1+beta**2)*manual_precision(real, pred)*manual_recall(y,y_pred)/(beta**2*manual_precision(real, pred)+manual_recall(y,y_pred))"
   ]
  },
  {
   "cell_type": "code",
   "execution_count": 70,
   "id": "8976f3ec-068b-457e-980f-a886ace33c81",
   "metadata": {},
   "outputs": [
    {
     "data": {
      "text/plain": [
       "(0.888888888888889, 0.888888888888889)"
      ]
     },
     "execution_count": 70,
     "metadata": {},
     "output_type": "execute_result"
    }
   ],
   "source": [
    "manual_f1(y,y_pred), f1_score(y,y_pred)"
   ]
  },
  {
   "cell_type": "markdown",
   "id": "9f159772-9043-413f-9ef7-6d09a537ab73",
   "metadata": {},
   "source": [
    "### Могла ли модель переобучиться? Почему?"
   ]
  },
  {
   "cell_type": "markdown",
   "id": "977b8f2a-b3fc-4a90-ab4e-0d383fbe8f74",
   "metadata": {},
   "source": [
    "##### Модель логистической регрессии имеет склонность к переобучению по причине исспользования сигмоидной функции для получения вероятности предсказания линейной модели. Для предотвращения переобучения можно исспользовать L1 и L2 регуляризацию."
   ]
  },
  {
   "cell_type": "code",
   "execution_count": null,
   "id": "1b681f78-e893-4344-a4ed-b010ea6c626b",
   "metadata": {},
   "outputs": [],
   "source": []
  }
 ],
 "metadata": {
  "kernelspec": {
   "display_name": "Python 3 (ipykernel)",
   "language": "python",
   "name": "python3"
  },
  "language_info": {
   "codemirror_mode": {
    "name": "ipython",
    "version": 3
   },
   "file_extension": ".py",
   "mimetype": "text/x-python",
   "name": "python",
   "nbconvert_exporter": "python",
   "pygments_lexer": "ipython3",
   "version": "3.9.7"
  }
 },
 "nbformat": 4,
 "nbformat_minor": 5
}

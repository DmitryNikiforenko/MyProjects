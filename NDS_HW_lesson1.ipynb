{
 "cells": [
  {
   "cell_type": "code",
   "execution_count": 1,
   "id": "edefe6b1",
   "metadata": {},
   "outputs": [],
   "source": [
    "import torch"
   ]
  },
  {
   "cell_type": "markdown",
   "id": "826736ed",
   "metadata": {},
   "source": [
    "Создайте случайный FloatTensor размера 3x4x5"
   ]
  },
  {
   "cell_type": "code",
   "execution_count": 19,
   "id": "14895394",
   "metadata": {},
   "outputs": [
    {
     "data": {
      "text/plain": [
       "tensor([[[-0.9823, -0.2516, -0.6579, -0.4889,  0.3443],\n",
       "         [-0.7786, -1.7103,  1.2284, -0.6866,  1.5048],\n",
       "         [ 0.1885, -0.8753, -1.4951, -0.7442, -0.6069],\n",
       "         [-0.1465,  0.3308, -0.1332,  1.0816, -0.4156]],\n",
       "\n",
       "        [[-0.9743, -0.7053, -0.3140, -1.1924,  1.3773],\n",
       "         [-0.1620, -2.0341, -2.1237, -2.6193, -0.3678],\n",
       "         [-0.2434,  0.1954, -0.0601, -0.2214, -1.3714],\n",
       "         [-0.2179, -0.1153,  0.2337, -1.5162,  1.3192]],\n",
       "\n",
       "        [[-1.8671,  0.8837,  1.2987,  1.2822, -1.2231],\n",
       "         [-0.4781,  1.9960,  0.8487, -0.6024,  1.1464],\n",
       "         [ 1.6116, -0.2955,  0.1930, -1.3616, -0.1624],\n",
       "         [ 1.0530,  0.7587,  1.8468, -0.3202,  0.6408]]])"
      ]
     },
     "execution_count": 19,
     "metadata": {},
     "output_type": "execute_result"
    }
   ],
   "source": [
    "a = torch.randn(3, 4, 5).type(torch.FloatTensor)\n",
    "a"
   ]
  },
  {
   "cell_type": "markdown",
   "id": "d9eaae98",
   "metadata": {},
   "source": [
    "Выведите его форму (shape)"
   ]
  },
  {
   "cell_type": "code",
   "execution_count": 20,
   "id": "d2e35ffe",
   "metadata": {},
   "outputs": [
    {
     "data": {
      "text/plain": [
       "torch.Size([3, 4, 5])"
      ]
     },
     "execution_count": 20,
     "metadata": {},
     "output_type": "execute_result"
    }
   ],
   "source": [
    "a.shape"
   ]
  },
  {
   "cell_type": "markdown",
   "id": "a6b57613",
   "metadata": {},
   "source": [
    "Приведите его к форме 6х10"
   ]
  },
  {
   "cell_type": "code",
   "execution_count": 21,
   "id": "a4f166b1",
   "metadata": {},
   "outputs": [
    {
     "data": {
      "text/plain": [
       "tensor([[-0.9823, -0.2516, -0.6579, -0.4889,  0.3443, -0.7786, -1.7103,  1.2284,\n",
       "         -0.6866,  1.5048],\n",
       "        [ 0.1885, -0.8753, -1.4951, -0.7442, -0.6069, -0.1465,  0.3308, -0.1332,\n",
       "          1.0816, -0.4156],\n",
       "        [-0.9743, -0.7053, -0.3140, -1.1924,  1.3773, -0.1620, -2.0341, -2.1237,\n",
       "         -2.6193, -0.3678],\n",
       "        [-0.2434,  0.1954, -0.0601, -0.2214, -1.3714, -0.2179, -0.1153,  0.2337,\n",
       "         -1.5162,  1.3192],\n",
       "        [-1.8671,  0.8837,  1.2987,  1.2822, -1.2231, -0.4781,  1.9960,  0.8487,\n",
       "         -0.6024,  1.1464],\n",
       "        [ 1.6116, -0.2955,  0.1930, -1.3616, -0.1624,  1.0530,  0.7587,  1.8468,\n",
       "         -0.3202,  0.6408]])"
      ]
     },
     "execution_count": 21,
     "metadata": {},
     "output_type": "execute_result"
    }
   ],
   "source": [
    "a = a.reshape(6, 10)\n",
    "a"
   ]
  },
  {
   "cell_type": "markdown",
   "id": "1109ffa8",
   "metadata": {},
   "source": [
    "Создайте случайный IntTensor размера 10"
   ]
  },
  {
   "cell_type": "code",
   "execution_count": 22,
   "id": "44437098",
   "metadata": {},
   "outputs": [
    {
     "data": {
      "text/plain": [
       "tensor([8, 2, 7, 8, 0, 6, 2, 3, 4, 4], dtype=torch.int32)"
      ]
     },
     "execution_count": 22,
     "metadata": {},
     "output_type": "execute_result"
    }
   ],
   "source": [
    "b = torch.randint(10, size=(10,)).type(torch.IntTensor)\n",
    "b"
   ]
  },
  {
   "cell_type": "markdown",
   "id": "e9ec8e76",
   "metadata": {},
   "source": [
    "Умножьте созданный FloatTensor на созданный IntTensor поэлементно"
   ]
  },
  {
   "cell_type": "code",
   "execution_count": 24,
   "id": "64eef754",
   "metadata": {},
   "outputs": [
    {
     "data": {
      "text/plain": [
       "tensor([[ -7.8585,  -0.5031,  -4.6054,  -3.9114,   0.0000,  -4.6719,  -3.4206,\n",
       "           3.6853,  -2.7465,   6.0192],\n",
       "        [  1.5082,  -1.7506, -10.4657,  -5.9534,  -0.0000,  -0.8790,   0.6616,\n",
       "          -0.3995,   4.3262,  -1.6623],\n",
       "        [ -7.7943,  -1.4107,  -2.1980,  -9.5390,   0.0000,  -0.9721,  -4.0681,\n",
       "          -6.3712, -10.4771,  -1.4713],\n",
       "        [ -1.9468,   0.3909,  -0.4206,  -1.7712,  -0.0000,  -1.3071,  -0.2307,\n",
       "           0.7012,  -6.0648,   5.2766],\n",
       "        [-14.9365,   1.7675,   9.0909,  10.2575,  -0.0000,  -2.8688,   3.9920,\n",
       "           2.5462,  -2.4096,   4.5858],\n",
       "        [ 12.8925,  -0.5909,   1.3513, -10.8931,  -0.0000,   6.3178,   1.5174,\n",
       "           5.5405,  -1.2808,   2.5633]])"
      ]
     },
     "execution_count": 24,
     "metadata": {},
     "output_type": "execute_result"
    }
   ],
   "source": [
    "c = a.mul(b)\n",
    "c"
   ]
  },
  {
   "cell_type": "markdown",
   "id": "e5fdde24",
   "metadata": {},
   "source": [
    "Умножьте тензор матрично на себя, чтобы результат был размерности 6x6 Подсказка: .dot может не подойти"
   ]
  },
  {
   "cell_type": "code",
   "execution_count": 25,
   "id": "c8c0fc3d",
   "metadata": {},
   "outputs": [
    {
     "data": {
      "text/plain": [
       "tensor([[ 189.3998,   38.9966,  124.2916,   81.8658,   77.8535,  -59.9768],\n",
       "        [  38.9966,  173.1613,   28.3344,  -22.9665, -195.7318,   54.6221],\n",
       "        [ 124.2916,   28.3344,  328.5855,   85.9632,  -15.0754,  -36.6830],\n",
       "        [  81.8658,  -22.9665,   85.9632,   74.1357,   51.2037,    9.9653],\n",
       "        [  77.8535, -195.7318,  -15.0754,   51.2037,  471.5670, -276.1832],\n",
       "        [ -59.9768,   54.6221,  -36.6830,    9.9653, -276.1832,  368.1773]])"
      ]
     },
     "execution_count": 25,
     "metadata": {},
     "output_type": "execute_result"
    }
   ],
   "source": [
    "c.matmul(c.T)"
   ]
  },
  {
   "cell_type": "markdown",
   "id": "f37fa5c2",
   "metadata": {},
   "source": [
    "Посчитайте производную функции y = x**3 + z - 75t в точке (1, 0.5, 2)"
   ]
  },
  {
   "cell_type": "code",
   "execution_count": 29,
   "id": "aa4bbaa7",
   "metadata": {},
   "outputs": [
    {
     "name": "stdout",
     "output_type": "stream",
     "text": [
      "d(y)/d(x) = 3.0 d(y)/d(z) = 1.0 d(y)/d(t) = -75.0\n"
     ]
    }
   ],
   "source": [
    "x = torch.tensor([1.], requires_grad=True)\n",
    "z = torch.tensor([0.5], requires_grad=True)\n",
    "t = torch.tensor([2.], requires_grad=True)\n",
    "\n",
    "y = x ** 3 + z - 75 * t\n",
    "y.backward()\n",
    "\n",
    "print(f'd(y)/d(x) = {x.grad.item()} d(y)/d(z) = {z.grad.item()} d(y)/d(t) = {t.grad.item()}')"
   ]
  },
  {
   "cell_type": "markdown",
   "id": "8736f70a",
   "metadata": {},
   "source": [
    "Создайте единичный тензор размера 5x6"
   ]
  },
  {
   "cell_type": "code",
   "execution_count": 30,
   "id": "0a81ddab",
   "metadata": {},
   "outputs": [
    {
     "data": {
      "text/plain": [
       "tensor([[1., 1., 1., 1., 1., 1.],\n",
       "        [1., 1., 1., 1., 1., 1.],\n",
       "        [1., 1., 1., 1., 1., 1.],\n",
       "        [1., 1., 1., 1., 1., 1.],\n",
       "        [1., 1., 1., 1., 1., 1.]])"
      ]
     },
     "execution_count": 30,
     "metadata": {},
     "output_type": "execute_result"
    }
   ],
   "source": [
    "torch.ones((5, 6))"
   ]
  },
  {
   "cell_type": "markdown",
   "id": "62f2288e",
   "metadata": {},
   "source": [
    "Переведите его в формат numpy"
   ]
  },
  {
   "cell_type": "code",
   "execution_count": 31,
   "id": "7c229f94",
   "metadata": {},
   "outputs": [
    {
     "data": {
      "text/plain": [
       "array([[1., 1., 1., 1., 1., 1.],\n",
       "       [1., 1., 1., 1., 1., 1.],\n",
       "       [1., 1., 1., 1., 1., 1.],\n",
       "       [1., 1., 1., 1., 1., 1.],\n",
       "       [1., 1., 1., 1., 1., 1.]], dtype=float32)"
      ]
     },
     "execution_count": 31,
     "metadata": {},
     "output_type": "execute_result"
    }
   ],
   "source": [
    "torch.ones((5, 6)).numpy()"
   ]
  }
 ],
 "metadata": {
  "kernelspec": {
   "display_name": "Python 3 (ipykernel)",
   "language": "python",
   "name": "python3"
  },
  "language_info": {
   "codemirror_mode": {
    "name": "ipython",
    "version": 3
   },
   "file_extension": ".py",
   "mimetype": "text/x-python",
   "name": "python",
   "nbconvert_exporter": "python",
   "pygments_lexer": "ipython3",
   "version": "3.9.16"
  }
 },
 "nbformat": 4,
 "nbformat_minor": 5
}

{
 "cells": [
  {
   "cell_type": "markdown",
   "id": "b8bae0c3",
   "metadata": {},
   "source": [
    "* Попробуйте изменить параметры нейронной сети, работающей с датасетом imdb, либо нейронной сети, работающей airline-passengers (она прилагается вместе с датасетом к уроку в виде отдельного скрипта) так, чтобы улучшить её точность. Приложите анализ\n",
    "* Попробуйте изменить параметры нейронной сети, генерирующей текст таким образом, чтобы добиться генерации как можно более осмысленного текста. Пришлите лучший текст из получившихся и опишите предпринятые для его получения действия. Можно использовать текст другого произведения\n",
    "* Попробуйте реализовать нейронную сеть архитектуры LSTM на numpy\n",
    "* Предложите свои варианты решения проблемы исчезающего градиента в RNN"
   ]
  },
  {
   "cell_type": "code",
   "execution_count": 1,
   "id": "4c74dfff",
   "metadata": {},
   "outputs": [],
   "source": [
    "import numpy as np\n",
    "import pandas as pd\n",
    "import tensorflow as tf\n",
    "import matplotlib.pyplot as plt\n",
    "\n",
    "from tensorflow.keras.models import Sequential\n",
    "from tensorflow.keras.layers import Dense, Embedding\n",
    "from sklearn.preprocessing import StandardScaler\n",
    "from tensorflow.keras.preprocessing import timeseries_dataset_from_array\n",
    "from tensorflow.keras.callbacks import EarlyStopping\n",
    "from tensorflow.keras.layers import Conv1D, Flatten\n",
    "from tensorflow.keras.layers import SimpleRNN, LSTM, GRU\n",
    "from keras.layers import Dropout, Bidirectional\n",
    "from keras import regularizers\n",
    "from tensorflow.keras.optimizers import Adam\n",
    "from keras.preprocessing.text import Tokenizer\n",
    "from tensorflow.keras.preprocessing.sequence import pad_sequences\n",
    "from tensorflow.keras.utils import to_categorical"
   ]
  },
  {
   "cell_type": "code",
   "execution_count": 2,
   "id": "81b752ca",
   "metadata": {},
   "outputs": [],
   "source": [
    "airline_passengers_data = pd.read_csv('airline-passengers.csv')"
   ]
  },
  {
   "cell_type": "code",
   "execution_count": 3,
   "id": "4d314b9a",
   "metadata": {},
   "outputs": [
    {
     "data": {
      "text/html": [
       "<div>\n",
       "<style scoped>\n",
       "    .dataframe tbody tr th:only-of-type {\n",
       "        vertical-align: middle;\n",
       "    }\n",
       "\n",
       "    .dataframe tbody tr th {\n",
       "        vertical-align: top;\n",
       "    }\n",
       "\n",
       "    .dataframe thead th {\n",
       "        text-align: right;\n",
       "    }\n",
       "</style>\n",
       "<table border=\"1\" class=\"dataframe\">\n",
       "  <thead>\n",
       "    <tr style=\"text-align: right;\">\n",
       "      <th></th>\n",
       "      <th>Month</th>\n",
       "      <th>Passengers</th>\n",
       "    </tr>\n",
       "  </thead>\n",
       "  <tbody>\n",
       "    <tr>\n",
       "      <th>0</th>\n",
       "      <td>1949-01</td>\n",
       "      <td>112</td>\n",
       "    </tr>\n",
       "    <tr>\n",
       "      <th>1</th>\n",
       "      <td>1949-02</td>\n",
       "      <td>118</td>\n",
       "    </tr>\n",
       "    <tr>\n",
       "      <th>2</th>\n",
       "      <td>1949-03</td>\n",
       "      <td>132</td>\n",
       "    </tr>\n",
       "    <tr>\n",
       "      <th>3</th>\n",
       "      <td>1949-04</td>\n",
       "      <td>129</td>\n",
       "    </tr>\n",
       "    <tr>\n",
       "      <th>4</th>\n",
       "      <td>1949-05</td>\n",
       "      <td>121</td>\n",
       "    </tr>\n",
       "  </tbody>\n",
       "</table>\n",
       "</div>"
      ],
      "text/plain": [
       "     Month  Passengers\n",
       "0  1949-01         112\n",
       "1  1949-02         118\n",
       "2  1949-03         132\n",
       "3  1949-04         129\n",
       "4  1949-05         121"
      ]
     },
     "execution_count": 3,
     "metadata": {},
     "output_type": "execute_result"
    }
   ],
   "source": [
    "airline_passengers_data.head()"
   ]
  },
  {
   "cell_type": "markdown",
   "id": "32a7d9a7",
   "metadata": {},
   "source": [
    "Сформируем отдельные признаки года и месяца. Изначальный столбец даты удалим"
   ]
  },
  {
   "cell_type": "code",
   "execution_count": 4,
   "id": "27eed13b",
   "metadata": {},
   "outputs": [],
   "source": [
    "airline_passengers_data['Month'] = pd.to_datetime(airline_passengers_data['Month'], format='%Y-%m')"
   ]
  },
  {
   "cell_type": "code",
   "execution_count": 5,
   "id": "6a5adbbf",
   "metadata": {},
   "outputs": [],
   "source": [
    "def parse_date(df, date_feature_name):\n",
    "    date_list = df[date_feature_name]\n",
    "    years = []\n",
    "    months = []\n",
    "    for el in date_list:\n",
    "        years.append(el.year)\n",
    "        months.append(el.month)\n",
    "    df['year'] = years\n",
    "    df['month'] = months\n",
    "\n",
    "    return df"
   ]
  },
  {
   "cell_type": "code",
   "execution_count": 6,
   "id": "ba144a2c",
   "metadata": {},
   "outputs": [],
   "source": [
    "airline_passengers_data = parse_date(airline_passengers_data, 'Month')"
   ]
  },
  {
   "cell_type": "code",
   "execution_count": 7,
   "id": "51cd17c6",
   "metadata": {},
   "outputs": [
    {
     "data": {
      "text/html": [
       "<div>\n",
       "<style scoped>\n",
       "    .dataframe tbody tr th:only-of-type {\n",
       "        vertical-align: middle;\n",
       "    }\n",
       "\n",
       "    .dataframe tbody tr th {\n",
       "        vertical-align: top;\n",
       "    }\n",
       "\n",
       "    .dataframe thead th {\n",
       "        text-align: right;\n",
       "    }\n",
       "</style>\n",
       "<table border=\"1\" class=\"dataframe\">\n",
       "  <thead>\n",
       "    <tr style=\"text-align: right;\">\n",
       "      <th></th>\n",
       "      <th>Passengers</th>\n",
       "      <th>year</th>\n",
       "      <th>month</th>\n",
       "    </tr>\n",
       "  </thead>\n",
       "  <tbody>\n",
       "    <tr>\n",
       "      <th>0</th>\n",
       "      <td>112</td>\n",
       "      <td>1949</td>\n",
       "      <td>1</td>\n",
       "    </tr>\n",
       "    <tr>\n",
       "      <th>1</th>\n",
       "      <td>118</td>\n",
       "      <td>1949</td>\n",
       "      <td>2</td>\n",
       "    </tr>\n",
       "    <tr>\n",
       "      <th>2</th>\n",
       "      <td>132</td>\n",
       "      <td>1949</td>\n",
       "      <td>3</td>\n",
       "    </tr>\n",
       "    <tr>\n",
       "      <th>3</th>\n",
       "      <td>129</td>\n",
       "      <td>1949</td>\n",
       "      <td>4</td>\n",
       "    </tr>\n",
       "    <tr>\n",
       "      <th>4</th>\n",
       "      <td>121</td>\n",
       "      <td>1949</td>\n",
       "      <td>5</td>\n",
       "    </tr>\n",
       "  </tbody>\n",
       "</table>\n",
       "</div>"
      ],
      "text/plain": [
       "   Passengers  year  month\n",
       "0         112  1949      1\n",
       "1         118  1949      2\n",
       "2         132  1949      3\n",
       "3         129  1949      4\n",
       "4         121  1949      5"
      ]
     },
     "execution_count": 7,
     "metadata": {},
     "output_type": "execute_result"
    }
   ],
   "source": [
    "data = airline_passengers_data.iloc[:, 1:]\n",
    "data.head()"
   ]
  },
  {
   "cell_type": "code",
   "execution_count": 8,
   "id": "241e93b4",
   "metadata": {},
   "outputs": [
    {
     "name": "stdout",
     "output_type": "stream",
     "text": [
      "<class 'pandas.core.frame.DataFrame'>\n",
      "RangeIndex: 144 entries, 0 to 143\n",
      "Data columns (total 3 columns):\n",
      " #   Column      Non-Null Count  Dtype\n",
      "---  ------      --------------  -----\n",
      " 0   Passengers  144 non-null    int64\n",
      " 1   year        144 non-null    int64\n",
      " 2   month       144 non-null    int64\n",
      "dtypes: int64(3)\n",
      "memory usage: 3.5 KB\n"
     ]
    }
   ],
   "source": [
    "data.info()"
   ]
  },
  {
   "cell_type": "markdown",
   "id": "dae6ddfe",
   "metadata": {},
   "source": [
    "Разбиение данных на тренировочную и валидационную выборки"
   ]
  },
  {
   "cell_type": "code",
   "execution_count": 9,
   "id": "10dc33e9",
   "metadata": {},
   "outputs": [
    {
     "data": {
      "text/plain": [
       "((100, 3), (39, 3))"
      ]
     },
     "execution_count": 9,
     "metadata": {},
     "output_type": "execute_result"
    }
   ],
   "source": [
    "train_size = 100\n",
    "\n",
    "\n",
    "# список признаков, по которым будем учить\n",
    "features = ['Passengers', 'year', 'month']\n",
    "\n",
    "\n",
    "# отступ теста от тренировки\n",
    "bias = 5\n",
    "\n",
    "\n",
    "# делим\n",
    "train_data = data.iloc[:train_size][features]\n",
    "val_data = data.iloc[train_size + bias:][features]\n",
    "\n",
    "train_data.shape, val_data.shape"
   ]
  },
  {
   "cell_type": "code",
   "execution_count": 10,
   "id": "79c0e46d",
   "metadata": {},
   "outputs": [],
   "source": [
    "# метки фичей и таргета\n",
    "features = train_data.columns[1:]\n",
    "target = train_data.columns[0]"
   ]
  },
  {
   "cell_type": "code",
   "execution_count": 11,
   "id": "03ecb4c6",
   "metadata": {},
   "outputs": [
    {
     "data": {
      "text/html": [
       "<div>\n",
       "<style scoped>\n",
       "    .dataframe tbody tr th:only-of-type {\n",
       "        vertical-align: middle;\n",
       "    }\n",
       "\n",
       "    .dataframe tbody tr th {\n",
       "        vertical-align: top;\n",
       "    }\n",
       "\n",
       "    .dataframe thead th {\n",
       "        text-align: right;\n",
       "    }\n",
       "</style>\n",
       "<table border=\"1\" class=\"dataframe\">\n",
       "  <thead>\n",
       "    <tr style=\"text-align: right;\">\n",
       "      <th></th>\n",
       "      <th>Passengers</th>\n",
       "      <th>year</th>\n",
       "      <th>month</th>\n",
       "    </tr>\n",
       "  </thead>\n",
       "  <tbody>\n",
       "    <tr>\n",
       "      <th>0</th>\n",
       "      <td>112</td>\n",
       "      <td>-1.525724</td>\n",
       "      <td>-1.534863</td>\n",
       "    </tr>\n",
       "    <tr>\n",
       "      <th>1</th>\n",
       "      <td>118</td>\n",
       "      <td>-1.525724</td>\n",
       "      <td>-1.247435</td>\n",
       "    </tr>\n",
       "    <tr>\n",
       "      <th>2</th>\n",
       "      <td>132</td>\n",
       "      <td>-1.525724</td>\n",
       "      <td>-0.960008</td>\n",
       "    </tr>\n",
       "    <tr>\n",
       "      <th>3</th>\n",
       "      <td>129</td>\n",
       "      <td>-1.525724</td>\n",
       "      <td>-0.672580</td>\n",
       "    </tr>\n",
       "    <tr>\n",
       "      <th>4</th>\n",
       "      <td>121</td>\n",
       "      <td>-1.525724</td>\n",
       "      <td>-0.385153</td>\n",
       "    </tr>\n",
       "  </tbody>\n",
       "</table>\n",
       "</div>"
      ],
      "text/plain": [
       "   Passengers      year     month\n",
       "0         112 -1.525724 -1.534863\n",
       "1         118 -1.525724 -1.247435\n",
       "2         132 -1.525724 -0.960008\n",
       "3         129 -1.525724 -0.672580\n",
       "4         121 -1.525724 -0.385153"
      ]
     },
     "execution_count": 11,
     "metadata": {},
     "output_type": "execute_result"
    }
   ],
   "source": [
    "# стандартизация\n",
    "scaler = StandardScaler()\n",
    "\n",
    "train_data[features] = scaler.fit_transform(train_data[features])\n",
    "val_data[features] = scaler.transform(val_data[features])\n",
    "\n",
    "train_data.head()"
   ]
  },
  {
   "cell_type": "markdown",
   "id": "3a3dc3e9",
   "metadata": {},
   "source": [
    "Параметры для генерации выборки"
   ]
  },
  {
   "cell_type": "code",
   "execution_count": 290,
   "id": "8ab5e5ac",
   "metadata": {},
   "outputs": [],
   "source": [
    "# длина истории\n",
    "x_len = 7\n",
    "\n",
    "# горизонт предсказания\n",
    "future = 1\n",
    "\n",
    "# параметры модели для обучения\n",
    "learning_rate = 0.00001\n",
    "batch_size = 8\n",
    "epochs = 100"
   ]
  },
  {
   "cell_type": "code",
   "execution_count": 291,
   "id": "c9b88808",
   "metadata": {},
   "outputs": [
    {
     "name": "stdout",
     "output_type": "stream",
     "text": [
      "8 108\n",
      "31 113\n"
     ]
    }
   ],
   "source": [
    "start = x_len + future\n",
    "end = start + train_size\n",
    "\n",
    "print(start, end)\n",
    "\n",
    "X_train = train_data[features].values\n",
    "y_train = data.iloc[start:end][target].values\n",
    "\n",
    "\n",
    "x_end = len(val_data) - x_len - future\n",
    "label_start = len(train_data) + bias + x_len + future\n",
    "print(x_end, label_start)\n",
    "\n",
    "X_val = val_data.iloc[:x_end][features].values\n",
    "y_val = data.iloc[label_start:][target].values"
   ]
  },
  {
   "cell_type": "code",
   "execution_count": 292,
   "id": "10f0d3f7",
   "metadata": {},
   "outputs": [
    {
     "data": {
      "text/plain": [
       "((100, 2), (100,), (31, 2), (31,))"
      ]
     },
     "execution_count": 292,
     "metadata": {},
     "output_type": "execute_result"
    }
   ],
   "source": [
    "X_train.shape, y_train.shape, X_val.shape, y_val.shape"
   ]
  },
  {
   "cell_type": "markdown",
   "id": "782ca35d",
   "metadata": {},
   "source": [
    "Визуализация данных"
   ]
  },
  {
   "cell_type": "code",
   "execution_count": 293,
   "id": "d6810f36",
   "metadata": {},
   "outputs": [
    {
     "data": {
      "image/png": "[encoded data removed]",
      "text/plain": [
       "<Figure size 1000x500 with 1 Axes>"
      ]
     },
     "metadata": {},
     "output_type": "display_data"
    }
   ],
   "source": [
    "plt.figure(figsize=(10, 5))\n",
    "plt.plot(data.index[x_len:y_train.shape[0]+x_len],y_train[:])\n",
    "plt.plot(data.index[y_train.shape[0]+x_len+bias+future:],y_val[:])\n",
    "plt.grid('on')\n",
    "plt.xlabel('months')\n",
    "plt.ylabel('passengers')\n",
    "plt.title('airline passengers by monts')\n",
    "plt.show()"
   ]
  },
  {
   "cell_type": "markdown",
   "id": "9242bc22",
   "metadata": {},
   "source": [
    "Приведение данных в формат тензора"
   ]
  },
  {
   "cell_type": "code",
   "execution_count": 294,
   "id": "a2f989f1",
   "metadata": {},
   "outputs": [],
   "source": [
    "dataset_train = timeseries_dataset_from_array(\n",
    "    X_train,\n",
    "    y_train,\n",
    "    sequence_length=x_len,\n",
    "    sampling_rate=1,\n",
    "    batch_size=batch_size,\n",
    ")\n",
    "\n",
    "dataset_val = timeseries_dataset_from_array(\n",
    "    X_val,\n",
    "    y_val,\n",
    "    sequence_length=x_len,\n",
    "    sampling_rate=1,\n",
    "    batch_size=batch_size,\n",
    ")"
   ]
  },
  {
   "cell_type": "code",
   "execution_count": 295,
   "id": "80dcc4c2",
   "metadata": {},
   "outputs": [
    {
     "name": "stdout",
     "output_type": "stream",
     "text": [
      "Input shape: (8, 7, 2)\n",
      "tf.Tensor(\n",
      "[[-1.52572369 -1.24743549]\n",
      " [-1.52572369 -0.96000796]\n",
      " [-1.52572369 -0.67258043]\n",
      " [-1.52572369 -0.38515289]\n",
      " [-1.52572369 -0.09772536]\n",
      " [-1.52572369  0.18970217]\n",
      " [-1.52572369  0.4771297 ]], shape=(7, 2), dtype=float64)\n",
      "Target shape: (8,)\n",
      "tf.Tensor(119, shape=(), dtype=int64)\n"
     ]
    }
   ],
   "source": [
    "for batch in dataset_train.take(1):\n",
    "    inputs, targets = batch\n",
    "    print(\"Input shape:\", inputs.shape)\n",
    "    print(inputs[1])\n",
    "    print(\"Target shape:\", targets.shape)\n",
    "    print(targets[1])"
   ]
  },
  {
   "cell_type": "markdown",
   "id": "6c639424",
   "metadata": {},
   "source": [
    "Для получения наилучшего результата возьмём LSTM model"
   ]
  },
  {
   "cell_type": "code",
   "execution_count": 296,
   "id": "da456809",
   "metadata": {},
   "outputs": [],
   "source": [
    "#контейнеры результатов\n",
    "results = pd.DataFrame() # сводная таблица результатов\n",
    "model = [] # шаг\n",
    "train_m = [] # результат на трейне\n",
    "test_m = [] # результат на тесте"
   ]
  },
  {
   "cell_type": "code",
   "execution_count": 320,
   "id": "e26e88d4",
   "metadata": {},
   "outputs": [
    {
     "name": "stdout",
     "output_type": "stream",
     "text": [
      "Model: \"sequential_66\"\n",
      "_________________________________________________________________\n",
      " Layer (type)                Output Shape              Param #   \n",
      "=================================================================\n",
      " lstm_135 (LSTM)             (None, 7, 32)             4480      \n",
      "                                                                 \n",
      " lstm_136 (LSTM)             (None, 7, 32)             8320      \n",
      "                                                                 \n",
      " conv1d_133 (Conv1D)         (None, 7, 64)             6208      \n",
      "                                                                 \n",
      " conv1d_134 (Conv1D)         (None, 5, 64)             12352     \n",
      "                                                                 \n",
      " conv1d_135 (Conv1D)         (None, 3, 64)             12352     \n",
      "                                                                 \n",
      " flatten_64 (Flatten)        (None, 192)               0         \n",
      "                                                                 \n",
      " dense_128 (Dense)           (None, 128)               24704     \n",
      "                                                                 \n",
      " dense_129 (Dense)           (None, 1)                 129       \n",
      "                                                                 \n",
      "=================================================================\n",
      "Total params: 68,545\n",
      "Trainable params: 68,545\n",
      "Non-trainable params: 0\n",
      "_________________________________________________________________\n"
     ]
    }
   ],
   "source": [
    "#Сборка модели\n",
    "early_stop = EarlyStopping(monitor='val_mae', patience=3)\n",
    "\n",
    "model_1 = Sequential()\n",
    "\n",
    "model_1.add(LSTM(32, input_shape=(inputs.shape[1], inputs.shape[2]), return_sequences=True))\n",
    "model_1.add(LSTM(32, return_sequences=True))\n",
    "model_1.add(Conv1D(64, 3, activation='linear', padding='same'))\n",
    "model_1.add(Conv1D(64, 3, activation='linear'))\n",
    "model_1.add(Conv1D(64, 3, activation='linear'))\n",
    "model_1.add(Flatten())\n",
    "model_1.add(Dense(128, activation='linear'))\n",
    "model_1.add(Dense(1, activation='linear'))\n",
    "\n",
    "model_1.compile(loss='mse', optimizer='adam', metrics=['mae'])\n",
    "model_1.summary()"
   ]
  },
  {
   "cell_type": "code",
   "execution_count": 321,
   "id": "060e76e6",
   "metadata": {
    "scrolled": false
   },
   "outputs": [
    {
     "name": "stdout",
     "output_type": "stream",
     "text": [
      "Epoch 1/100\n",
      "12/12 [==============================] - 7s 159ms/step - loss: 58470.5625 - mae: 229.5973 - val_loss: 188139.4531 - val_mae: 428.7779\n",
      "Epoch 2/100\n",
      "12/12 [==============================] - 0s 37ms/step - loss: 54846.6289 - mae: 222.3720 - val_loss: 172056.2344 - val_mae: 409.6140\n",
      "Epoch 3/100\n",
      "12/12 [==============================] - 0s 36ms/step - loss: 15481.4619 - mae: 119.8816 - val_loss: 9588.7529 - val_mae: 79.8285\n",
      "Epoch 4/100\n",
      "12/12 [==============================] - 0s 40ms/step - loss: 40935.5469 - mae: 151.2044 - val_loss: 29822.3555 - val_mae: 159.9723\n",
      "Epoch 5/100\n",
      "12/12 [==============================] - 0s 37ms/step - loss: 6669.0850 - mae: 73.8872 - val_loss: 5218.4648 - val_mae: 56.8397\n",
      "Epoch 6/100\n",
      "12/12 [==============================] - 0s 37ms/step - loss: 4541.5674 - mae: 59.2648 - val_loss: 15294.7910 - val_mae: 107.8549\n",
      "Epoch 7/100\n",
      "12/12 [==============================] - 0s 42ms/step - loss: 1669.4169 - mae: 33.5991 - val_loss: 4059.0376 - val_mae: 49.8545\n",
      "Epoch 8/100\n",
      "12/12 [==============================] - 0s 41ms/step - loss: 846.5035 - mae: 23.4861 - val_loss: 3686.1729 - val_mae: 51.5795\n",
      "Epoch 9/100\n",
      "12/12 [==============================] - 0s 37ms/step - loss: 739.3500 - mae: 21.3885 - val_loss: 3462.0042 - val_mae: 47.6309\n",
      "Epoch 10/100\n",
      "12/12 [==============================] - 0s 37ms/step - loss: 708.5000 - mae: 20.2617 - val_loss: 3422.2998 - val_mae: 47.0796\n",
      "Epoch 11/100\n",
      "12/12 [==============================] - 0s 36ms/step - loss: 664.0535 - mae: 20.3910 - val_loss: 3298.1660 - val_mae: 47.8402\n",
      "Epoch 12/100\n",
      "12/12 [==============================] - 0s 39ms/step - loss: 628.8334 - mae: 19.3782 - val_loss: 3194.8943 - val_mae: 46.4290\n",
      "Epoch 13/100\n",
      "12/12 [==============================] - 0s 37ms/step - loss: 601.8220 - mae: 19.3017 - val_loss: 3093.2800 - val_mae: 46.1379\n",
      "Epoch 14/100\n",
      "12/12 [==============================] - 1s 48ms/step - loss: 575.0687 - mae: 18.7332 - val_loss: 2983.2844 - val_mae: 44.9152\n",
      "Epoch 15/100\n",
      "12/12 [==============================] - 1s 43ms/step - loss: 550.8438 - mae: 18.4415 - val_loss: 2879.8091 - val_mae: 44.1210\n",
      "Epoch 16/100\n",
      "12/12 [==============================] - 1s 51ms/step - loss: 526.6227 - mae: 18.0009 - val_loss: 2776.7961 - val_mae: 43.1237\n",
      "Epoch 17/100\n",
      "12/12 [==============================] - 1s 43ms/step - loss: 503.9942 - mae: 17.6698 - val_loss: 2674.3870 - val_mae: 42.2687\n",
      "Epoch 18/100\n",
      "12/12 [==============================] - 1s 44ms/step - loss: 481.8216 - mae: 17.2611 - val_loss: 2572.1570 - val_mae: 41.4019\n",
      "Epoch 19/100\n",
      "12/12 [==============================] - 0s 37ms/step - loss: 461.4694 - mae: 16.9193 - val_loss: 2471.1489 - val_mae: 40.5541\n",
      "Epoch 20/100\n",
      "12/12 [==============================] - 0s 37ms/step - loss: 441.8448 - mae: 16.5899 - val_loss: 2371.6208 - val_mae: 39.6737\n",
      "Epoch 21/100\n",
      "12/12 [==============================] - 0s 38ms/step - loss: 424.2728 - mae: 16.3091 - val_loss: 2274.7026 - val_mae: 38.8092\n",
      "Epoch 22/100\n",
      "12/12 [==============================] - 1s 47ms/step - loss: 407.5174 - mae: 16.0111 - val_loss: 2180.2568 - val_mae: 37.9337\n",
      "Epoch 23/100\n",
      "12/12 [==============================] - 0s 39ms/step - loss: 393.0382 - mae: 15.7627 - val_loss: 2089.6001 - val_mae: 37.0748\n",
      "Epoch 24/100\n",
      "12/12 [==============================] - 1s 43ms/step - loss: 379.2981 - mae: 15.4826 - val_loss: 2002.4017 - val_mae: 36.2226\n",
      "Epoch 25/100\n",
      "12/12 [==============================] - 0s 40ms/step - loss: 367.9899 - mae: 15.2576 - val_loss: 1920.0815 - val_mae: 35.3911\n",
      "Epoch 26/100\n",
      "12/12 [==============================] - 0s 37ms/step - loss: 357.1490 - mae: 15.0365 - val_loss: 1842.1283 - val_mae: 34.5847\n",
      "Epoch 27/100\n",
      "12/12 [==============================] - 0s 39ms/step - loss: 348.8188 - mae: 14.8422 - val_loss: 1769.6505 - val_mae: 33.8032\n",
      "Epoch 28/100\n",
      "12/12 [==============================] - 0s 39ms/step - loss: 340.5119 - mae: 14.6475 - val_loss: 1702.3391 - val_mae: 33.0645\n",
      "Epoch 29/100\n",
      "12/12 [==============================] - 0s 38ms/step - loss: 334.7337 - mae: 14.4927 - val_loss: 1640.3030 - val_mae: 32.3518\n",
      "Epoch 30/100\n",
      "12/12 [==============================] - 1s 45ms/step - loss: 328.4289 - mae: 14.3251 - val_loss: 1584.2617 - val_mae: 31.6972\n",
      "Epoch 31/100\n",
      "12/12 [==============================] - 0s 38ms/step - loss: 324.6316 - mae: 14.2024 - val_loss: 1532.2405 - val_mae: 31.1336\n",
      "Epoch 32/100\n",
      "12/12 [==============================] - 0s 39ms/step - loss: 319.7625 - mae: 14.1083 - val_loss: 1487.3080 - val_mae: 30.7016\n",
      "Epoch 33/100\n",
      "12/12 [==============================] - 0s 37ms/step - loss: 317.3457 - mae: 14.0185 - val_loss: 1444.0089 - val_mae: 30.2112\n",
      "Epoch 34/100\n",
      "12/12 [==============================] - 1s 45ms/step - loss: 313.4343 - mae: 13.9474 - val_loss: 1409.3391 - val_mae: 29.8908\n",
      "Epoch 35/100\n",
      "12/12 [==============================] - 0s 42ms/step - loss: 311.8546 - mae: 13.8989 - val_loss: 1373.0238 - val_mae: 29.5202\n",
      "Epoch 36/100\n",
      "12/12 [==============================] - 1s 44ms/step - loss: 308.5799 - mae: 13.8249 - val_loss: 1347.1936 - val_mae: 29.3599\n",
      "Epoch 37/100\n",
      "12/12 [==============================] - 0s 37ms/step - loss: 307.3985 - mae: 13.8057 - val_loss: 1316.2152 - val_mae: 29.0383\n",
      "Epoch 38/100\n",
      "12/12 [==============================] - 0s 37ms/step - loss: 304.5935 - mae: 13.7272 - val_loss: 1297.3208 - val_mae: 28.9233\n",
      "Epoch 39/100\n",
      "12/12 [==============================] - 0s 37ms/step - loss: 303.4966 - mae: 13.7130 - val_loss: 1270.5603 - val_mae: 28.6371\n",
      "Epoch 40/100\n",
      "12/12 [==============================] - 0s 39ms/step - loss: 301.0952 - mae: 13.6415 - val_loss: 1256.3584 - val_mae: 28.5449\n",
      "Epoch 41/100\n",
      "12/12 [==============================] - 0s 36ms/step - loss: 299.9001 - mae: 13.6214 - val_loss: 1233.3558 - val_mae: 28.2974\n",
      "Epoch 42/100\n",
      "12/12 [==============================] - 1s 43ms/step - loss: 297.8637 - mae: 13.5594 - val_loss: 1221.5941 - val_mae: 28.2335\n",
      "Epoch 43/100\n",
      "12/12 [==============================] - 0s 41ms/step - loss: 296.5117 - mae: 13.5315 - val_loss: 1202.2666 - val_mae: 28.0221\n",
      "Epoch 44/100\n",
      "12/12 [==============================] - 1s 55ms/step - loss: 294.7711 - mae: 13.4793 - val_loss: 1191.1635 - val_mae: 27.9754\n",
      "Epoch 45/100\n",
      "12/12 [==============================] - 1s 52ms/step - loss: 293.2985 - mae: 13.4444 - val_loss: 1175.2828 - val_mae: 27.8136\n",
      "Epoch 46/100\n",
      "12/12 [==============================] - 0s 42ms/step - loss: 291.7440 - mae: 13.4027 - val_loss: 1163.9583 - val_mae: 27.7341\n",
      "Epoch 47/100\n",
      "12/12 [==============================] - 1s 43ms/step - loss: 290.2290 - mae: 13.3652 - val_loss: 1150.7928 - val_mae: 27.6089\n",
      "Epoch 48/100\n",
      "12/12 [==============================] - 1s 49ms/step - loss: 288.7520 - mae: 13.3285 - val_loss: 1139.2872 - val_mae: 27.5082\n",
      "Epoch 49/100\n",
      "12/12 [==============================] - 0s 41ms/step - loss: 287.2582 - mae: 13.2915 - val_loss: 1127.7607 - val_mae: 27.4005\n",
      "Epoch 50/100\n",
      "12/12 [==============================] - 1s 44ms/step - loss: 285.7992 - mae: 13.2550 - val_loss: 1116.5388 - val_mae: 27.2931\n",
      "Epoch 51/100\n",
      "12/12 [==============================] - 1s 42ms/step - loss: 284.3447 - mae: 13.2185 - val_loss: 1105.7622 - val_mae: 27.1888\n",
      "Epoch 52/100\n",
      "12/12 [==============================] - 1s 41ms/step - loss: 282.8972 - mae: 13.1830 - val_loss: 1095.1128 - val_mae: 27.0823\n",
      "Epoch 53/100\n",
      "12/12 [==============================] - 1s 49ms/step - loss: 281.4670 - mae: 13.1493 - val_loss: 1084.7303 - val_mae: 26.9767\n",
      "Epoch 54/100\n",
      "12/12 [==============================] - 0s 42ms/step - loss: 280.0413 - mae: 13.1155 - val_loss: 1074.5908 - val_mae: 26.8714\n",
      "Epoch 55/100\n",
      "12/12 [==============================] - 0s 41ms/step - loss: 278.6240 - mae: 13.0816 - val_loss: 1064.6166 - val_mae: 26.7654\n",
      "Epoch 56/100\n",
      "12/12 [==============================] - 0s 38ms/step - loss: 277.2173 - mae: 13.0490 - val_loss: 1054.8560 - val_mae: 26.6597\n",
      "Epoch 57/100\n",
      "12/12 [==============================] - 1s 48ms/step - loss: 275.8153 - mae: 13.0172 - val_loss: 1045.3019 - val_mae: 26.5541\n",
      "Epoch 58/100\n",
      "12/12 [==============================] - 1s 42ms/step - loss: 274.4194 - mae: 12.9852 - val_loss: 1035.9248 - val_mae: 26.4482\n",
      "Epoch 59/100\n"
     ]
    },
    {
     "name": "stdout",
     "output_type": "stream",
     "text": [
      "12/12 [==============================] - 0s 40ms/step - loss: 273.0310 - mae: 12.9531 - val_loss: 1026.7524 - val_mae: 26.3425\n",
      "Epoch 60/100\n",
      "12/12 [==============================] - 0s 37ms/step - loss: 271.6457 - mae: 12.9206 - val_loss: 1017.7859 - val_mae: 26.2369\n",
      "Epoch 61/100\n",
      "12/12 [==============================] - 0s 38ms/step - loss: 270.2645 - mae: 12.8879 - val_loss: 1009.0145 - val_mae: 26.1312\n",
      "Epoch 62/100\n",
      "12/12 [==============================] - 0s 37ms/step - loss: 268.8887 - mae: 12.8550 - val_loss: 1000.4511 - val_mae: 26.0256\n",
      "Epoch 63/100\n",
      "12/12 [==============================] - 1s 47ms/step - loss: 267.5139 - mae: 12.8218 - val_loss: 992.1135 - val_mae: 25.9203\n",
      "Epoch 64/100\n",
      "12/12 [==============================] - 1s 45ms/step - loss: 266.1412 - mae: 12.7883 - val_loss: 983.9835 - val_mae: 25.8149\n",
      "Epoch 65/100\n",
      "12/12 [==============================] - 0s 37ms/step - loss: 264.7718 - mae: 12.7545 - val_loss: 976.0807 - val_mae: 25.7098\n",
      "Epoch 66/100\n",
      "12/12 [==============================] - 0s 35ms/step - loss: 263.4017 - mae: 12.7211 - val_loss: 968.4178 - val_mae: 25.6048\n",
      "Epoch 67/100\n",
      "12/12 [==============================] - 0s 36ms/step - loss: 262.0316 - mae: 12.6899 - val_loss: 960.9864 - val_mae: 25.5000\n",
      "Epoch 68/100\n",
      "12/12 [==============================] - 0s 35ms/step - loss: 260.6636 - mae: 12.6583 - val_loss: 953.7964 - val_mae: 25.3954\n",
      "Epoch 69/100\n",
      "12/12 [==============================] - 1s 44ms/step - loss: 259.2931 - mae: 12.6264 - val_loss: 946.8696 - val_mae: 25.2910\n",
      "Epoch 70/100\n",
      "12/12 [==============================] - 0s 37ms/step - loss: 257.9205 - mae: 12.5948 - val_loss: 940.1978 - val_mae: 25.1869\n",
      "Epoch 71/100\n",
      "12/12 [==============================] - 1s 44ms/step - loss: 256.5490 - mae: 12.5714 - val_loss: 933.7806 - val_mae: 25.0829\n",
      "Epoch 72/100\n",
      "12/12 [==============================] - 0s 41ms/step - loss: 255.1743 - mae: 12.5503 - val_loss: 927.6526 - val_mae: 24.9793\n",
      "Epoch 73/100\n",
      "12/12 [==============================] - 1s 52ms/step - loss: 253.7945 - mae: 12.5288 - val_loss: 921.8074 - val_mae: 24.8760\n",
      "Epoch 74/100\n",
      "12/12 [==============================] - 0s 35ms/step - loss: 252.4159 - mae: 12.5069 - val_loss: 916.2346 - val_mae: 24.7729\n",
      "Epoch 75/100\n",
      "12/12 [==============================] - 1s 51ms/step - loss: 251.0339 - mae: 12.4846 - val_loss: 910.9707 - val_mae: 24.6703\n",
      "Epoch 76/100\n",
      "12/12 [==============================] - 0s 37ms/step - loss: 249.6441 - mae: 12.4617 - val_loss: 906.0346 - val_mae: 24.5681\n",
      "Epoch 77/100\n",
      "12/12 [==============================] - 0s 37ms/step - loss: 248.2551 - mae: 12.4385 - val_loss: 901.3851 - val_mae: 24.4662\n",
      "Epoch 78/100\n",
      "12/12 [==============================] - 0s 37ms/step - loss: 246.8652 - mae: 12.4148 - val_loss: 897.0589 - val_mae: 24.3647\n",
      "Epoch 79/100\n",
      "12/12 [==============================] - 0s 38ms/step - loss: 245.4640 - mae: 12.3904 - val_loss: 893.1174 - val_mae: 24.2641\n",
      "Epoch 80/100\n",
      "12/12 [==============================] - 0s 41ms/step - loss: 244.0623 - mae: 12.3654 - val_loss: 889.4924 - val_mae: 24.1639\n",
      "Epoch 81/100\n",
      "12/12 [==============================] - 1s 42ms/step - loss: 242.6647 - mae: 12.3402 - val_loss: 886.1857 - val_mae: 24.0640\n",
      "Epoch 82/100\n",
      "12/12 [==============================] - 0s 42ms/step - loss: 241.2534 - mae: 12.3141 - val_loss: 883.3336 - val_mae: 23.9653\n",
      "Epoch 83/100\n",
      "12/12 [==============================] - 0s 38ms/step - loss: 239.8374 - mae: 12.2873 - val_loss: 880.8591 - val_mae: 23.8675\n",
      "Epoch 84/100\n",
      "12/12 [==============================] - 0s 38ms/step - loss: 238.4342 - mae: 12.2603 - val_loss: 878.6616 - val_mae: 23.7806\n",
      "Epoch 85/100\n",
      "12/12 [==============================] - 0s 38ms/step - loss: 237.0181 - mae: 12.2324 - val_loss: 876.9712 - val_mae: 23.7163\n",
      "Epoch 86/100\n",
      "12/12 [==============================] - 0s 42ms/step - loss: 235.5864 - mae: 12.2034 - val_loss: 875.8060 - val_mae: 23.6537\n",
      "Epoch 87/100\n",
      "12/12 [==============================] - 0s 37ms/step - loss: 234.1776 - mae: 12.1744 - val_loss: 874.8513 - val_mae: 23.5897\n",
      "Epoch 88/100\n",
      "12/12 [==============================] - 0s 40ms/step - loss: 232.7684 - mae: 12.1448 - val_loss: 874.3528 - val_mae: 23.5266\n",
      "Epoch 89/100\n",
      "12/12 [==============================] - 1s 43ms/step - loss: 231.3238 - mae: 12.1135 - val_loss: 874.6456 - val_mae: 23.4674\n",
      "Epoch 90/100\n",
      "12/12 [==============================] - 0s 37ms/step - loss: 229.9041 - mae: 12.0820 - val_loss: 875.1644 - val_mae: 23.4072\n",
      "Epoch 91/100\n",
      "12/12 [==============================] - 0s 37ms/step - loss: 228.5164 - mae: 12.0508 - val_loss: 875.8499 - val_mae: 23.3452\n",
      "Epoch 92/100\n",
      "12/12 [==============================] - 1s 44ms/step - loss: 227.0744 - mae: 12.0174 - val_loss: 877.6305 - val_mae: 23.3066\n",
      "Epoch 93/100\n",
      "12/12 [==============================] - 0s 37ms/step - loss: 225.6300 - mae: 11.9827 - val_loss: 880.0011 - val_mae: 23.2809\n",
      "Epoch 94/100\n",
      "12/12 [==============================] - 0s 36ms/step - loss: 224.2713 - mae: 11.9496 - val_loss: 881.9572 - val_mae: 23.2618\n",
      "Epoch 95/100\n",
      "12/12 [==============================] - 0s 37ms/step - loss: 222.8702 - mae: 11.9150 - val_loss: 884.9539 - val_mae: 23.3406\n",
      "Epoch 96/100\n",
      "12/12 [==============================] - 0s 39ms/step - loss: 221.3915 - mae: 11.8767 - val_loss: 889.5770 - val_mae: 23.4532\n",
      "Epoch 97/100\n",
      "12/12 [==============================] - 0s 41ms/step - loss: 220.0371 - mae: 11.8406 - val_loss: 893.3521 - val_mae: 23.5452\n"
     ]
    }
   ],
   "source": [
    "#обучение\n",
    "history1 = model_1.fit(dataset_train,\n",
    "                    epochs=epochs,\n",
    "                    validation_data=dataset_val,\n",
    "                    callbacks=[early_stop])"
   ]
  },
  {
   "cell_type": "code",
   "execution_count": 322,
   "id": "e310871f",
   "metadata": {},
   "outputs": [
    {
     "data": {
      "image/png": "[encoded data removed]",
      "text/plain": [
       "<Figure size 640x480 with 1 Axes>"
      ]
     },
     "metadata": {},
     "output_type": "display_data"
    }
   ],
   "source": [
    "plt.plot(history1.history['mae'][:], \n",
    "         label='MAE на обучающем наборе')\n",
    "plt.plot(history1.history['val_mae'][:], \n",
    "         label='MAE на проверочном наборе')\n",
    "\n",
    "plt.ylabel('Средняя ошибка')\n",
    "plt.legend()\n",
    "plt.show()"
   ]
  },
  {
   "cell_type": "markdown",
   "id": "f5a829e5",
   "metadata": {},
   "source": [
    "Предсказания модели"
   ]
  },
  {
   "cell_type": "code",
   "execution_count": 323,
   "id": "4a5d5ce5",
   "metadata": {},
   "outputs": [
    {
     "name": "stdout",
     "output_type": "stream",
     "text": [
      "12/12 [==============================] - 2s 18ms/step\n",
      "4/4 [==============================] - 0s 13ms/step\n"
     ]
    }
   ],
   "source": [
    "pred1 = model_1.predict(dataset_train).flatten()\n",
    "pred_val1 = model_1.predict(dataset_val).flatten()"
   ]
  },
  {
   "cell_type": "code",
   "execution_count": 324,
   "id": "ebe8f035",
   "metadata": {},
   "outputs": [
    {
     "data": {
      "image/png": "[encoded data removed]",
      "text/plain": [
       "<Figure size 1000x500 with 1 Axes>"
      ]
     },
     "metadata": {},
     "output_type": "display_data"
    }
   ],
   "source": [
    "start = 0\n",
    "\n",
    "plt.figure(figsize=(10, 5))\n",
    "plt.grid('on')\n",
    "plt.plot(pred1[future + start: future + train_size], \n",
    "         label='Прогноз')\n",
    "plt.plot(y_train.flatten()[start: train_size], \n",
    "         label='Базовый ряд')\n",
    "plt.xlabel('Время')\n",
    "plt.ylabel('Значение')\n",
    "plt.legend()\n",
    "plt.show()"
   ]
  },
  {
   "cell_type": "code",
   "execution_count": 325,
   "id": "6aa2ab15",
   "metadata": {},
   "outputs": [
    {
     "name": "stdout",
     "output_type": "stream",
     "text": [
      "12/12 [==============================] - 0s 17ms/step - loss: 191.9176 - mae: 10.9294\n",
      "4/4 [==============================] - 0s 16ms/step - loss: 893.3521 - mae: 23.5452\n",
      "train_loss: 191.91763305664062, train_m: 10.929368019104004\n",
      "test_loss: 893.35205078125, test_m: 23.545236587524414\n"
     ]
    }
   ],
   "source": [
    "train_loss_1, train_m_1 = model_1.evaluate(dataset_train)\n",
    "test_loss_1, test_m_1 = model_1.evaluate(dataset_val)\n",
    "print(f'train_loss: {train_loss_1}, train_m: {train_m_1}')\n",
    "print(f'test_loss: {test_loss_1}, test_m: {test_m_1}')"
   ]
  },
  {
   "cell_type": "markdown",
   "id": "daac3ae0",
   "metadata": {},
   "source": [
    "### Выводы:\n",
    "* Для исследования выбрана модель LSTM\n",
    "* Оптимальными параметрами стали: длина истории - 7, размер батча - 8, learning_rate = 0.00001\n",
    "* Количество эпох для достижения оптимального результата - 100\n",
    "* Модель LSTM была модифицирована: добавлены 3 свёрточных слоя Conv1D с количеством нейронов 64, линейной активацией и размером ядра - 3, которые постепенно сворачивали исходные данные. Для первого свёрточного слоя был применён параметр padding, для сохранения большего числа информации при передади на свёрточные слои\n",
    "* Была также увеличена ширина плотного слоя сети до 128 нейронов. Это заставило уменьшить значение learning_rate для более стабильной работы\n",
    "* При большем количестве эпох обучения модель либо перестаёт снижать контрольную ошибку, либо значение ошибки на тестовой выборке начинает расти, что говорит об переобучении    "
   ]
  },
  {
   "cell_type": "markdown",
   "id": "038ef0fe",
   "metadata": {},
   "source": [
    "### Предложите свои варианты решения проблемы исчезающего градиента в RNN\n",
    "* Для решения проблемы исчезающего градиента в сетях типа RNN могут использоваться сети типа LSTM и GRU, в которых решена проблема затухания градиента благодаря наличию кандитаеного сигнала, который не затухает и изменяется посредством гейтов. "
   ]
  },
  {
   "cell_type": "markdown",
   "id": "036fd7a1",
   "metadata": {},
   "source": [
    "### Генерация текста"
   ]
  },
  {
   "cell_type": "code",
   "execution_count": 2,
   "id": "f13862d7",
   "metadata": {},
   "outputs": [
    {
     "data": {
      "text/plain": [
       "['\\tsonnets',\n",
       " '',\n",
       " '',\n",
       " '',\n",
       " 'to the only begetter of',\n",
       " 'these insuing sonnets',\n",
       " 'mr. w. h. all happiness',\n",
       " 'and that eternity',\n",
       " 'promised by',\n",
       " 'our ever-living poet wisheth']"
      ]
     },
     "execution_count": 2,
     "metadata": {},
     "output_type": "execute_result"
    }
   ],
   "source": [
    "# Читаем текст\n",
    "data = open('sonnets.txt').read()\n",
    "corpus = data.lower().split(\"\\n\")\n",
    "corpus[:10]"
   ]
  },
  {
   "cell_type": "code",
   "execution_count": 3,
   "id": "79dfbcc8",
   "metadata": {},
   "outputs": [],
   "source": [
    "# Создаем объект для токенизации\n",
    "total_words = 1000\n",
    "tokenizer = Tokenizer(num_words=total_words)\n",
    "tokenizer.fit_on_texts(corpus)"
   ]
  },
  {
   "cell_type": "code",
   "execution_count": 4,
   "id": "7f999b80",
   "metadata": {},
   "outputs": [
    {
     "name": "stdout",
     "output_type": "stream",
     "text": [
      "\tsonnets\n",
      "[[2, 134, 516, 13, 17, 457, 254, 69]]\n",
      "34 418\n"
     ]
    }
   ],
   "source": [
    "print(corpus[0])\n",
    "print(tokenizer.texts_to_sequences([corpus[2451]]))\n",
    "print(tokenizer.word_index['from'], tokenizer.word_index['fairest'])"
   ]
  },
  {
   "cell_type": "code",
   "execution_count": 5,
   "id": "3bc39a68",
   "metadata": {},
   "outputs": [
    {
     "data": {
      "text/plain": [
       "[[3, 2],\n",
       " [3, 2, 313],\n",
       " [3, 2, 313, 4],\n",
       " [118, 878],\n",
       " [1, 8],\n",
       " [1, 8, 517],\n",
       " [126, 186],\n",
       " [126, 186, 278],\n",
       " [126, 186, 278, 635],\n",
       " [2, 98]]"
      ]
     },
     "execution_count": 5,
     "metadata": {},
     "output_type": "execute_result"
    }
   ],
   "source": [
    "# создадим последовательность токенов\n",
    "input_sequences = []\n",
    "for line in corpus:\n",
    "\ttoken_list = tokenizer.texts_to_sequences([line])[0]\n",
    "\tfor i in range(1, len(token_list)):\n",
    "\t\tsequence = token_list[:i+1]\n",
    "\t\tinput_sequences.append(sequence)\n",
    "input_sequences[:10]"
   ]
  },
  {
   "cell_type": "code",
   "execution_count": 6,
   "id": "d8c326af",
   "metadata": {},
   "outputs": [
    {
     "name": "stdout",
     "output_type": "stream",
     "text": [
      "11\n"
     ]
    },
    {
     "data": {
      "text/plain": [
       "array([[  0,   0,   0,   0,   0,   0,   0,   0,   0,   3,   2],\n",
       "       [  0,   0,   0,   0,   0,   0,   0,   0,   3,   2, 313],\n",
       "       [  0,   0,   0,   0,   0,   0,   0,   3,   2, 313,   4],\n",
       "       [  0,   0,   0,   0,   0,   0,   0,   0,   0, 118, 878],\n",
       "       [  0,   0,   0,   0,   0,   0,   0,   0,   0,   1,   8],\n",
       "       [  0,   0,   0,   0,   0,   0,   0,   0,   1,   8, 517],\n",
       "       [  0,   0,   0,   0,   0,   0,   0,   0,   0, 126, 186],\n",
       "       [  0,   0,   0,   0,   0,   0,   0,   0, 126, 186, 278],\n",
       "       [  0,   0,   0,   0,   0,   0,   0, 126, 186, 278, 635],\n",
       "       [  0,   0,   0,   0,   0,   0,   0,   0,   0,   2,  98]])"
      ]
     },
     "execution_count": 6,
     "metadata": {},
     "output_type": "execute_result"
    }
   ],
   "source": [
    "# pad sequences \n",
    "max_sequence_len = max([len(x) for x in input_sequences])\n",
    "print(max_sequence_len)\n",
    "input_sequences = np.array(pad_sequences(input_sequences, maxlen=max_sequence_len, padding='pre'))\n",
    "input_sequences[:10]"
   ]
  },
  {
   "cell_type": "code",
   "execution_count": 7,
   "id": "98d99695",
   "metadata": {},
   "outputs": [
    {
     "data": {
      "text/plain": [
       "(12887, 1000)"
      ]
     },
     "execution_count": 7,
     "metadata": {},
     "output_type": "execute_result"
    }
   ],
   "source": [
    "predictors, label = input_sequences[:,:-1], input_sequences[:,-1]\n",
    "\n",
    "label = to_categorical(label, num_classes=total_words)\n",
    "label.shape"
   ]
  },
  {
   "cell_type": "markdown",
   "id": "855b6039",
   "metadata": {},
   "source": [
    "Создание сети"
   ]
  },
  {
   "cell_type": "code",
   "execution_count": 23,
   "id": "e8ccc553",
   "metadata": {},
   "outputs": [
    {
     "name": "stdout",
     "output_type": "stream",
     "text": [
      "Model: \"sequential_7\"\n",
      "_________________________________________________________________\n",
      " Layer (type)                Output Shape              Param #   \n",
      "=================================================================\n",
      " embedding_7 (Embedding)     (None, 10, 1024)          1024000   \n",
      "                                                                 \n",
      " bidirectional_14 (Bidirecti  (None, 10, 1024)         6295552   \n",
      " onal)                                                           \n",
      "                                                                 \n",
      " bidirectional_15 (Bidirecti  (None, 10, 1024)         6295552   \n",
      " onal)                                                           \n",
      "                                                                 \n",
      " lstm_23 (LSTM)              (None, 1024)              8392704   \n",
      "                                                                 \n",
      " dropout_7 (Dropout)         (None, 1024)              0         \n",
      "                                                                 \n",
      " dense_21 (Dense)            (None, 2000)              2050000   \n",
      "                                                                 \n",
      " dense_22 (Dense)            (None, 4000)              8004000   \n",
      "                                                                 \n",
      " dense_23 (Dense)            (None, 1000)              4001000   \n",
      "                                                                 \n",
      "=================================================================\n",
      "Total params: 36,062,808\n",
      "Trainable params: 36,062,808\n",
      "Non-trainable params: 0\n",
      "_________________________________________________________________\n"
     ]
    }
   ],
   "source": [
    "early_stop = EarlyStopping(monitor='val_loss', patience=10)\n",
    "\n",
    "model = Sequential()\n",
    "model.add(Embedding(input_dim=total_words,\n",
    "                    output_dim=1024,\n",
    "                    input_length=max_sequence_len-1))\n",
    "\n",
    "model.add(Bidirectional(LSTM(512, return_sequences=True)))\n",
    "model.add(Bidirectional(LSTM(512, return_sequences=True)))\n",
    "model.add(LSTM(1024))\n",
    "model.add(Dropout(0.5))\n",
    "model.add(Dense(total_words * 2, activation='relu'))\n",
    "model.add(Dense(total_words * 4, activation='relu'))\n",
    "model.add(Dense(total_words, activation='softmax'))\n",
    "\n",
    "model.compile(loss='categorical_crossentropy',\n",
    "              optimizer=Adam(0.001),\n",
    "              metrics=['accuracy'])\n",
    "model.summary()"
   ]
  },
  {
   "cell_type": "code",
   "execution_count": 24,
   "id": "d2939a5d",
   "metadata": {},
   "outputs": [
    {
     "name": "stdout",
     "output_type": "stream",
     "text": [
      "Epoch 1/100\n",
      "323/323 [==============================] - 48s 105ms/step - loss: 6.0259 - accuracy: 0.0270 - val_loss: 5.8609 - val_accuracy: 0.0233\n",
      "Epoch 2/100\n",
      "323/323 [==============================] - 30s 94ms/step - loss: 5.7666 - accuracy: 0.0333 - val_loss: 5.9051 - val_accuracy: 0.0213\n",
      "Epoch 3/100\n",
      "323/323 [==============================] - 30s 94ms/step - loss: 5.6692 - accuracy: 0.0361 - val_loss: 5.9112 - val_accuracy: 0.0252\n",
      "Epoch 4/100\n",
      "323/323 [==============================] - 31s 97ms/step - loss: 5.5996 - accuracy: 0.0404 - val_loss: 5.9043 - val_accuracy: 0.0314\n",
      "Epoch 5/100\n",
      "323/323 [==============================] - 32s 99ms/step - loss: 5.5285 - accuracy: 0.0427 - val_loss: 5.9766 - val_accuracy: 0.0314\n",
      "Epoch 6/100\n",
      "323/323 [==============================] - 30s 93ms/step - loss: 5.4372 - accuracy: 0.0458 - val_loss: 6.1646 - val_accuracy: 0.0326\n",
      "Epoch 7/100\n",
      "323/323 [==============================] - 31s 96ms/step - loss: 5.3337 - accuracy: 0.0503 - val_loss: 6.2750 - val_accuracy: 0.0427\n",
      "Epoch 8/100\n",
      "323/323 [==============================] - 29s 91ms/step - loss: 5.2065 - accuracy: 0.0568 - val_loss: 6.2917 - val_accuracy: 0.0481\n",
      "Epoch 9/100\n",
      "323/323 [==============================] - 31s 96ms/step - loss: 5.0796 - accuracy: 0.0643 - val_loss: 6.3764 - val_accuracy: 0.0469\n",
      "Epoch 10/100\n",
      "323/323 [==============================] - 32s 100ms/step - loss: 4.9514 - accuracy: 0.0673 - val_loss: 6.5824 - val_accuracy: 0.0454\n",
      "Epoch 11/100\n",
      "323/323 [==============================] - 33s 101ms/step - loss: 4.8170 - accuracy: 0.0755 - val_loss: 6.8236 - val_accuracy: 0.0516\n"
     ]
    }
   ],
   "source": [
    "history = model.fit(predictors, label,\n",
    "                    epochs=100,\n",
    "                    validation_split=0.2,\n",
    "                    callbacks=[early_stop],\n",
    "                    verbose=1)"
   ]
  },
  {
   "cell_type": "code",
   "execution_count": 25,
   "id": "3a413aca",
   "metadata": {},
   "outputs": [
    {
     "data": {
      "image/png": "[encoded data removed]",
      "text/plain": [
       "<Figure size 640x480 with 1 Axes>"
      ]
     },
     "metadata": {},
     "output_type": "display_data"
    },
    {
     "data": {
      "image/png": "[encoded data removed]",
      "text/plain": [
       "<Figure size 640x480 with 1 Axes>"
      ]
     },
     "metadata": {},
     "output_type": "display_data"
    }
   ],
   "source": [
    "acc = history.history['accuracy']\n",
    "acc_v = history.history['val_accuracy']\n",
    "loss = history.history['loss']\n",
    "loss_v = history.history['val_loss']\n",
    "\n",
    "epochs = range(len(acc))\n",
    "\n",
    "plt.plot(epochs, acc, label='Train')\n",
    "plt.plot(epochs, acc_v, label='Test')\n",
    "plt.legend()\n",
    "plt.title('accuracy')\n",
    "\n",
    "plt.figure()\n",
    "\n",
    "plt.plot(epochs, loss, label='Train')\n",
    "plt.plot(epochs, loss_v, label='Test')\n",
    "plt.title('loss')\n",
    "plt.legend()\n",
    "\n",
    "plt.show()"
   ]
  },
  {
   "cell_type": "code",
   "execution_count": 26,
   "id": "f99dcda0",
   "metadata": {},
   "outputs": [
    {
     "name": "stdout",
     "output_type": "stream",
     "text": [
      "[3, 21, 36, 14, 3, 21]\n",
      "[3, 21, 36, 14, 3, 21, 14]\n",
      "[3, 21, 36, 14, 3, 21, 14, 14]\n",
      "[3, 21, 36, 14, 3, 21, 14, 14, 21]\n",
      "[3, 21, 36, 14, 3, 21, 14, 14, 21, 10]\n",
      "[3, 21, 36, 14, 3, 21, 14, 14, 21, 10, 54]\n",
      "[3, 21, 36, 14, 3, 21, 14, 14, 21, 10, 54, 14]\n",
      "[3, 21, 36, 14, 3, 21, 14, 14, 21, 10, 54, 14, 8]\n",
      "[3, 21, 36, 14, 3, 21, 14, 14, 21, 10, 54, 14, 8, 6]\n",
      "[3, 21, 36, 14, 3, 21, 14, 14, 21, 10, 54, 14, 8, 6, 33]\n",
      "To be, or not to be not not be thou art not that i do not\n"
     ]
    }
   ],
   "source": [
    "# seed_text = \"Help me Obi Wan Kenobi, you're my only hope\"\n",
    "# seed_text = \"She is my girl, I see in my hend\"\n",
    "seed_text = \"To be, or not to be\"\n",
    "next_words = 10\n",
    "  \n",
    "for _ in range(next_words):\n",
    "    token_list = tokenizer.texts_to_sequences([seed_text])[0]\n",
    "    print(token_list)\n",
    "    token_list = pad_sequences([token_list], maxlen=max_sequence_len-1, padding='pre')\n",
    "    predicted_proba = model.predict(token_list, verbose=0)\n",
    "    predicted_classes = np.argmax(predicted_proba, axis=1)\n",
    "\n",
    "    output_word = tokenizer.index_word[predicted_classes[0]]\n",
    "    seed_text += \" \" + output_word\n",
    "    \n",
    "print(seed_text)"
   ]
  },
  {
   "cell_type": "markdown",
   "id": "cff6b8bc",
   "metadata": {},
   "source": [
    "Выводы:\n",
    "* Количество предсказываех классов очень высоко, поэтому получить приемлимый результат работы модели затруднительно\n",
    "* обучение мрдели было прервано по критерию остановы\n",
    "\n",
    "Изменения модели:\n",
    "* увеличена выходная размерность эмбединга\n",
    "* увеличено количество нейронов в бинаправленых LSTM слоях\n",
    "* добавлен ещё один плотный слой нейросети\n",
    "* количество настраиваимых параметров сети увеличено в 2 раза до 36 млн\n",
    "\n",
    "Данные изменения сети не привели к значимым улучшениям результата её работы"
   ]
  }
 ],
 "metadata": {
  "kernelspec": {
   "display_name": "Python 3 (ipykernel)",
   "language": "python",
   "name": "python3"
  },
  "language_info": {
   "codemirror_mode": {
    "name": "ipython",
    "version": 3
   },
   "file_extension": ".py",
   "mimetype": "text/x-python",
   "name": "python",
   "nbconvert_exporter": "python",
   "pygments_lexer": "ipython3",
   "version": "3.9.16"
  }
 },
 "nbformat": 4,
 "nbformat_minor": 5
}

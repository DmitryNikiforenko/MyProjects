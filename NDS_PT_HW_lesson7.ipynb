{
  "nbformat": 4,
  "nbformat_minor": 0,
  "metadata": {
    "colab": {
      "provenance": []
    },
    "kernelspec": {
      "name": "python3",
      "display_name": "Python 3"
    },
    "language_info": {
      "name": "python"
    }
  },
  "cells": [
    {
      "cell_type": "markdown",
      "source": [
        "Попробуйте обучить нейронную сеть GRU/LSTM для предсказания сентимента сообщений с твитера на примере https://www.kaggle.com/datasets/arkhoshghalb/twitter-sentiment-analysis-hatred-speech\n",
        "\n",
        "Опишите, какой результат вы получили? Что помогло вам улучшить ее точность?"
      ],
      "metadata": {
        "id": "_v41t5IqJugW"
      }
    },
    {
      "cell_type": "code",
      "execution_count": 2,
      "metadata": {
        "id": "v4J-eKKBBB1Q"
      },
      "outputs": [],
      "source": []
    },
    {
      "cell_type": "code",
      "execution_count": 3,
      "metadata": {
        "colab": {
          "base_uri": "https://localhost:8080/"
        },
        "id": "Til5hZk86YnA",
        "outputId": "3338a1c8-3c62-4ac3-c324-e7e690773f80"
      },
      "outputs": [
        {
          "output_type": "stream",
          "name": "stdout",
          "text": [
            "Archive:  drive/MyDrive/twitsentanalis.zip\n",
            "  inflating: test.csv                \n",
            "  inflating: train.csv               \n"
          ]
        }
      ],
      "source": [
        "!unzip drive/MyDrive/twitsentanalis.zip"
      ]
    },
    {
      "cell_type": "code",
      "source": [
        "import pandas as pd\n",
        "\n",
        "df = pd.read_csv(\"train.csv\")\n",
        "df_test = pd.read_csv(\"test.csv\")"
      ],
      "metadata": {
        "id": "20jj5dzs6tCk"
      },
      "execution_count": 4,
      "outputs": []
    },
    {
      "cell_type": "code",
      "source": [
        "df.head()"
      ],
      "metadata": {
        "colab": {
          "base_uri": "https://localhost:8080/",
          "height": 206
        },
        "id": "5fqnUtmS7Y0D",
        "outputId": "72379357-ae2a-4428-c9d8-3574610e5fb4"
      },
      "execution_count": 5,
      "outputs": [
        {
          "output_type": "execute_result",
          "data": {
            "text/plain": [
              "   id  label                                              tweet\n",
              "0   1      0   @user when a father is dysfunctional and is s...\n",
              "1   2      0  @user @user thanks for #lyft credit i can't us...\n",
              "2   3      0                                bihday your majesty\n",
              "3   4      0  #model   i love u take with u all the time in ...\n",
              "4   5      0             factsguide: society now    #motivation"
            ],
            "text/html": [
              "\n",
              "\n",
              "  <div id=\"df-6e38b42d-2647-440c-8be3-27653e3230fe\">\n",
              "    <div class=\"colab-df-container\">\n",
              "      <div>\n",
              "<style scoped>\n",
              "    .dataframe tbody tr th:only-of-type {\n",
              "        vertical-align: middle;\n",
              "    }\n",
              "\n",
              "    .dataframe tbody tr th {\n",
              "        vertical-align: top;\n",
              "    }\n",
              "\n",
              "    .dataframe thead th {\n",
              "        text-align: right;\n",
              "    }\n",
              "</style>\n",
              "<table border=\"1\" class=\"dataframe\">\n",
              "  <thead>\n",
              "    <tr style=\"text-align: right;\">\n",
              "      <th></th>\n",
              "      <th>id</th>\n",
              "      <th>label</th>\n",
              "      <th>tweet</th>\n",
              "    </tr>\n",
              "  </thead>\n",
              "  <tbody>\n",
              "    <tr>\n",
              "      <th>0</th>\n",
              "      <td>1</td>\n",
              "      <td>0</td>\n",
              "      <td>@user when a father is dysfunctional and is s...</td>\n",
              "    </tr>\n",
              "    <tr>\n",
              "      <th>1</th>\n",
              "      <td>2</td>\n",
              "      <td>0</td>\n",
              "      <td>@user @user thanks for #lyft credit i can't us...</td>\n",
              "    </tr>\n",
              "    <tr>\n",
              "      <th>2</th>\n",
              "      <td>3</td>\n",
              "      <td>0</td>\n",
              "      <td>bihday your majesty</td>\n",
              "    </tr>\n",
              "    <tr>\n",
              "      <th>3</th>\n",
              "      <td>4</td>\n",
              "      <td>0</td>\n",
              "      <td>#model   i love u take with u all the time in ...</td>\n",
              "    </tr>\n",
              "    <tr>\n",
              "      <th>4</th>\n",
              "      <td>5</td>\n",
              "      <td>0</td>\n",
              "      <td>factsguide: society now    #motivation</td>\n",
              "    </tr>\n",
              "  </tbody>\n",
              "</table>\n",
              "</div>\n",
              "      <button class=\"colab-df-convert\" onclick=\"convertToInteractive('df-6e38b42d-2647-440c-8be3-27653e3230fe')\"\n",
              "              title=\"Convert this dataframe to an interactive table.\"\n",
              "              style=\"display:none;\">\n",
              "\n",
              "  <svg xmlns=\"http://www.w3.org/2000/svg\" height=\"24px\"viewBox=\"0 0 24 24\"\n",
              "       width=\"24px\">\n",
              "    <path d=\"M0 0h24v24H0V0z\" fill=\"none\"/>\n",
              "    <path d=\"M18.56 5.44l.94 2.06.94-2.06 2.06-.94-2.06-.94-.94-2.06-.94 2.06-2.06.94zm-11 1L8.5 8.5l.94-2.06 2.06-.94-2.06-.94L8.5 2.5l-.94 2.06-2.06.94zm10 10l.94 2.06.94-2.06 2.06-.94-2.06-.94-.94-2.06-.94 2.06-2.06.94z\"/><path d=\"M17.41 7.96l-1.37-1.37c-.4-.4-.92-.59-1.43-.59-.52 0-1.04.2-1.43.59L10.3 9.45l-7.72 7.72c-.78.78-.78 2.05 0 2.83L4 21.41c.39.39.9.59 1.41.59.51 0 1.02-.2 1.41-.59l7.78-7.78 2.81-2.81c.8-.78.8-2.07 0-2.86zM5.41 20L4 18.59l7.72-7.72 1.47 1.35L5.41 20z\"/>\n",
              "  </svg>\n",
              "      </button>\n",
              "\n",
              "\n",
              "\n",
              "    <div id=\"df-d8ad1da0-839c-4ef8-9052-8bbd257e3439\">\n",
              "      <button class=\"colab-df-quickchart\" onclick=\"quickchart('df-d8ad1da0-839c-4ef8-9052-8bbd257e3439')\"\n",
              "              title=\"Suggest charts.\"\n",
              "              style=\"display:none;\">\n",
              "\n",
              "<svg xmlns=\"http://www.w3.org/2000/svg\" height=\"24px\"viewBox=\"0 0 24 24\"\n",
              "     width=\"24px\">\n",
              "    <g>\n",
              "        <path d=\"M19 3H5c-1.1 0-2 .9-2 2v14c0 1.1.9 2 2 2h14c1.1 0 2-.9 2-2V5c0-1.1-.9-2-2-2zM9 17H7v-7h2v7zm4 0h-2V7h2v10zm4 0h-2v-4h2v4z\"/>\n",
              "    </g>\n",
              "</svg>\n",
              "      </button>\n",
              "    </div>\n",
              "\n",
              "<style>\n",
              "  .colab-df-quickchart {\n",
              "    background-color: #E8F0FE;\n",
              "    border: none;\n",
              "    border-radius: 50%;\n",
              "    cursor: pointer;\n",
              "    display: none;\n",
              "    fill: #1967D2;\n",
              "    height: 32px;\n",
              "    padding: 0 0 0 0;\n",
              "    width: 32px;\n",
              "  }\n",
              "\n",
              "  .colab-df-quickchart:hover {\n",
              "    background-color: #E2EBFA;\n",
              "    box-shadow: 0px 1px 2px rgba(60, 64, 67, 0.3), 0px 1px 3px 1px rgba(60, 64, 67, 0.15);\n",
              "    fill: #174EA6;\n",
              "  }\n",
              "\n",
              "  [theme=dark] .colab-df-quickchart {\n",
              "    background-color: #3B4455;\n",
              "    fill: #D2E3FC;\n",
              "  }\n",
              "\n",
              "  [theme=dark] .colab-df-quickchart:hover {\n",
              "    background-color: #434B5C;\n",
              "    box-shadow: 0px 1px 3px 1px rgba(0, 0, 0, 0.15);\n",
              "    filter: drop-shadow(0px 1px 2px rgba(0, 0, 0, 0.3));\n",
              "    fill: #FFFFFF;\n",
              "  }\n",
              "</style>\n",
              "\n",
              "    <script>\n",
              "      async function quickchart(key) {\n",
              "        const containerElement = document.querySelector('#' + key);\n",
              "        const charts = await google.colab.kernel.invokeFunction(\n",
              "            'suggestCharts', [key], {});\n",
              "      }\n",
              "    </script>\n",
              "\n",
              "      <script>\n",
              "\n",
              "function displayQuickchartButton(domScope) {\n",
              "  let quickchartButtonEl =\n",
              "    domScope.querySelector('#df-d8ad1da0-839c-4ef8-9052-8bbd257e3439 button.colab-df-quickchart');\n",
              "  quickchartButtonEl.style.display =\n",
              "    google.colab.kernel.accessAllowed ? 'block' : 'none';\n",
              "}\n",
              "\n",
              "        displayQuickchartButton(document);\n",
              "      </script>\n",
              "      <style>\n",
              "    .colab-df-container {\n",
              "      display:flex;\n",
              "      flex-wrap:wrap;\n",
              "      gap: 12px;\n",
              "    }\n",
              "\n",
              "    .colab-df-convert {\n",
              "      background-color: #E8F0FE;\n",
              "      border: none;\n",
              "      border-radius: 50%;\n",
              "      cursor: pointer;\n",
              "      display: none;\n",
              "      fill: #1967D2;\n",
              "      height: 32px;\n",
              "      padding: 0 0 0 0;\n",
              "      width: 32px;\n",
              "    }\n",
              "\n",
              "    .colab-df-convert:hover {\n",
              "      background-color: #E2EBFA;\n",
              "      box-shadow: 0px 1px 2px rgba(60, 64, 67, 0.3), 0px 1px 3px 1px rgba(60, 64, 67, 0.15);\n",
              "      fill: #174EA6;\n",
              "    }\n",
              "\n",
              "    [theme=dark] .colab-df-convert {\n",
              "      background-color: #3B4455;\n",
              "      fill: #D2E3FC;\n",
              "    }\n",
              "\n",
              "    [theme=dark] .colab-df-convert:hover {\n",
              "      background-color: #434B5C;\n",
              "      box-shadow: 0px 1px 3px 1px rgba(0, 0, 0, 0.15);\n",
              "      filter: drop-shadow(0px 1px 2px rgba(0, 0, 0, 0.3));\n",
              "      fill: #FFFFFF;\n",
              "    }\n",
              "  </style>\n",
              "\n",
              "      <script>\n",
              "        const buttonEl =\n",
              "          document.querySelector('#df-6e38b42d-2647-440c-8be3-27653e3230fe button.colab-df-convert');\n",
              "        buttonEl.style.display =\n",
              "          google.colab.kernel.accessAllowed ? 'block' : 'none';\n",
              "\n",
              "        async function convertToInteractive(key) {\n",
              "          const element = document.querySelector('#df-6e38b42d-2647-440c-8be3-27653e3230fe');\n",
              "          const dataTable =\n",
              "            await google.colab.kernel.invokeFunction('convertToInteractive',\n",
              "                                                     [key], {});\n",
              "          if (!dataTable) return;\n",
              "\n",
              "          const docLinkHtml = 'Like what you see? Visit the ' +\n",
              "            '<a target=\"_blank\" href=https://colab.research.google.com/notebooks/data_table.ipynb>data table notebook</a>'\n",
              "            + ' to learn more about interactive tables.';\n",
              "          element.innerHTML = '';\n",
              "          dataTable['output_type'] = 'display_data';\n",
              "          await google.colab.output.renderOutput(dataTable, element);\n",
              "          const docLink = document.createElement('div');\n",
              "          docLink.innerHTML = docLinkHtml;\n",
              "          element.appendChild(docLink);\n",
              "        }\n",
              "      </script>\n",
              "    </div>\n",
              "  </div>\n"
            ]
          },
          "metadata": {},
          "execution_count": 5
        }
      ]
    },
    {
      "cell_type": "code",
      "source": [
        "max_words = 2000\n",
        "max_len = 15\n",
        "num_classes = 1\n",
        "\n",
        "# Training\n",
        "epochs = 15\n",
        "batch_size = 512\n",
        "print_batch_n = 100"
      ],
      "metadata": {
        "id": "ait1I20C7cQ4"
      },
      "execution_count": 6,
      "outputs": []
    },
    {
      "cell_type": "code",
      "source": [
        "df['label'].value_counts()"
      ],
      "metadata": {
        "colab": {
          "base_uri": "https://localhost:8080/"
        },
        "id": "C2J5Gcwe74m4",
        "outputId": "6805b563-eb79-4a6a-93b8-30c82e51da08"
      },
      "execution_count": 7,
      "outputs": [
        {
          "output_type": "execute_result",
          "data": {
            "text/plain": [
              "0    29720\n",
              "1     2242\n",
              "Name: label, dtype: int64"
            ]
          },
          "metadata": {},
          "execution_count": 7
        }
      ]
    },
    {
      "cell_type": "markdown",
      "source": [
        "Наблюдается выраженный дисбаланс классов. Для наилучшего качества уравняем количество положительных и отрицательных твиттов"
      ],
      "metadata": {
        "id": "a_YzywgiEK_I"
      }
    },
    {
      "cell_type": "code",
      "source": [
        "df = df[(df.label == 0) & (df.id < 2400) | (df.label == 1)]"
      ],
      "metadata": {
        "id": "ycvzpNWrCQPc"
      },
      "execution_count": 8,
      "outputs": []
    },
    {
      "cell_type": "code",
      "source": [
        "df.label.value_counts()"
      ],
      "metadata": {
        "colab": {
          "base_uri": "https://localhost:8080/"
        },
        "id": "zAXOIgQ6DA2u",
        "outputId": "24a0f85e-c394-4650-b138-b3ad72202bba"
      },
      "execution_count": 9,
      "outputs": [
        {
          "output_type": "execute_result",
          "data": {
            "text/plain": [
              "1    2242\n",
              "0    2232\n",
              "Name: label, dtype: int64"
            ]
          },
          "metadata": {},
          "execution_count": 9
        }
      ]
    },
    {
      "cell_type": "code",
      "source": [
        "df_val = df[(df.label == 0) & (df.id > 2100) | (df.label == 1) & (df.id > 28000)]"
      ],
      "metadata": {
        "id": "eHtYNgMrM3O-"
      },
      "execution_count": 10,
      "outputs": []
    },
    {
      "cell_type": "code",
      "source": [
        "df_val.label.value_counts()"
      ],
      "metadata": {
        "colab": {
          "base_uri": "https://localhost:8080/"
        },
        "id": "gEuQg-wpNyn8",
        "outputId": "bc1e7159-9ce4-4009-ac49-29ff3a178ac8"
      },
      "execution_count": 11,
      "outputs": [
        {
          "output_type": "execute_result",
          "data": {
            "text/plain": [
              "0    284\n",
              "1    279\n",
              "Name: label, dtype: int64"
            ]
          },
          "metadata": {},
          "execution_count": 11
        }
      ]
    },
    {
      "cell_type": "code",
      "source": [
        "df_train = df[(df.label == 0) & (df.id < 2100) | (df.label == 1) & (df.id < 28000)]"
      ],
      "metadata": {
        "id": "9h02NX7MQZ3O"
      },
      "execution_count": 12,
      "outputs": []
    },
    {
      "cell_type": "code",
      "source": [
        "df_train.label.value_counts()"
      ],
      "metadata": {
        "colab": {
          "base_uri": "https://localhost:8080/"
        },
        "id": "_8srttEuQfM6",
        "outputId": "5fcc10f2-fbae-432d-fffa-114d64354ae4"
      },
      "execution_count": 13,
      "outputs": [
        {
          "output_type": "execute_result",
          "data": {
            "text/plain": [
              "1    1963\n",
              "0    1947\n",
              "Name: label, dtype: int64"
            ]
          },
          "metadata": {},
          "execution_count": 13
        }
      ]
    },
    {
      "cell_type": "code",
      "source": [
        "!pip install stop-words pymorphy2"
      ],
      "metadata": {
        "colab": {
          "base_uri": "https://localhost:8080/"
        },
        "id": "AHw4pLQBDB9K",
        "outputId": "d6102bd6-0629-498b-d351-89cca731cddc"
      },
      "execution_count": 14,
      "outputs": [
        {
          "output_type": "stream",
          "name": "stdout",
          "text": [
            "Collecting stop-words\n",
            "  Downloading stop-words-2018.7.23.tar.gz (31 kB)\n",
            "  Preparing metadata (setup.py) ... \u001b[?25l\u001b[?25hdone\n",
            "Collecting pymorphy2\n",
            "  Downloading pymorphy2-0.9.1-py3-none-any.whl (55 kB)\n",
            "\u001b[2K     \u001b[90m━━━━━━━━━━━━━━━━━━━━━━━━━━━━━━━━━━━━━━━━\u001b[0m \u001b[32m55.5/55.5 kB\u001b[0m \u001b[31m2.9 MB/s\u001b[0m eta \u001b[36m0:00:00\u001b[0m\n",
            "\u001b[?25hCollecting dawg-python>=0.7.1 (from pymorphy2)\n",
            "  Downloading DAWG_Python-0.7.2-py2.py3-none-any.whl (11 kB)\n",
            "Collecting pymorphy2-dicts-ru<3.0,>=2.4 (from pymorphy2)\n",
            "  Downloading pymorphy2_dicts_ru-2.4.417127.4579844-py2.py3-none-any.whl (8.2 MB)\n",
            "\u001b[2K     \u001b[90m━━━━━━━━━━━━━━━━━━━━━━━━━━━━━━━━━━━━━━━━\u001b[0m \u001b[32m8.2/8.2 MB\u001b[0m \u001b[31m72.4 MB/s\u001b[0m eta \u001b[36m0:00:00\u001b[0m\n",
            "\u001b[?25hCollecting docopt>=0.6 (from pymorphy2)\n",
            "  Downloading docopt-0.6.2.tar.gz (25 kB)\n",
            "  Preparing metadata (setup.py) ... \u001b[?25l\u001b[?25hdone\n",
            "Building wheels for collected packages: stop-words, docopt\n",
            "  Building wheel for stop-words (setup.py) ... \u001b[?25l\u001b[?25hdone\n",
            "  Created wheel for stop-words: filename=stop_words-2018.7.23-py3-none-any.whl size=32897 sha256=744e8e3a2ade3992adfef3e0b64c59f993aad8ae35b15dafc903372889602d1b\n",
            "  Stored in directory: /root/.cache/pip/wheels/d0/1a/23/f12552a50cb09bcc1694a5ebb6c2cd5f2a0311de2b8c3d9a89\n",
            "  Building wheel for docopt (setup.py) ... \u001b[?25l\u001b[?25hdone\n",
            "  Created wheel for docopt: filename=docopt-0.6.2-py2.py3-none-any.whl size=13707 sha256=85bd7c43b7d81ce62bb5e290a6b2ba69a8369bc0332bd1b8fc0e39ae6b296a8a\n",
            "  Stored in directory: /root/.cache/pip/wheels/fc/ab/d4/5da2067ac95b36618c629a5f93f809425700506f72c9732fac\n",
            "Successfully built stop-words docopt\n",
            "Installing collected packages: stop-words, pymorphy2-dicts-ru, docopt, dawg-python, pymorphy2\n",
            "Successfully installed dawg-python-0.7.2 docopt-0.6.2 pymorphy2-0.9.1 pymorphy2-dicts-ru-2.4.417127.4579844 stop-words-2018.7.23\n"
          ]
        }
      ]
    },
    {
      "cell_type": "code",
      "source": [
        "from string import punctuation\n",
        "from stop_words import get_stop_words\n",
        "from pymorphy2 import MorphAnalyzer\n",
        "import re\n",
        "import numpy as np"
      ],
      "metadata": {
        "id": "s-krxXG3Epgd"
      },
      "execution_count": 15,
      "outputs": []
    },
    {
      "cell_type": "code",
      "source": [
        "sw = set(get_stop_words(\"en\"))\n",
        "# sw"
      ],
      "metadata": {
        "id": "4lXm7wtPErC-"
      },
      "execution_count": 16,
      "outputs": []
    },
    {
      "cell_type": "code",
      "source": [
        "puncts = set(punctuation)\n",
        "puncts"
      ],
      "metadata": {
        "colab": {
          "base_uri": "https://localhost:8080/"
        },
        "id": "xgRVBwlxEvjC",
        "outputId": "420cdf65-61a2-453e-d8e7-58ff4af02c01"
      },
      "execution_count": 17,
      "outputs": [
        {
          "output_type": "execute_result",
          "data": {
            "text/plain": [
              "{'!',\n",
              " '\"',\n",
              " '#',\n",
              " '$',\n",
              " '%',\n",
              " '&',\n",
              " \"'\",\n",
              " '(',\n",
              " ')',\n",
              " '*',\n",
              " '+',\n",
              " ',',\n",
              " '-',\n",
              " '.',\n",
              " '/',\n",
              " ':',\n",
              " ';',\n",
              " '<',\n",
              " '=',\n",
              " '>',\n",
              " '?',\n",
              " '@',\n",
              " '[',\n",
              " '\\\\',\n",
              " ']',\n",
              " '^',\n",
              " '_',\n",
              " '`',\n",
              " '{',\n",
              " '|',\n",
              " '}',\n",
              " '~'}"
            ]
          },
          "metadata": {},
          "execution_count": 17
        }
      ]
    },
    {
      "cell_type": "code",
      "source": [
        "morpher = MorphAnalyzer()\n",
        "\n",
        "\n",
        "def preprocess_text(txt):\n",
        "    txt = str(txt)\n",
        "    txt = \"\".join(c for c in txt if c not in puncts)\n",
        "    txt = txt.lower()\n",
        "    txt = re.sub(\"not\\s\", \"not\", txt)\n",
        "    txt = [morpher.parse(word)[0].normal_form for word in txt.split() if word not in sw]\n",
        "    return \" \".join(txt)"
      ],
      "metadata": {
        "id": "lX1hDwCvE3NB"
      },
      "execution_count": 18,
      "outputs": []
    },
    {
      "cell_type": "code",
      "source": [
        "df_train['tweet'].iloc[19:].values"
      ],
      "metadata": {
        "colab": {
          "base_uri": "https://localhost:8080/"
        },
        "id": "tEsrejjqGfIg",
        "outputId": "6dc681cc-8f5d-480f-e6c6-e40a9e0a2efd"
      },
      "execution_count": 19,
      "outputs": [
        {
          "output_type": "execute_result",
          "data": {
            "text/plain": [
              "array(['as we all know, essential oils are not made of chemicals. ',\n",
              "       '#euro2016 people blaming ha for conceded goal was it fat rooney who gave away free kick knowing bale can hit them from there.  ',\n",
              "       'sad little dude..   #badday #coneofshame #cats #pissed #funny #laughs ',\n",
              "       ..., ' destroyed in one minute #janeelliot   ',\n",
              "       '@user #feminismiscancer #feminismisterrorism #feminismmuktbharat why  #malevote is ignored  @user',\n",
              "       'mother daughter blowjob  white girl has sex with black guy '],\n",
              "      dtype=object)"
            ]
          },
          "metadata": {},
          "execution_count": 19
        }
      ]
    },
    {
      "cell_type": "code",
      "source": [
        "df_train['tweet'].iloc[19:].apply(preprocess_text).values"
      ],
      "metadata": {
        "colab": {
          "base_uri": "https://localhost:8080/"
        },
        "id": "Hf--m8SrG9Uo",
        "outputId": "56aa75ab-daae-49e7-cc5b-36ba551d86dc"
      },
      "execution_count": 20,
      "outputs": [
        {
          "output_type": "execute_result",
          "data": {
            "text/plain": [
              "array(['know essential oils notmade chemicals',\n",
              "       'euro2016 people blaming ha conceded goal fat rooney gave away free kick knowing bale can hit',\n",
              "       'sad little dude badday coneofshame cats pissed funny laughs', ...,\n",
              "       'destroyed one minute janeelliot',\n",
              "       'user feminismiscancer feminismisterrorism feminismmuktbharat malevote ignored user',\n",
              "       'mother daughter blowjob white girl sex black guy'], dtype=object)"
            ]
          },
          "metadata": {},
          "execution_count": 20
        }
      ]
    },
    {
      "cell_type": "markdown",
      "source": [
        "Лемматизация трейновой и тестовой выборок"
      ],
      "metadata": {
        "id": "IN_vyZZzJFKd"
      }
    },
    {
      "cell_type": "code",
      "source": [
        "from tqdm import tqdm\n",
        "tqdm.pandas()\n",
        "\n",
        "df_train['tweet'] = df_train['tweet'].progress_apply(preprocess_text)\n",
        "df_val['tweet'] = df_val['tweet'].progress_apply(preprocess_text)"
      ],
      "metadata": {
        "colab": {
          "base_uri": "https://localhost:8080/"
        },
        "id": "XqzbvLqGHhXZ",
        "outputId": "966325dd-82a2-4818-a198-537b5c513fbb"
      },
      "execution_count": 21,
      "outputs": [
        {
          "output_type": "stream",
          "name": "stderr",
          "text": [
            "100%|██████████| 3910/3910 [00:00<00:00, 4486.65it/s]\n",
            "<ipython-input-21-590fcd0f3cce>:4: SettingWithCopyWarning: \n",
            "A value is trying to be set on a copy of a slice from a DataFrame.\n",
            "Try using .loc[row_indexer,col_indexer] = value instead\n",
            "\n",
            "See the caveats in the documentation: https://pandas.pydata.org/pandas-docs/stable/user_guide/indexing.html#returning-a-view-versus-a-copy\n",
            "  df_train['tweet'] = df_train['tweet'].progress_apply(preprocess_text)\n",
            "100%|██████████| 563/563 [00:00<00:00, 3249.95it/s]\n",
            "<ipython-input-21-590fcd0f3cce>:5: SettingWithCopyWarning: \n",
            "A value is trying to be set on a copy of a slice from a DataFrame.\n",
            "Try using .loc[row_indexer,col_indexer] = value instead\n",
            "\n",
            "See the caveats in the documentation: https://pandas.pydata.org/pandas-docs/stable/user_guide/indexing.html#returning-a-view-versus-a-copy\n",
            "  df_val['tweet'] = df_val['tweet'].progress_apply(preprocess_text)\n"
          ]
        }
      ]
    },
    {
      "cell_type": "code",
      "source": [
        "train_corpus = \" \".join(df_train[\"tweet\"])\n",
        "train_corpus = train_corpus.lower()"
      ],
      "metadata": {
        "id": "qsD0vWOoI3tD"
      },
      "execution_count": 22,
      "outputs": []
    },
    {
      "cell_type": "markdown",
      "source": [
        "Произведём токенезацию"
      ],
      "metadata": {
        "id": "aT-I0ZANI0OI"
      }
    },
    {
      "cell_type": "code",
      "source": [
        "import nltk\n",
        "from nltk.tokenize import word_tokenize\n",
        "nltk.download(\"punkt\")\n",
        "\n",
        "tokens = word_tokenize(train_corpus)\n",
        "tokens[:5]"
      ],
      "metadata": {
        "colab": {
          "base_uri": "https://localhost:8080/"
        },
        "id": "uixN7jJrIrNc",
        "outputId": "bfb554f1-17f3-4e64-df93-62e16f8943e7"
      },
      "execution_count": 23,
      "outputs": [
        {
          "output_type": "stream",
          "name": "stderr",
          "text": [
            "[nltk_data] Downloading package punkt to /root/nltk_data...\n",
            "[nltk_data]   Unzipping tokenizers/punkt.zip.\n"
          ]
        },
        {
          "output_type": "execute_result",
          "data": {
            "text/plain": [
              "['user', 'father', 'dysfunctional', 'selfish', 'drags']"
            ]
          },
          "metadata": {},
          "execution_count": 23
        }
      ]
    },
    {
      "cell_type": "markdown",
      "source": [
        "Отфильтруем данные\n",
        "\n",
        "и соберём в корпус N наиболее частых токенов"
      ],
      "metadata": {
        "id": "rJ0dffgMJtUs"
      }
    },
    {
      "cell_type": "code",
      "source": [
        "tokens_filtered = [word for word in tokens if word.isalnum()]"
      ],
      "metadata": {
        "id": "g3mvAxyIJt_Q"
      },
      "execution_count": 24,
      "outputs": []
    },
    {
      "cell_type": "code",
      "source": [
        "from nltk.probability import FreqDist\n",
        "\n",
        "dist = FreqDist(tokens_filtered)\n",
        "tokens_filtered_top = [pair[0] for pair in dist.most_common(max_words-1)]  # вычитание 1 для padding\n",
        "len(tokens_filtered_top)"
      ],
      "metadata": {
        "colab": {
          "base_uri": "https://localhost:8080/"
        },
        "id": "BTyTy0TGJy1N",
        "outputId": "d85b4940-fd1f-450a-85f2-7f638ad32f95"
      },
      "execution_count": 25,
      "outputs": [
        {
          "output_type": "execute_result",
          "data": {
            "text/plain": [
              "1999"
            ]
          },
          "metadata": {},
          "execution_count": 25
        }
      ]
    },
    {
      "cell_type": "code",
      "source": [
        "tokens_filtered_top[:10]"
      ],
      "metadata": {
        "colab": {
          "base_uri": "https://localhost:8080/"
        },
        "id": "WSokzo7nJ13b",
        "outputId": "38d0b813-2b16-4fb0-bd72-fc080a85eaa1"
      },
      "execution_count": 26,
      "outputs": [
        {
          "output_type": "execute_result",
          "data": {
            "text/plain": [
              "['user',\n",
              " 'amp',\n",
              " 'love',\n",
              " 'trump',\n",
              " 'like',\n",
              " 'will',\n",
              " 'just',\n",
              " 'people',\n",
              " 'day',\n",
              " 'happy']"
            ]
          },
          "metadata": {},
          "execution_count": 26
        }
      ]
    },
    {
      "cell_type": "markdown",
      "source": [
        "Создадим словарь из токенов"
      ],
      "metadata": {
        "id": "tidLBoIGKDA6"
      }
    },
    {
      "cell_type": "code",
      "source": [
        "vocabulary = {v: k for k, v in dict(enumerate(tokens_filtered_top, 1)).items()}\n",
        "vocabulary"
      ],
      "metadata": {
        "colab": {
          "base_uri": "https://localhost:8080/"
        },
        "id": "No0hW3elJ7r7",
        "outputId": "27c8b517-8878-4f4d-a80a-b2956ca4fb4c"
      },
      "execution_count": 27,
      "outputs": [
        {
          "output_type": "execute_result",
          "data": {
            "text/plain": [
              "{'user': 1,\n",
              " 'amp': 2,\n",
              " 'love': 3,\n",
              " 'trump': 4,\n",
              " 'like': 5,\n",
              " 'will': 6,\n",
              " 'just': 7,\n",
              " 'people': 8,\n",
              " 'day': 9,\n",
              " 'happy': 10,\n",
              " 'new': 11,\n",
              " 'libtard': 12,\n",
              " 'white': 13,\n",
              " 'black': 14,\n",
              " 'im': 15,\n",
              " 'u': 16,\n",
              " 'dont': 17,\n",
              " 'can': 18,\n",
              " 'one': 19,\n",
              " 'now': 20,\n",
              " 'get': 21,\n",
              " 'today': 22,\n",
              " 'good': 23,\n",
              " 'time': 24,\n",
              " 'politics': 25,\n",
              " 'racist': 26,\n",
              " 'allahsoil': 27,\n",
              " 'might': 28,\n",
              " 'feel': 29,\n",
              " 'us': 30,\n",
              " 'thankful': 31,\n",
              " 'liberal': 32,\n",
              " 'go': 33,\n",
              " 'cant': 34,\n",
              " 'positive': 35,\n",
              " 'see': 36,\n",
              " '2': 37,\n",
              " 'sjw': 38,\n",
              " 'women': 39,\n",
              " 'hate': 40,\n",
              " 'life': 41,\n",
              " 'obama': 42,\n",
              " 'take': 43,\n",
              " 'listen': 44,\n",
              " 'retweet': 45,\n",
              " 'racism': 46,\n",
              " 'bihday': 47,\n",
              " 'think': 48,\n",
              " 'want': 49,\n",
              " 'never': 50,\n",
              " 'back': 51,\n",
              " 'got': 52,\n",
              " 'america': 53,\n",
              " 'via': 54,\n",
              " 'great': 55,\n",
              " 'work': 56,\n",
              " 'girl': 57,\n",
              " 'know': 58,\n",
              " 'man': 59,\n",
              " 'right': 60,\n",
              " 'youre': 61,\n",
              " 'make': 62,\n",
              " 'really': 63,\n",
              " 'say': 64,\n",
              " '2016': 65,\n",
              " 'fathers': 66,\n",
              " 'way': 67,\n",
              " 'world': 68,\n",
              " 'sad': 69,\n",
              " 'weekend': 70,\n",
              " 'need': 71,\n",
              " 'video': 72,\n",
              " 'stomping': 73,\n",
              " 'thanks': 74,\n",
              " 'going': 75,\n",
              " 'woman': 76,\n",
              " 'live': 77,\n",
              " 'year': 78,\n",
              " 'much': 79,\n",
              " 'sex': 80,\n",
              " 'days': 81,\n",
              " 'race': 82,\n",
              " 'stop': 83,\n",
              " 'music': 84,\n",
              " 'healthy': 85,\n",
              " 'thats': 86,\n",
              " '4': 87,\n",
              " 'best': 88,\n",
              " 'makes': 89,\n",
              " 'pay': 90,\n",
              " 'bull': 91,\n",
              " 'men': 92,\n",
              " 'still': 93,\n",
              " 'nothing': 94,\n",
              " 'beautiful': 95,\n",
              " 'family': 96,\n",
              " 'girls': 97,\n",
              " 'friends': 98,\n",
              " 'latest': 99,\n",
              " 'comments': 100,\n",
              " 'next': 101,\n",
              " 'look': 102,\n",
              " 'always': 103,\n",
              " 'ever': 104,\n",
              " 'happiness': 105,\n",
              " 'blog': 106,\n",
              " 'free': 107,\n",
              " 'sunday': 108,\n",
              " 'last': 109,\n",
              " 'hope': 110,\n",
              " 'home': 111,\n",
              " 'fun': 112,\n",
              " 'brexit': 113,\n",
              " 'smile': 114,\n",
              " 'model': 115,\n",
              " 'show': 116,\n",
              " 'call': 117,\n",
              " 'wait': 118,\n",
              " 'even': 119,\n",
              " 'week': 120,\n",
              " 'silver': 121,\n",
              " 'friday': 122,\n",
              " 'first': 123,\n",
              " 'summer': 124,\n",
              " '2017': 125,\n",
              " 'gold': 126,\n",
              " 'orlando': 127,\n",
              " 'says': 128,\n",
              " 'many': 129,\n",
              " 'porn': 130,\n",
              " 'blm': 131,\n",
              " 'fathersday': 132,\n",
              " 'hispanic': 133,\n",
              " 'morning': 134,\n",
              " 'everyone': 135,\n",
              " 'news': 136,\n",
              " 'come': 137,\n",
              " 'keep': 138,\n",
              " 'tampa': 139,\n",
              " 'school': 140,\n",
              " 'may': 141,\n",
              " 'media': 142,\n",
              " 'thank': 143,\n",
              " 'years': 144,\n",
              " 'made': 145,\n",
              " 'please': 146,\n",
              " 'bigot': 147,\n",
              " 'peace': 148,\n",
              " 'doesnt': 149,\n",
              " 'find': 150,\n",
              " 'guy': 151,\n",
              " 'god': 152,\n",
              " 'another': 153,\n",
              " 'well': 154,\n",
              " 'daily': 155,\n",
              " 'forex': 156,\n",
              " 'little': 157,\n",
              " 'lost': 158,\n",
              " 'let': 159,\n",
              " 'altright': 160,\n",
              " 'isnt': 161,\n",
              " 'give': 162,\n",
              " 'end': 163,\n",
              " 'dad': 164,\n",
              " 'hatred': 165,\n",
              " 'temple': 166,\n",
              " 'act': 167,\n",
              " 'ready': 168,\n",
              " 'usa': 169,\n",
              " 'cute': 170,\n",
              " 'leadership': 171,\n",
              " 'americans': 172,\n",
              " 'police': 173,\n",
              " 'saying': 174,\n",
              " 'sikh': 175,\n",
              " 'calgary': 176,\n",
              " 'iam': 177,\n",
              " 'affirmation': 178,\n",
              " 'wont': 179,\n",
              " 'na': 180,\n",
              " 'real': 181,\n",
              " 'better': 182,\n",
              " 'fuck': 183,\n",
              " 'believe': 184,\n",
              " 'vandalised': 185,\n",
              " 'wso': 186,\n",
              " 'condemns': 187,\n",
              " 'maga': 188,\n",
              " 'father': 189,\n",
              " 'tomorrow': 190,\n",
              " 'night': 191,\n",
              " 'every': 192,\n",
              " 'things': 193,\n",
              " 'done': 194,\n",
              " 'ive': 195,\n",
              " 'thought': 196,\n",
              " 'game': 197,\n",
              " 'said': 198,\n",
              " 'country': 199,\n",
              " '3': 200,\n",
              " 'true': 201,\n",
              " 'buffalo': 202,\n",
              " 'didnt': 203,\n",
              " 'suppoers': 204,\n",
              " 'proud': 205,\n",
              " 'soon': 206,\n",
              " 'sta': 207,\n",
              " 'bear': 208,\n",
              " 'angry': 209,\n",
              " 'looking': 210,\n",
              " 'president': 211,\n",
              " 'needs': 212,\n",
              " 'help': 213,\n",
              " 'others': 214,\n",
              " 'face': 215,\n",
              " 'someone': 216,\n",
              " 'use': 217,\n",
              " 'finally': 218,\n",
              " 'book': 219,\n",
              " 'feeling': 220,\n",
              " 'videos': 221,\n",
              " 'everything': 222,\n",
              " 'strong': 223,\n",
              " 'climb': 224,\n",
              " 'thing': 225,\n",
              " 'friend': 226,\n",
              " 'wish': 227,\n",
              " 'bigotry': 228,\n",
              " 'also': 229,\n",
              " 'business': 230,\n",
              " 'misogyny': 231,\n",
              " 'motivation': 232,\n",
              " 'around': 233,\n",
              " 'tonight': 234,\n",
              " 'pa': 235,\n",
              " 'playing': 236,\n",
              " 'altwaystoheal': 237,\n",
              " 'yes': 238,\n",
              " 'history': 239,\n",
              " 'enjoy': 240,\n",
              " 'gets': 241,\n",
              " 'hea': 242,\n",
              " 'already': 243,\n",
              " 'city': 244,\n",
              " 'follow': 245,\n",
              " 'malevote': 246,\n",
              " 'person': 247,\n",
              " 'misogynist': 248,\n",
              " 'must': 249,\n",
              " 'paladino': 250,\n",
              " 'factory': 251,\n",
              " 'kkk': 252,\n",
              " 'seashepherd': 253,\n",
              " 'word': 254,\n",
              " 'amazing': 255,\n",
              " 'lets': 256,\n",
              " 'old': 257,\n",
              " 'power': 258,\n",
              " 'talk': 259,\n",
              " 'polar': 260,\n",
              " 'watch': 261,\n",
              " 'healing': 262,\n",
              " 's': 263,\n",
              " 'left': 264,\n",
              " 'truth': 265,\n",
              " 'dear': 266,\n",
              " 'coming': 267,\n",
              " 'matter': 268,\n",
              " 'sea': 269,\n",
              " 'equality': 270,\n",
              " 'antiracism': 271,\n",
              " 'kids': 272,\n",
              " 'talking': 273,\n",
              " 'vote': 274,\n",
              " 'job': 275,\n",
              " 'two': 276,\n",
              " 'nice': 277,\n",
              " 'boy': 278,\n",
              " 'bad': 279,\n",
              " 'saturday': 280,\n",
              " 'check': 281,\n",
              " 'r': 282,\n",
              " 'attack': 283,\n",
              " 'money': 284,\n",
              " 'house': 285,\n",
              " 'uk': 286,\n",
              " 'team': 287,\n",
              " 'christmas': 288,\n",
              " 'ignored': 289,\n",
              " 'away': 290,\n",
              " 'means': 291,\n",
              " 'forever': 292,\n",
              " 'hard': 293,\n",
              " 'monday': 294,\n",
              " 'getting': 295,\n",
              " 'sick': 296,\n",
              " '8': 297,\n",
              " 'change': 298,\n",
              " 'sun': 299,\n",
              " 'guys': 300,\n",
              " 'play': 301,\n",
              " 'fucking': 302,\n",
              " 'lol': 303,\n",
              " 'without': 304,\n",
              " 'blacklivesmatter': 305,\n",
              " 'children': 306,\n",
              " 'lot': 307,\n",
              " 'tell': 308,\n",
              " 'hes': 309,\n",
              " 'ignorance': 310,\n",
              " 'shepherd': 311,\n",
              " 'carl': 312,\n",
              " 'big': 313,\n",
              " 'looks': 314,\n",
              " 'w': 315,\n",
              " 'wrong': 316,\n",
              " 'times': 317,\n",
              " 'hey': 318,\n",
              " 'far': 319,\n",
              " 'anyone': 320,\n",
              " 'nota': 321,\n",
              " 'quote': 322,\n",
              " 'mad': 323,\n",
              " 'dog': 324,\n",
              " 'comes': 325,\n",
              " 'ur': 326,\n",
              " 'sexy': 327,\n",
              " 'tweet': 328,\n",
              " 'wow': 329,\n",
              " 'color': 330,\n",
              " 'feminismiscancer': 331,\n",
              " 'feminismisterrorism': 332,\n",
              " 'feminismmuktbharat': 333,\n",
              " 'hillary': 334,\n",
              " 'holiday': 335,\n",
              " 'enough': 336,\n",
              " 'whites': 337,\n",
              " 'notmypresident': 338,\n",
              " 'leave': 339,\n",
              " 'cnn': 340,\n",
              " 'calls': 341,\n",
              " '1': 342,\n",
              " 'whatever': 343,\n",
              " 'selfie': 344,\n",
              " 'miss': 345,\n",
              " '5': 346,\n",
              " 'watching': 347,\n",
              " 'gon': 348,\n",
              " 'japan': 349,\n",
              " 'put': 350,\n",
              " 'gay': 351,\n",
              " 'blessed': 352,\n",
              " 'bing': 353,\n",
              " 'bong': 354,\n",
              " 'baby': 355,\n",
              " 'hot': 356,\n",
              " 'grateful': 357,\n",
              " 'ass': 358,\n",
              " 'problem': 359,\n",
              " 'shit': 360,\n",
              " 'since': 361,\n",
              " 'oil': 362,\n",
              " 'american': 363,\n",
              " 'share': 364,\n",
              " 'mean': 365,\n",
              " 'fear': 366,\n",
              " 'teambts': 367,\n",
              " 'omg': 368,\n",
              " 'open': 369,\n",
              " 'excited': 370,\n",
              " 'xenophobia': 371,\n",
              " 'oh': 372,\n",
              " 'hours': 373,\n",
              " 'goes': 374,\n",
              " 'super': 375,\n",
              " 'point': 376,\n",
              " 'calling': 377,\n",
              " 'mind': 378,\n",
              " 'place': 379,\n",
              " 'long': 380,\n",
              " 'course': 381,\n",
              " 'naked': 382,\n",
              " 'cool': 383,\n",
              " 'song': 384,\n",
              " 'followme': 385,\n",
              " 'cold': 386,\n",
              " 'waiting': 387,\n",
              " 'football': 388,\n",
              " 'arent': 389,\n",
              " 'words': 390,\n",
              " 'yay': 391,\n",
              " 'rest': 392,\n",
              " 'wonderful': 393,\n",
              " 'reading': 394,\n",
              " 'awesome': 395,\n",
              " 'beach': 396,\n",
              " 'making': 397,\n",
              " 'read': 398,\n",
              " 'campaign': 399,\n",
              " 'homophobic': 400,\n",
              " 'target': 401,\n",
              " 'feminism': 402,\n",
              " 'dead': 403,\n",
              " 'muslims': 404,\n",
              " 'trumps': 405,\n",
              " 'jews': 406,\n",
              " 'putinschoice': 407,\n",
              " 'fan': 408,\n",
              " 'tcot': 409,\n",
              " 'rip': 410,\n",
              " 'fire': 411,\n",
              " 'something': 412,\n",
              " 'dominate': 413,\n",
              " 'direct': 414,\n",
              " 'close': 415,\n",
              " 'loving': 416,\n",
              " 'yeah': 417,\n",
              " 'weeks': 418,\n",
              " 'ppl': 419,\n",
              " 'racing': 420,\n",
              " 'muslim': 421,\n",
              " 'found': 422,\n",
              " 'n': 423,\n",
              " 'quotes': 424,\n",
              " 'food': 425,\n",
              " 'stay': 426,\n",
              " 'kind': 427,\n",
              " 'half': 428,\n",
              " 'maybe': 429,\n",
              " 'vs': 430,\n",
              " 'mother': 431,\n",
              " 'inspiration': 432,\n",
              " 'season': 433,\n",
              " 'vacation': 434,\n",
              " 'become': 435,\n",
              " 'heres': 436,\n",
              " 'win': 437,\n",
              " 'carlpaladino': 438,\n",
              " 'fans': 439,\n",
              " 'wants': 440,\n",
              " 'islam': 441,\n",
              " 'israel': 442,\n",
              " 'ally': 443,\n",
              " 'obamas': 444,\n",
              " 'leftright': 445,\n",
              " 'polarisation': 446,\n",
              " 'uselections2016': 447,\n",
              " 'mom': 448,\n",
              " 'service': 449,\n",
              " '50': 450,\n",
              " 'different': 451,\n",
              " 'working': 452,\n",
              " 'social': 453,\n",
              " 'wedding': 454,\n",
              " 'conference': 455,\n",
              " 'mindset': 456,\n",
              " 'hour': 457,\n",
              " 'high': 458,\n",
              " 'head': 459,\n",
              " 'health': 460,\n",
              " 'instagood': 461,\n",
              " 'birds': 462,\n",
              " 'republican': 463,\n",
              " 'd': 464,\n",
              " 'worst': 465,\n",
              " 'id': 466,\n",
              " 'hair': 467,\n",
              " 'post': 468,\n",
              " 'forward': 469,\n",
              " 'shows': 470,\n",
              " 'dads': 471,\n",
              " 'boys': 472,\n",
              " 'till': 473,\n",
              " 'nude': 474,\n",
              " 'kill': 475,\n",
              " 'christians': 476,\n",
              " 'antisemitism': 477,\n",
              " 'twitter': 478,\n",
              " 'remarks': 479,\n",
              " 'x': 480,\n",
              " 'bit': 481,\n",
              " 'newyear': 482,\n",
              " 'yet': 483,\n",
              " 'education': 484,\n",
              " 'towards': 485,\n",
              " 'lying': 486,\n",
              " 'liberals': 487,\n",
              " 'came': 488,\n",
              " 'gop': 489,\n",
              " 'rape': 490,\n",
              " 'speak': 491,\n",
              " 'car': 492,\n",
              " 'anything': 493,\n",
              " 'resist': 494,\n",
              " 'religion': 495,\n",
              " 'fascism': 496,\n",
              " 'disgusting': 497,\n",
              " 'boricua': 498,\n",
              " 'cow': 499,\n",
              " 'agree': 500,\n",
              " 'fat': 501,\n",
              " 'funny': 502,\n",
              " 'youve': 503,\n",
              " 'lovely': 504,\n",
              " 'snapchat': 505,\n",
              " 'daughter': 506,\n",
              " 'ill': 507,\n",
              " 'truly': 508,\n",
              " 'fact': 509,\n",
              " 'community': 510,\n",
              " 'gorilla': 511,\n",
              " 'hear': 512,\n",
              " 'rights': 513,\n",
              " 'together': 514,\n",
              " 'victims': 515,\n",
              " 'abuse': 516,\n",
              " 'else': 517,\n",
              " 'suppo': 518,\n",
              " 'puppy': 519,\n",
              " 'pussy': 520,\n",
              " 'care': 521,\n",
              " 'self': 522,\n",
              " 'idea': 523,\n",
              " 'b': 524,\n",
              " 'ask': 525,\n",
              " 'poor': 526,\n",
              " 'guess': 527,\n",
              " 'michelle': 528,\n",
              " 'young': 529,\n",
              " 'theyre': 530,\n",
              " 'bbc': 531,\n",
              " 'buy': 532,\n",
              " 'hateful': 533,\n",
              " 'african': 534,\n",
              " 'stories': 535,\n",
              " 'issue': 536,\n",
              " 'tbt': 537,\n",
              " 'full': 538,\n",
              " 'homes': 539,\n",
              " 'list': 540,\n",
              " 'newyork': 541,\n",
              " 'single': 542,\n",
              " 'sexist': 543,\n",
              " 'bc': 544,\n",
              " 'crazy': 545,\n",
              " 'whats': 546,\n",
              " 'blacks': 547,\n",
              " 'message': 548,\n",
              " 'emiratis': 549,\n",
              " 'stupid': 550,\n",
              " 'war': 551,\n",
              " 'fired': 552,\n",
              " 'southafrica': 553,\n",
              " 'fascist': 554,\n",
              " 'land': 555,\n",
              " 'comment': 556,\n",
              " 'australia': 557,\n",
              " 'euro2016': 558,\n",
              " 'families': 559,\n",
              " 'fight': 560,\n",
              " 'dance': 561,\n",
              " 'shes': 562,\n",
              " 'terrorism': 563,\n",
              " 'son': 564,\n",
              " 'pretty': 565,\n",
              " 'ok': 566,\n",
              " 'protesting': 567,\n",
              " 'impoant': 568,\n",
              " 'lt3': 569,\n",
              " 'months': 570,\n",
              " 'question': 571,\n",
              " 'safe': 572,\n",
              " '10': 573,\n",
              " 'success': 574,\n",
              " 'ad': 575,\n",
              " 'seems': 576,\n",
              " 'complete': 577,\n",
              " '6': 578,\n",
              " 'tech': 579,\n",
              " 'dumb': 580,\n",
              " 'violence': 581,\n",
              " 'opinion': 582,\n",
              " 'leaving': 583,\n",
              " 'trying': 584,\n",
              " 'instead': 585,\n",
              " 'beginning': 586,\n",
              " 'used': 587,\n",
              " 'episode': 588,\n",
              " 'nazis': 589,\n",
              " 'kiss': 590,\n",
              " 'perfect': 591,\n",
              " 'nyc': 592,\n",
              " 'guns': 593,\n",
              " 'actually': 594,\n",
              " 'reality': 595,\n",
              " 'save': 596,\n",
              " 'sleep': 597,\n",
              " 'whitepeople': 598,\n",
              " 'needed': 599,\n",
              " 'aicle': 600,\n",
              " 'lgbt': 601,\n",
              " 'discrimination': 602,\n",
              " 'lady': 603,\n",
              " 'official': 604,\n",
              " 'stopracism': 605,\n",
              " 'forget': 606,\n",
              " 'asian': 607,\n",
              " 'depression': 608,\n",
              " 'pig': 609,\n",
              " 'miami': 610,\n",
              " 'death': 611,\n",
              " 'jokes': 612,\n",
              " 'lives': 613,\n",
              " 'flag': 614,\n",
              " 'islamophobia': 615,\n",
              " 'disease': 616,\n",
              " 'won': 617,\n",
              " 'cleveland': 618,\n",
              " 'daddy': 619,\n",
              " 'whos': 620,\n",
              " 'sign': 621,\n",
              " 'went': 622,\n",
              " 'fashion': 623,\n",
              " 'leads': 624,\n",
              " 'shot': 625,\n",
              " 'hu': 626,\n",
              " 'wife': 627,\n",
              " 'running': 628,\n",
              " 'travel': 629,\n",
              " 'space': 630,\n",
              " 'wouldnt': 631,\n",
              " 'control': 632,\n",
              " 'market': 633,\n",
              " 'memories': 634,\n",
              " 'fresh': 635,\n",
              " 'gone': 636,\n",
              " 'vine': 637,\n",
              " 'alone': 638,\n",
              " 'living': 639,\n",
              " 'places': 640,\n",
              " 'wonthey': 641,\n",
              " 'fuhered': 642,\n",
              " 'photooftheday': 643,\n",
              " 'past': 644,\n",
              " 'meet': 645,\n",
              " 'seeing': 646,\n",
              " 'saw': 647,\n",
              " 'state': 648,\n",
              " 'number': 649,\n",
              " 'joy': 650,\n",
              " 'action': 651,\n",
              " 'kid': 652,\n",
              " 'moron': 653,\n",
              " 'customer': 654,\n",
              " 'theres': 655,\n",
              " 'reason': 656,\n",
              " 'missed': 657,\n",
              " 'loves': 658,\n",
              " 'ny': 659,\n",
              " 'choose': 660,\n",
              " 'brother': 661,\n",
              " 'class': 662,\n",
              " 'idiot': 663,\n",
              " 'damn': 664,\n",
              " 'fitness': 665,\n",
              " 'move': 666,\n",
              " 'alive': 667,\n",
              " 'troll': 668,\n",
              " 'laws': 669,\n",
              " 'theresistance': 670,\n",
              " 'film': 671,\n",
              " 'story': 672,\n",
              " 'room': 673,\n",
              " 'london': 674,\n",
              " 'despite': 675,\n",
              " 'future': 676,\n",
              " 'texas': 677,\n",
              " 'given': 678,\n",
              " 'smh': 679,\n",
              " 'outside': 680,\n",
              " 'join': 681,\n",
              " 'spread': 682,\n",
              " 'die': 683,\n",
              " 'hell': 684,\n",
              " 'fly': 685,\n",
              " 'less': 686,\n",
              " 'simulation': 687,\n",
              " 'culture': 688,\n",
              " 'justice': 689,\n",
              " 'board': 690,\n",
              " 'picture': 691,\n",
              " 'bout': 692,\n",
              " 'trip': 693,\n",
              " 'promote': 694,\n",
              " 'joke': 695,\n",
              " 'revolution': 696,\n",
              " 'immigration': 697,\n",
              " 'combat': 698,\n",
              " 'brown': 699,\n",
              " 'fucked': 700,\n",
              " 'nationalist': 701,\n",
              " 'mil': 702,\n",
              " 'rejected': 703,\n",
              " 'called': 704,\n",
              " 'nazi': 705,\n",
              " 'reflections': 706,\n",
              " 'male': 707,\n",
              " 'fought': 708,\n",
              " 'auspol': 709,\n",
              " 'systemic': 710,\n",
              " 'boycott': 711,\n",
              " 'cause': 712,\n",
              " 'welcome': 713,\n",
              " 'wall': 714,\n",
              " 'hit': 715,\n",
              " 'drink': 716,\n",
              " 'public': 717,\n",
              " 'sunshine': 718,\n",
              " 'blue': 719,\n",
              " 'organizations': 720,\n",
              " 'voice': 721,\n",
              " 'name': 722,\n",
              " 'celebrate': 723,\n",
              " 'arrived': 724,\n",
              " 'stuff': 725,\n",
              " 'florida': 726,\n",
              " 'shooting': 727,\n",
              " 'gun': 728,\n",
              " 'heal': 729,\n",
              " 'shop': 730,\n",
              " 'resign': 731,\n",
              " 'ride': 732,\n",
              " 'driver': 733,\n",
              " 'date': 734,\n",
              " 'human': 735,\n",
              " 'freedom': 736,\n",
              " 'yall': 737,\n",
              " 'probably': 738,\n",
              " 'goodmorning': 739,\n",
              " 'aww': 740,\n",
              " 'happened': 741,\n",
              " 'teen': 742,\n",
              " 'eat': 743,\n",
              " 'empty': 744,\n",
              " 'voted': 745,\n",
              " 'beer': 746,\n",
              " 'app': 747,\n",
              " 'lose': 748,\n",
              " 'understand': 749,\n",
              " 'heard': 750,\n",
              " 'mood': 751,\n",
              " 'bless': 752,\n",
              " 'environment': 753,\n",
              " 'cochair': 754,\n",
              " 'million': 755,\n",
              " 'ones': 756,\n",
              " 'pizza': 757,\n",
              " 'dinner': 758,\n",
              " 'shopping': 759,\n",
              " 'violent': 760,\n",
              " '20': 761,\n",
              " 'minutes': 762,\n",
              " 'listening': 763,\n",
              " 'fall': 764,\n",
              " 'child': 765,\n",
              " 'africa': 766,\n",
              " 'weve': 767,\n",
              " 'thrown': 768,\n",
              " 'dogs': 769,\n",
              " 'yrs': 770,\n",
              " 'ago': 771,\n",
              " 'v': 772,\n",
              " 'water': 773,\n",
              " 'sweet': 774,\n",
              " 'edinburgh': 775,\n",
              " 'russia': 776,\n",
              " 'answer': 777,\n",
              " 'ahead': 778,\n",
              " 'india': 779,\n",
              " 'congrats': 780,\n",
              " 'wanted': 781,\n",
              " 'entire': 782,\n",
              " 'least': 783,\n",
              " 'ugly': 784,\n",
              " 'survive': 785,\n",
              " 'order': 786,\n",
              " 'rain': 787,\n",
              " 'political': 788,\n",
              " 'slavery': 789,\n",
              " 'telling': 790,\n",
              " 'stand': 791,\n",
              " 'small': 792,\n",
              " 'evil': 793,\n",
              " 'caused': 794,\n",
              " 'impression': 795,\n",
              " 'notbe': 796,\n",
              " 'staff': 797,\n",
              " 'top': 798,\n",
              " 'age': 799,\n",
              " 'haha': 800,\n",
              " 'office': 801,\n",
              " 'ramadan': 802,\n",
              " 'church': 803,\n",
              " 'knew': 804,\n",
              " '2016in4words': 805,\n",
              " 'feels': 806,\n",
              " 'fake': 807,\n",
              " 'hello': 808,\n",
              " 'accept': 809,\n",
              " 'sorry': 810,\n",
              " 'south': 811,\n",
              " 'hand': 812,\n",
              " 'islamic': 813,\n",
              " 'serve': 814,\n",
              " 'claims': 815,\n",
              " 'hearing': 816,\n",
              " 'propaganda': 817,\n",
              " 'plz': 818,\n",
              " 'seriously': 819,\n",
              " 'hollywood': 820,\n",
              " 'science': 821,\n",
              " 'mc': 822,\n",
              " 'phillysuppophilly': 823,\n",
              " 'believes': 824,\n",
              " 'extremism': 825,\n",
              " 'chick': 826,\n",
              " '642': 827,\n",
              " 'marijuana': 828,\n",
              " 'profiling': 829,\n",
              " 'industry': 830,\n",
              " 'inauguration': 831,\n",
              " 'denial': 832,\n",
              " 'treason': 833,\n",
              " 'dangerous': 834,\n",
              " 'donaldtrump': 835,\n",
              " 'teamsuperjunior': 836,\n",
              " 'wishes': 837,\n",
              " 'jew': 838,\n",
              " 'bullying': 839,\n",
              " 'gender': 840,\n",
              " 'msnbc': 841,\n",
              " 'huge': 842,\n",
              " 'build': 843,\n",
              " 'tool': 844,\n",
              " 'actions': 845,\n",
              " 'due': 846,\n",
              " 'line': 847,\n",
              " 'cultureofdevelopment': 848,\n",
              " 'performance': 849,\n",
              " 'jealous': 850,\n",
              " 'clearly': 851,\n",
              " 'body': 852,\n",
              " 'woohoo': 853,\n",
              " 'members': 854,\n",
              " 'couple': 855,\n",
              " 'la': 856,\n",
              " '100': 857,\n",
              " 'tears': 858,\n",
              " 'stupidity': 859,\n",
              " 'sma': 860,\n",
              " 'disney': 861,\n",
              " 'effo': 862,\n",
              " 'present': 863,\n",
              " 'aint': 864,\n",
              " 'michelleobama': 865,\n",
              " 'broken': 866,\n",
              " 'dick': 867,\n",
              " 'hands': 868,\n",
              " 'europe': 869,\n",
              " 'difficult': 870,\n",
              " 'arrive': 871,\n",
              " 'em': 872,\n",
              " 'countdown': 873,\n",
              " 'club': 874,\n",
              " 'states': 875,\n",
              " 'bought': 876,\n",
              " 'loved': 877,\n",
              " 'pic': 878,\n",
              " 'y': 879,\n",
              " 'ending': 880,\n",
              " 'flight': 881,\n",
              " 'nasty': 882,\n",
              " 'held': 883,\n",
              " '7': 884,\n",
              " 'notthe': 885,\n",
              " 'light': 886,\n",
              " 'training': 887,\n",
              " 'tear': 888,\n",
              " 'movie': 889,\n",
              " 'pop': 890,\n",
              " 'june': 891,\n",
              " 'meeting': 892,\n",
              " 'sister': 893,\n",
              " 'brand': 894,\n",
              " 'reasons': 895,\n",
              " 'suppoing': 896,\n",
              " 'faith': 897,\n",
              " 'cheer': 898,\n",
              " 'absolutely': 899,\n",
              " 'potus': 900,\n",
              " 'ya': 901,\n",
              " 'woh': 902,\n",
              " 'remains': 903,\n",
              " 'missing': 904,\n",
              " 'booked': 905,\n",
              " 'anxiety': 906,\n",
              " 'flowers': 907,\n",
              " 'special': 908,\n",
              " 'oitnb': 909,\n",
              " 'wasnt': 910,\n",
              " 'send': 911,\n",
              " 'perhaps': 912,\n",
              " 'write': 913,\n",
              " 'keeping': 914,\n",
              " 'tv': 915,\n",
              " 'notto': 916,\n",
              " 'tired': 917,\n",
              " 'fool': 918,\n",
              " 'anti': 919,\n",
              " 'tragic': 920,\n",
              " 'babies': 921,\n",
              " 'youtube': 922,\n",
              " 'england': 923,\n",
              " 'expect': 924,\n",
              " 'spark': 925,\n",
              " 'piece': 926,\n",
              " 'agenda': 927,\n",
              " 'ignorant': 928,\n",
              " 'hill': 929,\n",
              " 'reach': 930,\n",
              " 'task': 931,\n",
              " 'ta': 932,\n",
              " 'knows': 933,\n",
              " 'vicinity': 934,\n",
              " 'often': 935,\n",
              " 'using': 936,\n",
              " 'kills': 937,\n",
              " 'environmental': 938,\n",
              " 'bed': 939,\n",
              " 'response': 940,\n",
              " 'speaking': 941,\n",
              " 'da': 942,\n",
              " 'terrorists': 943,\n",
              " 'glad': 944,\n",
              " 'delete': 945,\n",
              " 'tweets': 946,\n",
              " 'national': 947,\n",
              " 'hrs': 948,\n",
              " '9': 949,\n",
              " 'star': 950,\n",
              " 'donkey': 951,\n",
              " 'murdering': 952,\n",
              " 'palestinian': 953,\n",
              " 'semitic': 954,\n",
              " 'schools': 955,\n",
              " 'relevant': 956,\n",
              " 'wars': 957,\n",
              " 'stands': 958,\n",
              " 'womens': 959,\n",
              " 'though': 960,\n",
              " 'traitor': 961,\n",
              " 'realize': 962,\n",
              " 'content': 963,\n",
              " 'joe': 964,\n",
              " 'toptags': 965,\n",
              " 'hang': 966,\n",
              " 'liar': 967,\n",
              " 'wtf': 968,\n",
              " 'facebook': 969,\n",
              " 'wan': 970,\n",
              " 'podcast': 971,\n",
              " 'told': 972,\n",
              " 'illegal': 973,\n",
              " 'eu': 974,\n",
              " 'almost': 975,\n",
              " 'anymore': 976,\n",
              " 'rant': 977,\n",
              " 'york': 978,\n",
              " 'surprise': 979,\n",
              " 'government': 980,\n",
              " 'pick': 981,\n",
              " 'winner': 982,\n",
              " 'speech': 983,\n",
              " 'assholes': 984,\n",
              " 'newswithed': 985,\n",
              " 'deal': 986,\n",
              " 'preorder': 987,\n",
              " 'unleashed': 988,\n",
              " 'ibooks': 989,\n",
              " 'lies': 990,\n",
              " 'assault': 991,\n",
              " 'notracist': 992,\n",
              " 'jewish': 993,\n",
              " 'officers': 994,\n",
              " 'either': 995,\n",
              " 'harassment': 996,\n",
              " 'sessions': 997,\n",
              " 'decades': 998,\n",
              " 'ag': 999,\n",
              " 'inequality': 1000,\n",
              " ...}"
            ]
          },
          "metadata": {},
          "execution_count": 27
        }
      ]
    },
    {
      "cell_type": "markdown",
      "source": [
        "Перевод текста в последовательности"
      ],
      "metadata": {
        "id": "nS4GZErMKiB6"
      }
    },
    {
      "cell_type": "code",
      "source": [
        "def text_to_sequence(text, maxlen):\n",
        "    result = []\n",
        "    tokens = word_tokenize(text.lower())\n",
        "    tokens_filtered = [word for word in tokens if word.isalnum()]\n",
        "    for word in tokens_filtered:\n",
        "        if word in vocabulary:\n",
        "            result.append(vocabulary[word])\n",
        "\n",
        "    padding = [0] * (maxlen-len(result))\n",
        "    return result[-maxlen:] + padding"
      ],
      "metadata": {
        "id": "Le53b_-RKfkG"
      },
      "execution_count": 28,
      "outputs": []
    },
    {
      "cell_type": "code",
      "source": [
        "%%time\n",
        "x_train = np.asarray([text_to_sequence(text, max_len) for text in df_train[\"tweet\"]])\n",
        "x_val = np.asarray([text_to_sequence(text, max_len) for text in df_val[\"tweet\"]])"
      ],
      "metadata": {
        "colab": {
          "base_uri": "https://localhost:8080/"
        },
        "id": "amO5p6rjKnih",
        "outputId": "38b71674-431b-4030-a574-bb2fda41c0fa"
      },
      "execution_count": 29,
      "outputs": [
        {
          "output_type": "stream",
          "name": "stdout",
          "text": [
            "CPU times: user 988 ms, sys: 1.24 ms, total: 990 ms\n",
            "Wall time: 2.11 s\n"
          ]
        }
      ]
    },
    {
      "cell_type": "code",
      "source": [
        "x_train.shape"
      ],
      "metadata": {
        "colab": {
          "base_uri": "https://localhost:8080/"
        },
        "id": "HXKg67PdLBbi",
        "outputId": "f9665957-3465-40d2-95dc-ebbf5b0a723d"
      },
      "execution_count": 30,
      "outputs": [
        {
          "output_type": "execute_result",
          "data": {
            "text/plain": [
              "(3910, 15)"
            ]
          },
          "metadata": {},
          "execution_count": 30
        }
      ]
    },
    {
      "cell_type": "code",
      "source": [
        "df_train['tweet'].iloc[0]"
      ],
      "metadata": {
        "colab": {
          "base_uri": "https://localhost:8080/",
          "height": 35
        },
        "id": "ZTM6zyxWLEbl",
        "outputId": "871551d2-a689-4fa7-e06f-d6a65fa48945"
      },
      "execution_count": 31,
      "outputs": [
        {
          "output_type": "execute_result",
          "data": {
            "text/plain": [
              "'user father dysfunctional selfish drags kids dysfunction run'"
            ],
            "application/vnd.google.colaboratory.intrinsic+json": {
              "type": "string"
            }
          },
          "metadata": {},
          "execution_count": 31
        }
      ]
    },
    {
      "cell_type": "code",
      "source": [
        "x_train[0]"
      ],
      "metadata": {
        "colab": {
          "base_uri": "https://localhost:8080/"
        },
        "id": "j1XoksJ9LHqh",
        "outputId": "8b6659a5-ff91-4b3e-ef37-97beaf8647b2"
      },
      "execution_count": 32,
      "outputs": [
        {
          "output_type": "execute_result",
          "data": {
            "text/plain": [
              "array([   1,  189, 1611,  272, 1014,    0,    0,    0,    0,    0,    0,\n",
              "          0,    0,    0,    0])"
            ]
          },
          "metadata": {},
          "execution_count": 32
        }
      ]
    },
    {
      "cell_type": "code",
      "source": [
        "from torch.utils.data import DataLoader, Dataset\n",
        "import torch\n",
        "\n",
        "\n",
        "class DataWrapper(Dataset):\n",
        "    def __init__(self, data, target, transform=None):\n",
        "        self.data = torch.from_numpy(data).long()\n",
        "        self.target = torch.from_numpy(target).long()\n",
        "        self.transform = transform\n",
        "\n",
        "    def __getitem__(self, index):\n",
        "        x = self.data[index]\n",
        "        y = self.target[index]\n",
        "\n",
        "        if self.transform:\n",
        "            x = self.transform(x)\n",
        "\n",
        "        return x, y\n",
        "\n",
        "    def __len__(self):\n",
        "        return len(self.data)"
      ],
      "metadata": {
        "id": "IqXHY5ARSxoV"
      },
      "execution_count": 36,
      "outputs": []
    },
    {
      "cell_type": "code",
      "source": [
        "train_dataset = DataWrapper(x_train, df_train['label'].values)\n",
        "train_loader = DataLoader(train_dataset, batch_size=batch_size, shuffle=True)\n",
        "\n",
        "val_dataset = DataWrapper(x_val, df_val['label'].values)\n",
        "val_loader = DataLoader(val_dataset, batch_size=batch_size, shuffle=True)"
      ],
      "metadata": {
        "id": "kNTWTaxlSy3N"
      },
      "execution_count": 37,
      "outputs": []
    },
    {
      "cell_type": "code",
      "source": [
        "device = 'cuda' if torch.cuda.is_available() else 'cpu'\n",
        "device"
      ],
      "metadata": {
        "colab": {
          "base_uri": "https://localhost:8080/",
          "height": 35
        },
        "id": "NLj6P7Vxt8GY",
        "outputId": "4b1711fa-4ed6-44c6-c7b1-137916fe65ed"
      },
      "execution_count": 39,
      "outputs": [
        {
          "output_type": "execute_result",
          "data": {
            "text/plain": [
              "'cpu'"
            ],
            "application/vnd.google.colaboratory.intrinsic+json": {
              "type": "string"
            }
          },
          "metadata": {},
          "execution_count": 39
        }
      ]
    },
    {
      "cell_type": "markdown",
      "source": [
        "Обучение LSTM"
      ],
      "metadata": {
        "id": "e4N3T3h5LuDj"
      }
    },
    {
      "cell_type": "code",
      "execution_count": 40,
      "metadata": {
        "id": "dzlCNORAo6lJ"
      },
      "outputs": [],
      "source": [
        "from torch import nn\n",
        "\n",
        "\n",
        "class LSTMFixedLen(nn.Module) :\n",
        "    def __init__(self, vocab_size, embedding_dim=128, hidden_dim=128, use_last=True):\n",
        "        super().__init__()\n",
        "        self.use_last = use_last\n",
        "        self.embeddings = nn.Embedding(vocab_size, embedding_dim, padding_idx=0)\n",
        "        self.lstm = nn.LSTM(embedding_dim, hidden_dim, num_layers=2, batch_first=True)\n",
        "        self.linear = nn.Linear(hidden_dim, 1)\n",
        "        self.dropout = nn.Dropout(0.2)\n",
        "\n",
        "    def forward(self, x):\n",
        "        x = self.embeddings(x)\n",
        "        x = self.dropout(x)\n",
        "        lstm_out, ht = self.lstm(x)\n",
        "\n",
        "        if self.use_last:\n",
        "            last_tensor = lstm_out[:,-1,:]\n",
        "        else:\n",
        "            # use mean\n",
        "            last_tensor = torch.mean(lstm_out[:,:], dim=1)\n",
        "\n",
        "        out = self.linear(last_tensor)\n",
        "        # print(out.shape)\n",
        "        return torch.sigmoid(out)"
      ]
    },
    {
      "cell_type": "code",
      "source": [
        "lstm_init = LSTMFixedLen(max_words, 128, 20, use_last=False)\n",
        "optimizer = torch.optim.Adam(lstm_init.parameters(), lr=0.001)\n",
        "criterion = nn.BCELoss()"
      ],
      "metadata": {
        "id": "-w2lHWkue64N"
      },
      "execution_count": 41,
      "outputs": []
    },
    {
      "cell_type": "code",
      "source": [
        "print(lstm_init)\n",
        "print(\"Parameters:\", sum([param.nelement() for param in lstm_init.parameters()]))"
      ],
      "metadata": {
        "colab": {
          "base_uri": "https://localhost:8080/"
        },
        "id": "9PUisoS9w0rH",
        "outputId": "689e50da-487b-4ef2-f63c-279caf002df7"
      },
      "execution_count": 42,
      "outputs": [
        {
          "output_type": "stream",
          "name": "stdout",
          "text": [
            "LSTMFixedLen(\n",
            "  (embeddings): Embedding(2000, 128, padding_idx=0)\n",
            "  (lstm): LSTM(128, 20, num_layers=2, batch_first=True)\n",
            "  (linear): Linear(in_features=20, out_features=1, bias=True)\n",
            "  (dropout): Dropout(p=0.2, inplace=False)\n",
            ")\n",
            "Parameters: 271381\n"
          ]
        }
      ]
    },
    {
      "cell_type": "code",
      "execution_count": 43,
      "metadata": {
        "id": "qw1Mpj_Co6lJ",
        "colab": {
          "base_uri": "https://localhost:8080/"
        },
        "outputId": "7d94279c-6fcb-4aab-d535-10b6b2214ac5"
      },
      "outputs": [
        {
          "output_type": "stream",
          "name": "stdout",
          "text": [
            "Epoch [1/15]. Step [8/8]. Loss: 0.691. Acc: 0.498. Test loss: 0.687. Test acc: 0.504\n",
            "Epoch [2/15]. Step [8/8]. Loss: 0.696. Acc: 0.498. Test loss: 0.694. Test acc: 0.517\n",
            "Epoch [3/15]. Step [8/8]. Loss: 0.683. Acc: 0.537. Test loss: 0.680. Test acc: 0.673\n",
            "Epoch [4/15]. Step [8/8]. Loss: 0.671. Acc: 0.667. Test loss: 0.654. Test acc: 0.684\n",
            "Epoch [5/15]. Step [8/8]. Loss: 0.660. Acc: 0.705. Test loss: 0.663. Test acc: 0.702\n",
            "Epoch [6/15]. Step [8/8]. Loss: 0.635. Acc: 0.725. Test loss: 0.604. Test acc: 0.714\n",
            "Epoch [7/15]. Step [8/8]. Loss: 0.623. Acc: 0.744. Test loss: 0.626. Test acc: 0.735\n",
            "Epoch [8/15]. Step [8/8]. Loss: 0.540. Acc: 0.762. Test loss: 0.531. Test acc: 0.753\n",
            "Epoch [9/15]. Step [8/8]. Loss: 0.498. Acc: 0.787. Test loss: 0.472. Test acc: 0.776\n",
            "Epoch [10/15]. Step [8/8]. Loss: 0.481. Acc: 0.813. Test loss: 0.455. Test acc: 0.803\n",
            "Epoch [11/15]. Step [8/8]. Loss: 0.406. Acc: 0.826. Test loss: 0.396. Test acc: 0.826\n",
            "Epoch [12/15]. Step [8/8]. Loss: 0.412. Acc: 0.840. Test loss: 0.338. Test acc: 0.831\n",
            "Epoch [13/15]. Step [8/8]. Loss: 0.378. Acc: 0.851. Test loss: 0.336. Test acc: 0.842\n",
            "Epoch [14/15]. Step [8/8]. Loss: 0.365. Acc: 0.861. Test loss: 0.395. Test acc: 0.853\n",
            "Epoch [15/15]. Step [8/8]. Loss: 0.305. Acc: 0.885. Test loss: 0.320. Test acc: 0.853\n",
            "Training is finished!\n"
          ]
        }
      ],
      "source": [
        "lstm_init = lstm_init.to(device)\n",
        "lstm_init.train()\n",
        "th = 0.5\n",
        "\n",
        "train_loss_history = []\n",
        "test_loss_history = []\n",
        "\n",
        "\n",
        "for epoch in range(epochs):\n",
        "    lstm_init.train()\n",
        "    running_items, running_right = 0.0, 0.0\n",
        "    for i, data in enumerate(train_loader, 0):\n",
        "        inputs, labels = data[0].to(device), data[1].to(device)\n",
        "\n",
        "        # обнуляем градиент\n",
        "        optimizer.zero_grad()\n",
        "        outputs = lstm_init(inputs)\n",
        "\n",
        "        loss = criterion(outputs, labels.float().view(-1, 1))\n",
        "        loss.backward()\n",
        "        optimizer.step()\n",
        "\n",
        "        # подсчет ошибки на обучении\n",
        "        loss = loss.item()\n",
        "        running_items += len(labels)\n",
        "        # подсчет метрики на обучении\n",
        "        pred_labels = torch.squeeze((outputs > th).int())\n",
        "        running_right += (labels == pred_labels).sum()\n",
        "\n",
        "    # выводим статистику о процессе обучения\n",
        "    lstm_init.eval()\n",
        "\n",
        "    print(f'Epoch [{epoch + 1}/{epochs}]. ' \\\n",
        "            f'Step [{i + 1}/{len(train_loader)}]. ' \\\n",
        "            f'Loss: {loss:.3f}. ' \\\n",
        "            f'Acc: {running_right / running_items:.3f}', end='. ')\n",
        "    running_loss, running_items, running_right = 0.0, 0.0, 0.0\n",
        "    train_loss_history.append(loss)\n",
        "\n",
        "    # выводим статистику на тестовых данных\n",
        "    test_running_right, test_running_total, test_loss = 0.0, 0.0, 0.0\n",
        "    for j, data in enumerate(val_loader):\n",
        "        test_labels = data[1].to(device)\n",
        "        test_outputs = lstm_init(data[0].to(device))\n",
        "\n",
        "        # подсчет ошибки на тесте\n",
        "        test_loss = criterion(test_outputs, test_labels.float().view(-1, 1))\n",
        "        # подсчет метрики на тесте\n",
        "        test_running_total += len(data[1])\n",
        "        pred_test_labels = torch.squeeze((test_outputs > th).int())\n",
        "        test_running_right += (test_labels == pred_test_labels).sum()\n",
        "\n",
        "    test_loss_history.append(test_loss.item())\n",
        "    print(f'Test loss: {test_loss:.3f}. Test acc: {test_running_right / test_running_total:.3f}')\n",
        "\n",
        "print('Training is finished!')"
      ]
    },
    {
      "cell_type": "code",
      "source": [
        "import matplotlib.pyplot as plt\n",
        "\n",
        "plt.title('Loss history')\n",
        "plt.grid(True)\n",
        "plt.ylabel('Loss')\n",
        "plt.xlabel('Epoch')\n",
        "plt.plot(train_loss_history, label='train')\n",
        "plt.plot(test_loss_history, label='test')\n",
        "plt.legend();"
      ],
      "metadata": {
        "colab": {
          "base_uri": "https://localhost:8080/",
          "height": 472
        },
        "id": "4ghz6rJeRU9P",
        "outputId": "d1b21998-b72c-4723-ea76-093222ebb2d3"
      },
      "execution_count": 44,
      "outputs": [
        {
          "output_type": "display_data",
          "data": {
            "text/plain": [
              "<Figure size 640x480 with 1 Axes>"
            ],
            "image/png": "[encoded data removed]"
          },
          "metadata": {}
        }
      ]
    },
    {
      "cell_type": "markdown",
      "source": [
        "Gated Recurrent Unit"
      ],
      "metadata": {
        "id": "oO6Liqm0Ninl"
      }
    },
    {
      "cell_type": "code",
      "execution_count": 45,
      "metadata": {
        "id": "jtq6UR4co6lK"
      },
      "outputs": [],
      "source": [
        "from torch import nn\n",
        "\n",
        "\n",
        "class GRUFixedLen(nn.Module) :\n",
        "    def __init__(self, vocab_size, embedding_dim=128, hidden_dim=128, use_last=True):\n",
        "        super().__init__()\n",
        "        self.use_last = use_last\n",
        "        self.embeddings = nn.Embedding(vocab_size, embedding_dim, padding_idx=0)\n",
        "        self.gru = nn.GRU(embedding_dim, hidden_dim, num_layers=2, batch_first=True, )\n",
        "        self.linear = nn.Linear(hidden_dim, 1)\n",
        "        self.dropout = nn.Dropout(0.2)\n",
        "\n",
        "    def forward(self, x):\n",
        "        x = self.embeddings(x)\n",
        "        x = self.dropout(x)\n",
        "        gru_out, ht = self.gru(x)\n",
        "\n",
        "        if self.use_last:\n",
        "            last_tensor = gru_out[:,-1,:]\n",
        "        else:\n",
        "            # use mean\n",
        "            last_tensor = torch.mean(gru_out[:,:], dim=1)\n",
        "\n",
        "        out = self.linear(last_tensor)\n",
        "        return torch.sigmoid(out)"
      ]
    },
    {
      "cell_type": "code",
      "source": [
        "gru_init = GRUFixedLen(max_words, 128, 20, use_last=False)\n",
        "optimizer = torch.optim.Adam(gru_init.parameters(), lr=0.001)\n",
        "criterion = nn.BCELoss()"
      ],
      "metadata": {
        "id": "2ByBMc_5fEo3"
      },
      "execution_count": 46,
      "outputs": []
    },
    {
      "cell_type": "code",
      "source": [
        "print(gru_init)\n",
        "print(\"Parameters:\", sum([param.nelement() for param in gru_init.parameters()]))"
      ],
      "metadata": {
        "colab": {
          "base_uri": "https://localhost:8080/"
        },
        "outputId": "1ebadcdf-134a-4008-b4df-9036bd568627",
        "id": "VkKANTWQx2Yb"
      },
      "execution_count": 47,
      "outputs": [
        {
          "output_type": "stream",
          "name": "stdout",
          "text": [
            "GRUFixedLen(\n",
            "  (embeddings): Embedding(2000, 128, padding_idx=0)\n",
            "  (gru): GRU(128, 20, num_layers=2, batch_first=True)\n",
            "  (linear): Linear(in_features=20, out_features=1, bias=True)\n",
            "  (dropout): Dropout(p=0.2, inplace=False)\n",
            ")\n",
            "Parameters: 267541\n"
          ]
        }
      ]
    },
    {
      "cell_type": "code",
      "execution_count": 48,
      "metadata": {
        "colab": {
          "base_uri": "https://localhost:8080/"
        },
        "outputId": "80ba59f2-f236-4dfa-b512-65780f97a19e",
        "id": "B09_p9r5x2Yg"
      },
      "outputs": [
        {
          "output_type": "stream",
          "name": "stdout",
          "text": [
            "Epoch [1/15]. Step [8/8]. Loss: 0.690. Acc: 0.527. Test loss: 0.687. Test acc: 0.618\n",
            "Epoch [2/15]. Step [8/8]. Loss: 0.683. Acc: 0.638. Test loss: 0.676. Test acc: 0.661\n",
            "Epoch [3/15]. Step [8/8]. Loss: 0.675. Acc: 0.661. Test loss: 0.655. Test acc: 0.679\n",
            "Epoch [4/15]. Step [8/8]. Loss: 0.648. Acc: 0.701. Test loss: 0.628. Test acc: 0.694\n",
            "Epoch [5/15]. Step [8/8]. Loss: 0.619. Acc: 0.719. Test loss: 0.622. Test acc: 0.712\n",
            "Epoch [6/15]. Step [8/8]. Loss: 0.572. Acc: 0.742. Test loss: 0.591. Test acc: 0.735\n",
            "Epoch [7/15]. Step [8/8]. Loss: 0.532. Acc: 0.753. Test loss: 0.525. Test acc: 0.746\n",
            "Epoch [8/15]. Step [8/8]. Loss: 0.494. Acc: 0.779. Test loss: 0.464. Test acc: 0.762\n",
            "Epoch [9/15]. Step [8/8]. Loss: 0.426. Acc: 0.798. Test loss: 0.484. Test acc: 0.785\n",
            "Epoch [10/15]. Step [8/8]. Loss: 0.414. Acc: 0.820. Test loss: 0.463. Test acc: 0.812\n",
            "Epoch [11/15]. Step [8/8]. Loss: 0.369. Acc: 0.838. Test loss: 0.420. Test acc: 0.837\n",
            "Epoch [12/15]. Step [8/8]. Loss: 0.365. Acc: 0.849. Test loss: 0.372. Test acc: 0.845\n",
            "Epoch [13/15]. Step [8/8]. Loss: 0.314. Acc: 0.862. Test loss: 0.320. Test acc: 0.840\n",
            "Epoch [14/15]. Step [8/8]. Loss: 0.349. Acc: 0.871. Test loss: 0.342. Test acc: 0.845\n",
            "Epoch [15/15]. Step [8/8]. Loss: 0.275. Acc: 0.879. Test loss: 0.423. Test acc: 0.847\n",
            "Training is finished!\n"
          ]
        }
      ],
      "source": [
        "gru_init = gru_init.to(device)\n",
        "gru_init.train()\n",
        "th = 0.5\n",
        "\n",
        "train_loss_history = []\n",
        "test_loss_history = []\n",
        "\n",
        "\n",
        "for epoch in range(epochs):\n",
        "    gru_init.train()\n",
        "    running_items, running_right = 0.0, 0.0\n",
        "    for i, data in enumerate(train_loader, 0):\n",
        "        inputs, labels = data[0].to(device), data[1].to(device)\n",
        "\n",
        "        # обнуляем градиент\n",
        "        optimizer.zero_grad()\n",
        "        outputs = gru_init(inputs)\n",
        "\n",
        "        loss = criterion(outputs, labels.float().view(-1, 1))\n",
        "        loss.backward()\n",
        "        optimizer.step()\n",
        "\n",
        "        # подсчет ошибки на обучении\n",
        "        loss = loss.item()\n",
        "        running_items += len(labels)\n",
        "        # подсчет метрики на обучении\n",
        "        pred_labels = torch.squeeze((outputs > th).int())\n",
        "        running_right += (labels == pred_labels).sum()\n",
        "\n",
        "    # выводим статистику о процессе обучения\n",
        "    gru_init.eval()\n",
        "\n",
        "    print(f'Epoch [{epoch + 1}/{epochs}]. ' \\\n",
        "          f'Step [{i + 1}/{len(train_loader)}]. ' \\\n",
        "          f'Loss: {loss:.3f}. ' \\\n",
        "          f'Acc: {running_right / running_items:.3f}', end='. ')\n",
        "    running_loss, running_items, running_right = 0.0, 0.0, 0.0\n",
        "    train_loss_history.append(loss)\n",
        "\n",
        "    # выводим статистику на тестовых данных\n",
        "    test_running_right, test_running_total, test_loss = 0.0, 0.0, 0.0\n",
        "    for j, data in enumerate(val_loader):\n",
        "        test_labels = data[1].to(device)\n",
        "        test_outputs = gru_init(data[0].to(device))\n",
        "\n",
        "        # подсчет ошибки на тесте\n",
        "        test_loss = criterion(test_outputs, test_labels.float().view(-1, 1))\n",
        "        # подсчет метрики на тесте\n",
        "        test_running_total += len(data[1])\n",
        "        pred_test_labels = torch.squeeze((test_outputs > th).int())\n",
        "        test_running_right += (test_labels == pred_test_labels).sum()\n",
        "\n",
        "    test_loss_history.append(test_loss.item())\n",
        "    print(f'Test loss: {test_loss:.3f}. Test acc: {test_running_right / test_running_total:.3f}')\n",
        "\n",
        "print('Training is finished!')"
      ]
    },
    {
      "cell_type": "code",
      "source": [
        "import matplotlib.pyplot as plt\n",
        "\n",
        "plt.title('Loss history')\n",
        "plt.grid(True)\n",
        "plt.ylabel('Loss')\n",
        "plt.xlabel('Epoch')\n",
        "plt.plot(train_loss_history, label='train')\n",
        "plt.plot(test_loss_history, label='test')\n",
        "plt.legend();"
      ],
      "metadata": {
        "colab": {
          "base_uri": "https://localhost:8080/",
          "height": 472
        },
        "outputId": "e93cc05f-7d9e-430a-b7c5-220c93579548",
        "id": "EqQGltLYN9TS"
      },
      "execution_count": 49,
      "outputs": [
        {
          "output_type": "display_data",
          "data": {
            "text/plain": [
              "<Figure size 640x480 with 1 Axes>"
            ],
            "image/png": "[encoded data removed]"
          },
          "metadata": {}
        }
      ]
    },
    {
      "cell_type": "markdown",
      "source": [
        "Выводы:\n",
        "* архитектура LSTM и GRU для данной задачи позволяетс яполучить более стабильный результат на тестовых данных с более высоким показателями метрики.\n",
        "* При сравнительном анализе LSTM показала более высокие значения метрики на тестовом наборе данных."
      ],
      "metadata": {
        "id": "PGLpHchvODqm"
      }
    }
  ]
}
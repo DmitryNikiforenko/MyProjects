{
  "nbformat": 4,
  "nbformat_minor": 0,
  "metadata": {
    "colab": {
      "provenance": [],
      "collapsed_sections": []
    },
    "kernelspec": {
      "name": "python3",
      "display_name": "Python 3"
    },
    "language_info": {
      "name": "python"
    }
  },
  "cells": [
    {
      "cell_type": "code",
      "execution_count": 1,
      "metadata": {
        "id": "FVw8gOG5HqRr"
      },
      "outputs": [],
      "source": [
        "import numpy as np\n",
        "import math\n",
        "np.set_printoptions(precision=2, suppress=True)"
      ]
    },
    {
      "cell_type": "markdown",
      "source": [
        "Из колоды в 52 карты извлекаются случайным образом 4 карты. a) Найти вероятность того, что все карты – крести. б) Найти вероятность, что среди 4-х карт окажется хотя бы один туз."
      ],
      "metadata": {
        "id": "lWbdeJo2Sf50"
      }
    },
    {
      "cell_type": "code",
      "source": [
        "#общее число исходов 4/52"
      ],
      "metadata": {
        "id": "lJivRgEfSg-4"
      },
      "execution_count": 2,
      "outputs": []
    },
    {
      "cell_type": "code",
      "source": [
        "#колода карт\n",
        "#выборка из оставшихся карт - 48\n",
        "#выборка тузов - 4 карты"
      ],
      "metadata": {
        "id": "dGbrt6XVSrKP"
      },
      "execution_count": 3,
      "outputs": []
    },
    {
      "cell_type": "code",
      "source": [
        "#функция подсчёта сочетания\n",
        "def combi(k, n):\n",
        "  return math.factorial(n)//(math.factorial(k)*math.factorial(n-k))"
      ],
      "metadata": {
        "id": "SGNA1MXWTd_g"
      },
      "execution_count": 4,
      "outputs": []
    },
    {
      "cell_type": "code",
      "source": [
        "#количество сочетаний в выборке из 4х карт с наличием хотя бы одного туза\n",
        "T1 = combi(1, 4)*combi(3, 48)\n",
        "T2 = combi(2, 4)*combi(2, 48)\n",
        "T3 = combi(3, 4)*combi(1, 48)\n",
        "T4 = combi(4, 4)*combi(0, 48)\n",
        "T = T1+T2+T3+T4\n",
        "T"
      ],
      "metadata": {
        "colab": {
          "base_uri": "https://localhost:8080/"
        },
        "id": "wPgQT1mjUl_o",
        "outputId": "30b91ad3-2456-4859-f6b9-b31826eab9e6"
      },
      "execution_count": 5,
      "outputs": [
        {
          "output_type": "execute_result",
          "data": {
            "text/plain": [
              "76145"
            ]
          },
          "metadata": {},
          "execution_count": 5
        }
      ]
    },
    {
      "cell_type": "code",
      "source": [
        "#общее число событий\n",
        "C = combi(4, 52)\n",
        "C"
      ],
      "metadata": {
        "colab": {
          "base_uri": "https://localhost:8080/"
        },
        "id": "WUzOW1aOVVCn",
        "outputId": "78607619-26cf-45ab-cff8-f1b5935192ad"
      },
      "execution_count": 6,
      "outputs": [
        {
          "output_type": "execute_result",
          "data": {
            "text/plain": [
              "270725"
            ]
          },
          "metadata": {},
          "execution_count": 6
        }
      ]
    },
    {
      "cell_type": "code",
      "source": [
        "#рассчёт вероятности, что среди 4х случайных карт окажется хотя бы один туз\n",
        "P1 = T/C\n",
        "f'Вероятность, что все 4 карты крести составляет {round(P1*100, 2)}%'"
      ],
      "metadata": {
        "colab": {
          "base_uri": "https://localhost:8080/",
          "height": 35
        },
        "id": "rZgT-xt4Wpc3",
        "outputId": "0d67985c-5b2a-412c-cfc6-f8f90fd43cd9"
      },
      "execution_count": 20,
      "outputs": [
        {
          "output_type": "execute_result",
          "data": {
            "text/plain": [
              "'Вероятность, что все 4 карты крести составляет 28.13%'"
            ],
            "application/vnd.google.colaboratory.intrinsic+json": {
              "type": "string"
            }
          },
          "metadata": {},
          "execution_count": 20
        }
      ]
    },
    {
      "cell_type": "code",
      "source": [
        "#число событий, что все 4 карты крести\n",
        "K = combi(4, 13)*combi(0, 52-13)\n",
        "K"
      ],
      "metadata": {
        "colab": {
          "base_uri": "https://localhost:8080/"
        },
        "id": "uuzqGgyXW9Z-",
        "outputId": "e690bf26-19dc-4f8a-bbcf-f7ea04d550d3"
      },
      "execution_count": 8,
      "outputs": [
        {
          "output_type": "execute_result",
          "data": {
            "text/plain": [
              "715"
            ]
          },
          "metadata": {},
          "execution_count": 8
        }
      ]
    },
    {
      "cell_type": "code",
      "source": [
        "#подсчёт вероятности\n",
        "P2 = K/C\n",
        "f'Вероятность, что все 4 карты крести составляет {round(P2*100, 2)}%'"
      ],
      "metadata": {
        "colab": {
          "base_uri": "https://localhost:8080/",
          "height": 35
        },
        "id": "ABGDViZSZULY",
        "outputId": "04dec658-1d1d-40de-a9ee-e5e5b3c03866"
      },
      "execution_count": 32,
      "outputs": [
        {
          "output_type": "execute_result",
          "data": {
            "text/plain": [
              "'Вероятность, что все 4 карты крести составляет 157.14%'"
            ],
            "application/vnd.google.colaboratory.intrinsic+json": {
              "type": "string"
            }
          },
          "metadata": {},
          "execution_count": 32
        }
      ]
    },
    {
      "cell_type": "markdown",
      "source": [
        "На входной двери подъезда установлен кодовый замок, содержащий десять кнопок с цифрами от 0 до 9. Код содержит три цифры, которые нужно нажать одновременно. Какова вероятность того, что человек, не знающий код, откроет дверь с первой попытки?"
      ],
      "metadata": {
        "id": "a5tIDh1YdL9B"
      }
    },
    {
      "cell_type": "code",
      "source": [
        "#функция для подсчёта размещения\n",
        "def acc(k, n):\n",
        "  return math.factorial(n)//math.factorial(n-k)"
      ],
      "metadata": {
        "id": "nrW69hi4k6VO"
      },
      "execution_count": 10,
      "outputs": []
    },
    {
      "cell_type": "code",
      "source": [
        "#Количество комбинаций для одновременно зажатых кнопок\n",
        "combi(3, 10)"
      ],
      "metadata": {
        "colab": {
          "base_uri": "https://localhost:8080/"
        },
        "id": "LCIlp0nwdMlp",
        "outputId": "3e475e53-5d88-4f95-cda1-c593bfaf1bc5"
      },
      "execution_count": 33,
      "outputs": [
        {
          "output_type": "execute_result",
          "data": {
            "text/plain": [
              "120"
            ]
          },
          "metadata": {},
          "execution_count": 33
        }
      ]
    },
    {
      "cell_type": "code",
      "source": [
        "#подсчёт вероятности\n",
        "P = 1/120\n",
        "f'Учитывая, что единственная комбинация является верной, то вероятность открыть дверь составляет {round(P*100, 2)} %'"
      ],
      "metadata": {
        "colab": {
          "base_uri": "https://localhost:8080/",
          "height": 35
        },
        "id": "Aey00S8wdrBj",
        "outputId": "49124a39-5a31-4102-dec0-e579b12965aa"
      },
      "execution_count": 35,
      "outputs": [
        {
          "output_type": "execute_result",
          "data": {
            "text/plain": [
              "'Учитывая, что единственная комбинация является верной, то вероятность открыть дверь составляет 0.83 %'"
            ],
            "application/vnd.google.colaboratory.intrinsic+json": {
              "type": "string"
            }
          },
          "metadata": {},
          "execution_count": 35
        }
      ]
    },
    {
      "cell_type": "markdown",
      "source": [
        "В ящике имеется 15 деталей, из которых 9 окрашены. Рабочий случайным образом извлекает 3 детали. Какова вероятность того, что все извлеченные детали окрашены?"
      ],
      "metadata": {
        "id": "DB8mfo_hB5LF"
      }
    },
    {
      "cell_type": "code",
      "source": [
        "#количество благоприятных исходов\n",
        "B = combi(3, 9)*combi(0, 6)\n",
        "B"
      ],
      "metadata": {
        "id": "7xvpabnwd-mO",
        "colab": {
          "base_uri": "https://localhost:8080/"
        },
        "outputId": "25efef22-6862-4b63-9bf2-6d2c797f9e8e"
      },
      "execution_count": 13,
      "outputs": [
        {
          "output_type": "execute_result",
          "data": {
            "text/plain": [
              "84"
            ]
          },
          "metadata": {},
          "execution_count": 13
        }
      ]
    },
    {
      "cell_type": "code",
      "source": [
        "#общее число исходов\n",
        "C = combi(3, 15)\n",
        "C"
      ],
      "metadata": {
        "colab": {
          "base_uri": "https://localhost:8080/"
        },
        "id": "8n4Lb-KUEPi_",
        "outputId": "e3f01a0f-90ce-4da6-c6a3-24d776677d30"
      },
      "execution_count": 27,
      "outputs": [
        {
          "output_type": "execute_result",
          "data": {
            "text/plain": [
              "455"
            ]
          },
          "metadata": {},
          "execution_count": 27
        }
      ]
    },
    {
      "cell_type": "code",
      "source": [
        "#подсчёт вероятности\n",
        "P = B/C\n",
        "f'Вероятность того, что все случайно извлечённые детали окажутся окрашенными составляет {round(P*100, 2)}%'"
      ],
      "metadata": {
        "colab": {
          "base_uri": "https://localhost:8080/",
          "height": 35
        },
        "id": "AuBkMJsfCnpG",
        "outputId": "57b5ba6d-fcc3-4c94-e2b2-7b3ffde0fdb8"
      },
      "execution_count": 22,
      "outputs": [
        {
          "output_type": "execute_result",
          "data": {
            "text/plain": [
              "'Вероятность того, что все случайно извлечённые детали окажутся окрашенными составляет 18.46%'"
            ],
            "application/vnd.google.colaboratory.intrinsic+json": {
              "type": "string"
            }
          },
          "metadata": {},
          "execution_count": 22
        }
      ]
    },
    {
      "cell_type": "markdown",
      "source": [
        "В лотерее 100 билетов. Из них 2 выигрышных. Какова вероятность того, что 2 приобретенных билета окажутся выигрышными?"
      ],
      "metadata": {
        "id": "2ttIK4vEGBUc"
      }
    },
    {
      "cell_type": "code",
      "source": [
        "#количество благоприятных исходов\n",
        "combi(2, 2)"
      ],
      "metadata": {
        "colab": {
          "base_uri": "https://localhost:8080/"
        },
        "id": "OGHeSj8qNGCb",
        "outputId": "5cad1605-cac4-42a9-e5ca-8658b60e491d"
      },
      "execution_count": 39,
      "outputs": [
        {
          "output_type": "execute_result",
          "data": {
            "text/plain": [
              "1"
            ]
          },
          "metadata": {},
          "execution_count": 39
        }
      ]
    },
    {
      "cell_type": "code",
      "source": [
        "#общее количество исходов\n",
        "combi(2, 100)"
      ],
      "metadata": {
        "colab": {
          "base_uri": "https://localhost:8080/"
        },
        "id": "FTOlbvjyOCsV",
        "outputId": "ca58276b-9489-484b-d990-74c02ca632a0"
      },
      "execution_count": 40,
      "outputs": [
        {
          "output_type": "execute_result",
          "data": {
            "text/plain": [
              "4950"
            ]
          },
          "metadata": {},
          "execution_count": 40
        }
      ]
    },
    {
      "cell_type": "code",
      "source": [
        "f'Вероятность того, что оба билета окажутся выйгрышными составляет {round((combi(2, 2)/combi(2, 100))*100, 2)}%'\n"
      ],
      "metadata": {
        "colab": {
          "base_uri": "https://localhost:8080/",
          "height": 35
        },
        "id": "u84NxW0wDFKF",
        "outputId": "97a5a64e-c489-4f76-8ea7-7545207cbc20"
      },
      "execution_count": 41,
      "outputs": [
        {
          "output_type": "execute_result",
          "data": {
            "text/plain": [
              "'Вероятность того, что оба билета окажутся выйгрышными составляет 0.02%'"
            ],
            "application/vnd.google.colaboratory.intrinsic+json": {
              "type": "string"
            }
          },
          "metadata": {},
          "execution_count": 41
        }
      ]
    }
  ]
}
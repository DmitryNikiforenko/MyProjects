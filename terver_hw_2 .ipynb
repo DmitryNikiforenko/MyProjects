{
 "cells": [
  {
   "cell_type": "code",
   "execution_count": 80,
   "metadata": {
    "id": "iaiBRFgP-Z4O"
   },
   "outputs": [],
   "source": [
    "import numpy as np\n",
    "import math"
   ]
  },
  {
   "cell_type": "code",
   "execution_count": 81,
   "metadata": {
    "id": "r_Siu6UO-VIv"
   },
   "outputs": [],
   "source": [
    "#уравнение совмещения\n",
    "def combi(k, n):\n",
    "  return math.factorial(n)/(math.factorial(k)*math.factorial(n-k))"
   ]
  },
  {
   "cell_type": "code",
   "execution_count": 82,
   "metadata": {
    "id": "Bpg8KW4Q-6T5"
   },
   "outputs": [],
   "source": [
    "#уравнение Бернулли\n",
    "def Ber(k, n, p, q):\n",
    "  return combi(k, n)*(p**k)*(q**(n-k))"
   ]
  },
  {
   "cell_type": "code",
   "execution_count": 83,
   "metadata": {
    "id": "0zLLGStRGtw6"
   },
   "outputs": [],
   "source": [
    "#уравнение Пуассона\n",
    "def Puasso(L, m):\n",
    "  return (L**m/math.factorial(m))*(math.e**-L)"
   ]
  },
  {
   "cell_type": "markdown",
   "metadata": {
    "id": "qvxP0USlrRQs"
   },
   "source": [
    "### Вероятность того, что стрелок попадет в мишень, выстрелив один раз, равна 0.8. Стрелок выстрелил 100 раз. Найдите вероятность того, что стрелок попадет в цель ровно 85 раз."
   ]
  },
  {
   "cell_type": "code",
   "execution_count": 84,
   "metadata": {
    "id": "o6vpzdOhJPmo"
   },
   "outputs": [],
   "source": [
    "#Данная задача является случаем биноминального распределения, т.к. вероятность попадания стрелка в мишень > 0,1 и число выстрелов невелико - 100\n",
    "k = 85 # количество благоприятных исходов\n",
    "n = 100 # общее количество испытаний\n",
    "p = 0.8 # Вероятность того, что стрелок попадет в мишень, выстрелив один раз\n",
    "q = 0.2 # Вероятность того, что стрелок не попадет в мишень, выстрелив один раз"
   ]
  },
  {
   "cell_type": "code",
   "execution_count": 85,
   "metadata": {
    "colab": {
     "base_uri": "https://localhost:8080/",
     "height": 35
    },
    "id": "c3L5oObHsqIH",
    "outputId": "c0d13703-8108-40cc-8a93-af0f1def1a66"
   },
   "outputs": [
    {
     "data": {
      "text/plain": [
       "'Вероятность того, что стрелок попадет в цель ровно 85 раз составляет 4.81 %'"
      ]
     },
     "execution_count": 85,
     "metadata": {},
     "output_type": "execute_result"
    }
   ],
   "source": [
    "f'Вероятность того, что стрелок попадет в цель ровно 85 раз составляет {round(Ber(85, 100, 0.8, 0.2)*100, 2)} %'"
   ]
  },
  {
   "cell_type": "markdown",
   "metadata": {
    "id": "kCANj8K_u4O7"
   },
   "source": [
    "### Вероятность того, что лампочка перегорит в течение первого дня эксплуатации, равна 0.0004. В жилом комплексе после ремонта в один день включили 5000 новых лампочек. Какова вероятность, что ни одна из них не перегорит в первый день? Какова вероятность, что перегорят ровно две?"
   ]
  },
  {
   "cell_type": "code",
   "execution_count": 86,
   "metadata": {
    "colab": {
     "base_uri": "https://localhost:8080/"
    },
    "id": "AbK5hTYmu4td",
    "outputId": "2022818f-794f-4379-a24f-8e3a81647a5b"
   },
   "outputs": [
    {
     "data": {
      "text/plain": [
       "2.0"
      ]
     },
     "execution_count": 86,
     "metadata": {},
     "output_type": "execute_result"
    }
   ],
   "source": [
    "p = 0.0004 #вероятность того, что лампочка перегорит в течение первого дня эксплуатации\n",
    "n = 5000 #количество испытаний\n",
    "L = p*n  #среднее количество наступивших событий за определённые число измерений\n",
    "L"
   ]
  },
  {
   "cell_type": "code",
   "execution_count": 87,
   "metadata": {
    "id": "W3cHi_Guxg9O"
   },
   "outputs": [
    {
     "data": {
      "text/plain": [
       "'Вероятность, что ни одна из лампочек не перегорит в первый день, составляет 13.53 %'"
      ]
     },
     "execution_count": 87,
     "metadata": {},
     "output_type": "execute_result"
    }
   ],
   "source": [
    "f'Вероятность, что ни одна из лампочек не перегорит в первый день, составляет {round(Puasso(2, 0)*100, 2)} %'"
   ]
  },
  {
   "cell_type": "code",
   "execution_count": 88,
   "metadata": {
    "id": "hsz9mn8TxtBG"
   },
   "outputs": [
    {
     "data": {
      "text/plain": [
       "'Вероятность, что две лампочеки перегорят в первый день, составляет 27.07 %'"
      ]
     },
     "execution_count": 88,
     "metadata": {},
     "output_type": "execute_result"
    }
   ],
   "source": [
    "f'Вероятность, что две лампочеки перегорят в первый день, составляет {round(Puasso(2, 2)*100, 2)} %'"
   ]
  },
  {
   "cell_type": "markdown",
   "metadata": {},
   "source": [
    "### Монету подбросили 144 раза. Какова вероятность, что орел выпадет ровно 70 раз?"
   ]
  },
  {
   "cell_type": "code",
   "execution_count": 89,
   "metadata": {},
   "outputs": [],
   "source": [
    "k = 70 # благоприятные исходы\n",
    "n = 144 # общее количество испытаний\n",
    "p = 0.5 # вероятность выпадения орла\n",
    "q = 0.5 # вероятность выпадения решки"
   ]
  },
  {
   "cell_type": "code",
   "execution_count": 90,
   "metadata": {},
   "outputs": [
    {
     "data": {
      "text/plain": [
       "'Вероятность, что орел выпадет ровно 70 раз, составляет 6.28 %'"
      ]
     },
     "execution_count": 90,
     "metadata": {},
     "output_type": "execute_result"
    }
   ],
   "source": [
    "f'Вероятность, что орел выпадет ровно 70 раз, составляет {round(Ber(70, 144, 0.5, 0.5)*100, 2)} %'"
   ]
  },
  {
   "cell_type": "markdown",
   "metadata": {},
   "source": [
    "### В первом ящике находится 10 мячей, из которых 7 - белые. Во втором ящике - 11 мячей, из которых 9 белых. Из каждого ящика вытаскивают случайным образом по два мяча. Какова вероятность того, что все мячи белые? Какова вероятность того, что ровно два мяча белые? Какова вероятность того, что хотя бы один мяч белый?"
   ]
  },
  {
   "cell_type": "code",
   "execution_count": 91,
   "metadata": {},
   "outputs": [
    {
     "data": {
      "text/plain": [
       "'Вероятность, что все мячи белые, составляет 30.55 %'"
      ]
     },
     "execution_count": 91,
     "metadata": {},
     "output_type": "execute_result"
    }
   ],
   "source": [
    "P = ((combi(2, 7)*combi(0, 3))/combi(2, 10))*((combi(2, 9)*combi(0, 2))/combi(2, 11))*100\n",
    "f'Вероятность, что все мячи белые, составляет {round(P, 2)} %'"
   ]
  },
  {
   "cell_type": "code",
   "execution_count": 92,
   "metadata": {},
   "outputs": [
    {
     "name": "stdout",
     "output_type": "stream",
     "text": [
      "0.8484848484848484\n",
      "4.363636363636363\n",
      "15.272727272727273\n"
     ]
    }
   ],
   "source": [
    "#Какова вероятность того, что ровно два мяча белые?\n",
    "#два мяча из первой корзины\n",
    "A1 = ((combi(2, 7)*combi(0, 3))/combi(2, 10))*((combi(0, 9)*combi(2, 2))/combi(2, 11))*100\n",
    "print(A1)\n",
    "#два мяча из второй корзины\n",
    "A2 = ((combi(0, 7)*combi(2, 3))/combi(2, 10))*((combi(2, 9)*combi(0, 2))/combi(2, 11))*100\n",
    "print(A2)\n",
    "#по одному мячу из каждой корзины\n",
    "A3 = ((combi(1, 7)*combi(1, 3))/combi(2, 10))*((combi(1, 9)*combi(1, 2))/combi(2, 11))*100\n",
    "print(A3)"
   ]
  },
  {
   "cell_type": "code",
   "execution_count": 93,
   "metadata": {},
   "outputs": [
    {
     "data": {
      "text/plain": [
       "'Вероятность того, что ровно два из четырёх мячей белые, составляет 20.48 %'"
      ]
     },
     "execution_count": 93,
     "metadata": {},
     "output_type": "execute_result"
    }
   ],
   "source": [
    "P = A1+A2+A3\n",
    "f'Вероятность того, что ровно два из четырёх мячей белые, составляет {round(P, 2)} %'"
   ]
  },
  {
   "cell_type": "code",
   "execution_count": 94,
   "metadata": {},
   "outputs": [
    {
     "data": {
      "text/plain": [
       "'Вероятность достать хотя бы один белый мяч, составляет 99.88 %'"
      ]
     },
     "execution_count": 94,
     "metadata": {},
     "output_type": "execute_result"
    }
   ],
   "source": [
    "#Для вычисления вероятности достать хотя бы один белый мяч, вычтем из общего числа вероятностей вероятность достать не белый мяч\n",
    "P = 1-(3/10*2/9*2/11*1/10)\n",
    "f'Вероятность достать хотя бы один белый мяч, составляет {round(P*100, 2)} %'"
   ]
  },
  {
   "cell_type": "code",
   "execution_count": null,
   "metadata": {},
   "outputs": [],
   "source": []
  }
 ],
 "metadata": {
  "colab": {
   "collapsed_sections": [],
   "provenance": []
  },
  "kernelspec": {
   "display_name": "Python 3 (ipykernel)",
   "language": "python",
   "name": "python3"
  },
  "language_info": {
   "codemirror_mode": {
    "name": "ipython",
    "version": 3
   },
   "file_extension": ".py",
   "mimetype": "text/x-python",
   "name": "python",
   "nbconvert_exporter": "python",
   "pygments_lexer": "ipython3",
   "version": "3.9.7"
  }
 },
 "nbformat": 4,
 "nbformat_minor": 4
}

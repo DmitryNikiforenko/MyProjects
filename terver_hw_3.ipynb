{
 "cells": [
  {
   "cell_type": "code",
   "execution_count": 5,
   "id": "ccc65eb5-bfd4-42c3-b98e-6cf8fb458616",
   "metadata": {},
   "outputs": [],
   "source": [
    "import numpy as np\n",
    "import math"
   ]
  },
  {
   "cell_type": "markdown",
   "id": "96b53791-527d-4345-892e-90d7bf172948",
   "metadata": {},
   "source": [
    "### 1. Даны значения зарплат из выборки выпускников: 100, 80, 75, 77, 89, 33, 45, 25, 65, 17, 30, 24, 57, 55, 70, 75, 65, 84, 90, 150. Посчитать (желательно без использования статистических методов наподобие std, var, mean) среднее арифметическое, среднее квадратичное отклонение, смещенную и несмещенную оценки дисперсий для данной выборки."
   ]
  },
  {
   "cell_type": "code",
   "execution_count": 6,
   "id": "3fa15b50-38fb-4e50-ad09-d13d952290e8",
   "metadata": {},
   "outputs": [
    {
     "data": {
      "text/plain": [
       "array([100,  80,  75,  77,  89,  33,  45,  25,  65,  17,  30,  24,  57,\n",
       "        55,  70,  75,  65,  84,  90, 150])"
      ]
     },
     "execution_count": 6,
     "metadata": {},
     "output_type": "execute_result"
    }
   ],
   "source": [
    "x = np.array([100, 80, 75, 77, 89, 33, 45, 25, 65, 17, 30, 24, 57, 55, 70, 75, 65, 84, 90, 150])\n",
    "x"
   ]
  },
  {
   "cell_type": "code",
   "execution_count": 7,
   "id": "ff9e00df-b5ba-4598-a4c3-2dd3fd449a46",
   "metadata": {},
   "outputs": [
    {
     "data": {
      "text/plain": [
       "array([ 17,  24,  25,  30,  33,  45,  55,  57,  65,  65,  70,  75,  75,\n",
       "        77,  80,  84,  89,  90, 100, 150])"
      ]
     },
     "execution_count": 7,
     "metadata": {},
     "output_type": "execute_result"
    }
   ],
   "source": [
    "x.sort()\n",
    "x"
   ]
  },
  {
   "cell_type": "code",
   "execution_count": 8,
   "id": "61e4441b-39f5-409f-bcdd-c6e35de4fb17",
   "metadata": {},
   "outputs": [],
   "source": [
    "#среднее арифметическое\n",
    "def mean_user(m):\n",
    "    a = 0\n",
    "    for i in m:\n",
    "        a = a + i\n",
    "    return a/len(m)"
   ]
  },
  {
   "cell_type": "code",
   "execution_count": 9,
   "id": "d89e0f9c-9adc-4112-a69a-8da498afebef",
   "metadata": {},
   "outputs": [
    {
     "data": {
      "text/plain": [
       "65.3"
      ]
     },
     "execution_count": 9,
     "metadata": {},
     "output_type": "execute_result"
    }
   ],
   "source": [
    "mean_user(x)"
   ]
  },
  {
   "cell_type": "code",
   "execution_count": 10,
   "id": "c5668213-2ce9-4a9c-9468-11221901e469",
   "metadata": {},
   "outputs": [
    {
     "data": {
      "text/plain": [
       "65.3"
      ]
     },
     "execution_count": 10,
     "metadata": {},
     "output_type": "execute_result"
    }
   ],
   "source": [
    "np.mean(x)"
   ]
  },
  {
   "cell_type": "code",
   "execution_count": 11,
   "id": "e59042dd-07a9-4f2b-9262-13d8c4a1a47c",
   "metadata": {},
   "outputs": [],
   "source": [
    "#среднее квадратичное отклонение\n",
    "def std_user(m):\n",
    "    a = 0\n",
    "    for i in m:\n",
    "        a = a + (i - mean_user(m))**2\n",
    "    return np.sqrt(a/len(m))"
   ]
  },
  {
   "cell_type": "code",
   "execution_count": 12,
   "id": "1f240c1a-3b19-4f24-a0c7-b75e15eb0190",
   "metadata": {},
   "outputs": [
    {
     "data": {
      "text/plain": [
       "30.823854398825596"
      ]
     },
     "execution_count": 12,
     "metadata": {},
     "output_type": "execute_result"
    }
   ],
   "source": [
    "std_user(x)"
   ]
  },
  {
   "cell_type": "code",
   "execution_count": 13,
   "id": "e0ef2e8e-e8d2-42f9-a4f1-07e87ee5c99e",
   "metadata": {},
   "outputs": [
    {
     "data": {
      "text/plain": [
       "30.823854398825592"
      ]
     },
     "execution_count": 13,
     "metadata": {},
     "output_type": "execute_result"
    }
   ],
   "source": [
    "np.std(x)"
   ]
  },
  {
   "cell_type": "code",
   "execution_count": 14,
   "id": "54adc712-b7f0-4201-8d78-e32359e3e05f",
   "metadata": {},
   "outputs": [],
   "source": [
    "#смещённая дисперсия\n",
    "def var_user(m):\n",
    "    a = 0\n",
    "    for i in m:\n",
    "        a = a + (i - mean_user(m))**2\n",
    "    return a/len(m)"
   ]
  },
  {
   "cell_type": "code",
   "execution_count": 15,
   "id": "95deeff9-1aac-49a3-bc2d-656cb5e11cc0",
   "metadata": {},
   "outputs": [
    {
     "data": {
      "text/plain": [
       "950.11"
      ]
     },
     "execution_count": 15,
     "metadata": {},
     "output_type": "execute_result"
    }
   ],
   "source": [
    "var_user(x)"
   ]
  },
  {
   "cell_type": "code",
   "execution_count": 16,
   "id": "e9fd758b-3662-45e1-ba2c-d8f831bbd75a",
   "metadata": {},
   "outputs": [
    {
     "data": {
      "text/plain": [
       "950.1099999999999"
      ]
     },
     "execution_count": 16,
     "metadata": {},
     "output_type": "execute_result"
    }
   ],
   "source": [
    "np.var(x)"
   ]
  },
  {
   "cell_type": "code",
   "execution_count": 17,
   "id": "ee99c5f6-b5e3-42a4-9a23-9d0df2f03919",
   "metadata": {},
   "outputs": [],
   "source": [
    "#несмещённая дисперсия\n",
    "def var_N_user(m):\n",
    "    a = 0\n",
    "    for i in m:\n",
    "        a = a + (i - mean_user(m))**2\n",
    "    return a/(len(m)-1)"
   ]
  },
  {
   "cell_type": "code",
   "execution_count": 18,
   "id": "f177a5c2-240e-40d1-bc7d-ac3db318ddb3",
   "metadata": {},
   "outputs": [
    {
     "data": {
      "text/plain": [
       "1000.1157894736842"
      ]
     },
     "execution_count": 18,
     "metadata": {},
     "output_type": "execute_result"
    }
   ],
   "source": [
    "var_N_user(x)"
   ]
  },
  {
   "cell_type": "code",
   "execution_count": 19,
   "id": "0167c5b5-20e6-4e8c-86ba-54dca0d5a174",
   "metadata": {},
   "outputs": [
    {
     "data": {
      "text/plain": [
       "1000.115789473684"
      ]
     },
     "execution_count": 19,
     "metadata": {},
     "output_type": "execute_result"
    }
   ],
   "source": [
    "np.var(x, ddof=1)"
   ]
  },
  {
   "cell_type": "markdown",
   "id": "28fffc86-daf3-4271-9d69-d8480f955d86",
   "metadata": {},
   "source": [
    "### 2. В первом ящике находится 8 мячей, из которых 5 - белые. Во втором ящике - 12 мячей, из которых 5 белых. Из первого ящика вытаскивают случайным образом два мяча, из второго - 4. Какова вероятность того, что 3 мяча белые?"
   ]
  },
  {
   "cell_type": "code",
   "execution_count": 20,
   "id": "477efc87-1180-4572-a199-eb39592b7f63",
   "metadata": {},
   "outputs": [],
   "source": [
    "#уравнение совмещения\n",
    "def combi(k, n):\n",
    "  return math.factorial(n)/(math.factorial(k)*math.factorial(n-k))"
   ]
  },
  {
   "cell_type": "code",
   "execution_count": 21,
   "id": "0325dcda-93eb-4f08-a404-f580ff6a503b",
   "metadata": {},
   "outputs": [
    {
     "name": "stdout",
     "output_type": "stream",
     "text": [
      "2.525252525252525\n",
      "22.727272727272727\n",
      "22.727272727272727\n"
     ]
    }
   ],
   "source": [
    "#Какова вероятность того, что три мяча белые?\n",
    "#два мяча из первой корзины, один из второй\n",
    "A1 = ((combi(2, 5)*combi(0, 3))/combi(2, 8))*((combi(0, 5)*combi(4, 7))/combi(4, 12))*100\n",
    "print(A1)\n",
    "#один мяч из первой корзины, два мяча из второй корзины\n",
    "A2 = ((combi(1, 5)*combi(1, 3))/combi(2, 8))*((combi(2, 5)*combi(2, 7))/combi(4, 12))*100\n",
    "print(A2)\n",
    "#три белых из второй корзины\n",
    "A3 = ((combi(0, 5)*combi(2, 3))/combi(2, 8))*((combi(3, 5)*combi(1, 7))/combi(4, 12))*100\n",
    "print(A2)"
   ]
  },
  {
   "cell_type": "code",
   "execution_count": 22,
   "id": "891e2bbd-02be-482a-9a9b-b7d58d9c3391",
   "metadata": {},
   "outputs": [
    {
     "data": {
      "text/plain": [
       "'Вероятность того, что три мяча белые, составляет 26.77 %'"
      ]
     },
     "execution_count": 22,
     "metadata": {},
     "output_type": "execute_result"
    }
   ],
   "source": [
    "P = A1+A2+A3\n",
    "f'Вероятность того, что три мяча белые, составляет {round(P, 2)} %'"
   ]
  },
  {
   "cell_type": "markdown",
   "id": "c07ab2b9-dc81-4665-9045-907f7923811d",
   "metadata": {},
   "source": [
    "### 3. На соревновании по биатлону один из трех спортсменов стреляет и попадает в мишень. Вероятность попадания для первого спортсмена равна 0.9, для второго — 0.8, для третьего — 0.6. Найти вероятность того, что выстрел произведен: a). первым спортсменом б). вторым спортсменом в). третьим спортсменом."
   ]
  },
  {
   "cell_type": "code",
   "execution_count": 8,
   "id": "199bc2c7-7ff5-4e92-826d-a564a6c8b15e",
   "metadata": {},
   "outputs": [
    {
     "data": {
      "text/plain": [
       "0.7666666666666666"
      ]
     },
     "execution_count": 8,
     "metadata": {},
     "output_type": "execute_result"
    }
   ],
   "source": [
    "#формула полной вероятности\n",
    "A = 1/3*0.9+1/3*0.8+1/3*0.6\n",
    "A"
   ]
  },
  {
   "cell_type": "code",
   "execution_count": 11,
   "id": "3e177259-2307-495c-92bf-7e58c67cf330",
   "metadata": {},
   "outputs": [
    {
     "data": {
      "text/plain": [
       "'Вероятность того, что выстрел произведён первым спрортсменом составляет 39.13 %'"
      ]
     },
     "execution_count": 11,
     "metadata": {},
     "output_type": "execute_result"
    }
   ],
   "source": [
    "f'Вероятность того, что выстрел произведён первым спрортсменом составляет {round((1/3*0.9)/A*100, 2)} %'"
   ]
  },
  {
   "cell_type": "code",
   "execution_count": 12,
   "id": "378b43d4-a8de-489f-b9ca-cdea4ef41957",
   "metadata": {},
   "outputs": [
    {
     "data": {
      "text/plain": [
       "'Вероятность того, что выстрел произведён вторым спрортсменом составляет 34.78 %'"
      ]
     },
     "execution_count": 12,
     "metadata": {},
     "output_type": "execute_result"
    }
   ],
   "source": [
    "f'Вероятность того, что выстрел произведён вторым спрортсменом составляет {round((1/3*0.8)/A*100, 2)} %'"
   ]
  },
  {
   "cell_type": "code",
   "execution_count": 13,
   "id": "7d80caaa-67b7-4c75-b7d9-e6e67a9bf890",
   "metadata": {},
   "outputs": [
    {
     "data": {
      "text/plain": [
       "'Вероятность того, что выстрел произведён третьим спрортсменом составляет 26.09 %'"
      ]
     },
     "execution_count": 13,
     "metadata": {},
     "output_type": "execute_result"
    }
   ],
   "source": [
    "f'Вероятность того, что выстрел произведён третьим спрортсменом составляет {round((1/3*0.6)/A*100, 2)} %'"
   ]
  },
  {
   "cell_type": "markdown",
   "id": "007222b4-1b73-4c14-bab9-ea22b514152b",
   "metadata": {},
   "source": [
    "### 4. В университет на факультеты A и B поступило равное количество студентов, а на факультет C студентов поступило столько же, сколько на A и B вместе. Вероятность того, что студент факультета A сдаст первую сессию, равна 0.8. Для студента факультета B эта вероятность равна 0.7, а для студента факультета C - 0.9. Студент сдал первую сессию. Какова вероятность, что он учится: a). на факультете A б). на факультете B в). на факультете C?"
   ]
  },
  {
   "cell_type": "code",
   "execution_count": 14,
   "id": "7e05a1b9-244f-4cd5-9d41-55993a0a7afb",
   "metadata": {},
   "outputs": [
    {
     "data": {
      "text/plain": [
       "0.825"
      ]
     },
     "execution_count": 14,
     "metadata": {},
     "output_type": "execute_result"
    }
   ],
   "source": [
    "#формула полной вероятности\n",
    "A = 1/4*0.8+1/4*0.7+1/2*0.9\n",
    "A"
   ]
  },
  {
   "cell_type": "code",
   "execution_count": 15,
   "id": "47284cb3-af50-443f-a75c-c8db6b763a14",
   "metadata": {},
   "outputs": [
    {
     "data": {
      "text/plain": [
       "'Вероятность того, что студент учился на факультете А составляет 24.24 %'"
      ]
     },
     "execution_count": 15,
     "metadata": {},
     "output_type": "execute_result"
    }
   ],
   "source": [
    "f'Вероятность того, что студент учился на факультете А составляет {round((1/4*0.8)/A*100, 2)} %'"
   ]
  },
  {
   "cell_type": "code",
   "execution_count": 16,
   "id": "b8ec8c4d-ad10-446c-ae51-3c6a8d845648",
   "metadata": {},
   "outputs": [
    {
     "data": {
      "text/plain": [
       "'Вероятность того, что студент учился на факультете B составляет 21.21 %'"
      ]
     },
     "execution_count": 16,
     "metadata": {},
     "output_type": "execute_result"
    }
   ],
   "source": [
    "f'Вероятность того, что студент учился на факультете B составляет {round((1/4*0.7)/A*100, 2)} %'"
   ]
  },
  {
   "cell_type": "code",
   "execution_count": 17,
   "id": "fb98ed83-bb2f-4840-a14d-204487fb9f74",
   "metadata": {},
   "outputs": [
    {
     "data": {
      "text/plain": [
       "'Вероятность того, что студент учился на факультете B составляет 54.55 %'"
      ]
     },
     "execution_count": 17,
     "metadata": {},
     "output_type": "execute_result"
    }
   ],
   "source": [
    "f'Вероятность того, что студент учился на факультете B составляет {round((1/2*0.9)/A*100, 2)} %'"
   ]
  },
  {
   "cell_type": "markdown",
   "id": "635515c5-f425-485e-9c7c-00a32dbfdac8",
   "metadata": {},
   "source": [
    "### 5. Устройство состоит из трех деталей. Для первой детали вероятность выйти из строя в первый месяц равна 0.1, для второй - 0.2, для третьей - 0.25. Какова вероятность того, что в первый месяц выйдут из строя: а). все детали б). только две детали в). хотя бы одна деталь г). от одной до двух деталей?"
   ]
  },
  {
   "cell_type": "code",
   "execution_count": 36,
   "id": "fd20dc3f-db6f-43a5-9562-a94a72cd1dea",
   "metadata": {},
   "outputs": [
    {
     "data": {
      "text/plain": [
       "'Вероятность, что из строя выйдут все детали 0.5%'"
      ]
     },
     "execution_count": 36,
     "metadata": {},
     "output_type": "execute_result"
    }
   ],
   "source": [
    "f\"Вероятность, что из строя выйдут все детали {round((0.1*0.2*0.25)*100, 2)}%\""
   ]
  },
  {
   "cell_type": "code",
   "execution_count": 48,
   "id": "a630895b-4869-43a5-aac8-6c966afe59fb",
   "metadata": {},
   "outputs": [
    {
     "data": {
      "text/plain": [
       "'Вероятность, что из строя выйдут только две детали детали 8.0%'"
      ]
     },
     "execution_count": 48,
     "metadata": {},
     "output_type": "execute_result"
    }
   ],
   "source": [
    "f\"Вероятность, что из строя выйдут только две детали детали {round(((0.1*0.2*0.75)+(0.9*0.2*0.25)+(0.1*0.8*0.25))*100, 2)}%\""
   ]
  },
  {
   "cell_type": "code",
   "execution_count": 39,
   "id": "e6be30f8-ac4a-40d0-9d2f-7b0435c668d0",
   "metadata": {},
   "outputs": [
    {
     "data": {
      "text/plain": [
       "'Вероятность, что из строя выйдет хотя бы одна деталь 46.0%'"
      ]
     },
     "execution_count": 39,
     "metadata": {},
     "output_type": "execute_result"
    }
   ],
   "source": [
    "f\"Вероятность, что из строя выйдет хотя бы одна деталь {round((1-((1-0.1)*(1-0.2)*(1-0.25)))*100, 2)}%\""
   ]
  },
  {
   "cell_type": "code",
   "execution_count": 53,
   "id": "f78e62a1-58dc-43bb-9722-fee51f629c96",
   "metadata": {},
   "outputs": [
    {
     "data": {
      "text/plain": [
       "'Вероятность, что из строя выйдет от одной до двух деталей 45.5%'"
      ]
     },
     "execution_count": 53,
     "metadata": {},
     "output_type": "execute_result"
    }
   ],
   "source": [
    "f\"Вероятность, что из строя выйдет от одной до двух деталей {round(((0.1*0.8*0.75)+(0.9*0.2*0.75)+(0.9*0.8*0.25)+(0.1*0.2*0.75)+(0.9*0.2*0.25)+(0.1*0.8*0.25))*100, 2)}%\""
   ]
  }
 ],
 "metadata": {
  "kernelspec": {
   "display_name": "Python 3 (ipykernel)",
   "language": "python",
   "name": "python3"
  },
  "language_info": {
   "codemirror_mode": {
    "name": "ipython",
    "version": 3
   },
   "file_extension": ".py",
   "mimetype": "text/x-python",
   "name": "python",
   "nbconvert_exporter": "python",
   "pygments_lexer": "ipython3",
   "version": "3.9.7"
  }
 },
 "nbformat": 4,
 "nbformat_minor": 5
}

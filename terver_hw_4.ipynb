{
 "cells": [
  {
   "cell_type": "code",
   "execution_count": 153,
   "id": "76f04bde-1805-4134-97f6-5094ab613dd8",
   "metadata": {},
   "outputs": [],
   "source": [
    "import numpy as np"
   ]
  },
  {
   "cell_type": "markdown",
   "id": "d4f95cbb-7fb3-498a-8a18-2b19a3149d6b",
   "metadata": {},
   "source": [
    "### Случайная непрерывная величина A имеет равномерное распределение на промежутке (200, 800]. Найдите ее среднее значение и дисперсию."
   ]
  },
  {
   "cell_type": "code",
   "execution_count": 154,
   "id": "4a418f98-494c-4246-b888-78602301635f",
   "metadata": {},
   "outputs": [],
   "source": [
    "a = 200\n",
    "b = 800"
   ]
  },
  {
   "cell_type": "code",
   "execution_count": 155,
   "id": "742a602e-8130-4f61-a392-522ddef2c6e4",
   "metadata": {},
   "outputs": [
    {
     "data": {
      "text/plain": [
       "500.0"
      ]
     },
     "execution_count": 155,
     "metadata": {},
     "output_type": "execute_result"
    }
   ],
   "source": [
    "#Среднее значение\n",
    "(a+b)/2"
   ]
  },
  {
   "cell_type": "code",
   "execution_count": 167,
   "id": "a3594104-f7ec-4d46-ba40-685b137c0c55",
   "metadata": {},
   "outputs": [
    {
     "data": {
      "text/plain": [
       "30000.0"
      ]
     },
     "execution_count": 167,
     "metadata": {},
     "output_type": "execute_result"
    }
   ],
   "source": [
    "#Дисперсия\n",
    "round((b-a)**2/12, 2)"
   ]
  },
  {
   "cell_type": "markdown",
   "id": "a878a9ef-4e34-4d48-b22e-5166a3625e1b",
   "metadata": {},
   "source": [
    "### О случайной непрерывной равномерно распределенной величине B известно, что ее дисперсия равна 0.2.\n",
    "### Можно ли найти правую границу величины B и ее среднее значение зная, что левая граница равна 0.5?\n",
    "### Если да, найдите ее."
   ]
  },
  {
   "cell_type": "code",
   "execution_count": 175,
   "id": "e16caf52-d7f6-4467-bf87-744f6d1dfefe",
   "metadata": {},
   "outputs": [],
   "source": [
    "# (b-a)**2/12 - формула дисперсии\n",
    "# a = 0.5\n",
    "# значение дисперсии = 0.2"
   ]
  },
  {
   "cell_type": "code",
   "execution_count": 176,
   "id": "70055cda-2d15-4aa7-8cbf-ac31d95e8f23",
   "metadata": {},
   "outputs": [],
   "source": [
    "# выразим числитель\n",
    "# (b-a)**2 = 2.4"
   ]
  },
  {
   "cell_type": "code",
   "execution_count": 177,
   "id": "c665a5a0-f2db-4279-9464-c694076321b1",
   "metadata": {},
   "outputs": [],
   "source": [
    "# преобразовав выражение получим\n",
    "# b**2 - b - 2.15 = 0"
   ]
  },
  {
   "cell_type": "code",
   "execution_count": 172,
   "id": "ced04a8a-412d-4669-8fc1-3337460195ce",
   "metadata": {},
   "outputs": [
    {
     "data": {
      "text/plain": [
       "9.6"
      ]
     },
     "execution_count": 172,
     "metadata": {},
     "output_type": "execute_result"
    }
   ],
   "source": [
    "#Дискриминант\n",
    "(-1)**2-4*1*(-2.15)"
   ]
  },
  {
   "cell_type": "code",
   "execution_count": 173,
   "id": "64268712-80bc-46c9-b312-ed034dc935bb",
   "metadata": {},
   "outputs": [
    {
     "data": {
      "text/plain": [
       "'Правая граница величины В равна 2.049193338482967'"
      ]
     },
     "execution_count": 173,
     "metadata": {},
     "output_type": "execute_result"
    }
   ],
   "source": [
    "# т.к. мы ищем правую границу будем рассматривать корень с положительным знаком\n",
    "f'Правая граница величины В равна {(1+np.sqrt(9.6))/(2*1)}'"
   ]
  },
  {
   "cell_type": "code",
   "execution_count": 174,
   "id": "5aabcee1-4910-4ff7-b7d8-9e39ebcec720",
   "metadata": {},
   "outputs": [
    {
     "data": {
      "text/plain": [
       "1.2745966692414834"
      ]
     },
     "execution_count": 174,
     "metadata": {},
     "output_type": "execute_result"
    }
   ],
   "source": [
    "a = 0.5\n",
    "b = (1+np.sqrt(9.6))/(2*1)\n",
    "\n",
    "#Среднее значение\n",
    "(a+b)/2"
   ]
  },
  {
   "cell_type": "markdown",
   "id": "9d2e06f5-4775-494d-b413-4a3d3f1473ca",
   "metadata": {},
   "source": [
    "### Непрерывная случайная величина X распределена нормально и задана плотностью распределения\n",
    "### f(x) = (1 / (4 * sqrt(2*pi))) * (exp(-(x+2)**2) / 32).\n",
    "### Найдите:\n",
    "### а). M(X)\n",
    "### б). D(X)\n",
    "### в). std(X) (среднее квадратичное отклонение)"
   ]
  },
  {
   "cell_type": "code",
   "execution_count": 2,
   "id": "f4645154-0be3-4a4c-8c49-5456273566e7",
   "metadata": {},
   "outputs": [],
   "source": [
    "#M(X) = 2\n",
    "#D(X) = 16\n",
    "#std(X) = 4"
   ]
  },
  {
   "cell_type": "markdown",
   "id": "86f26ce7-e9eb-4b53-8603-c4b1600f477d",
   "metadata": {},
   "source": [
    "### Рост взрослого населения города X имеет нормальное распределение.\n",
    "### Причем, средний рост равен 174 см, а среднее квадратичное отклонение равно 8 см.\n",
    "### Какова вероятность того, что случайным образом выбранный взрослый человек имеет рост:\n",
    "### а). больше 182 см\n",
    "### б). больше 190 см\n",
    "### в). от 166 см до 190 см\n",
    "### г). от 166 см до 182 см\n",
    "### д). от 158 см до 190 см\n",
    "### е). не выше 150 см или не ниже 190 см\n",
    "### ё). не выше 150 см или не ниже 198 см\n",
    "### ж). ниже 166 см."
   ]
  },
  {
   "cell_type": "code",
   "execution_count": 34,
   "id": "28e8d766-fd42-4561-a20c-43ac28c26dd0",
   "metadata": {},
   "outputs": [
    {
     "data": {
      "text/plain": [
       "'Отклонение в пределах 1.0 сигмы'"
      ]
     },
     "execution_count": 34,
     "metadata": {},
     "output_type": "execute_result"
    }
   ],
   "source": [
    "f'Отклонение в пределах {(182-174)/8} сигмы'"
   ]
  },
  {
   "cell_type": "code",
   "execution_count": 67,
   "id": "48661350-d4ed-41d0-bd70-9ff365682383",
   "metadata": {},
   "outputs": [
    {
     "data": {
      "text/plain": [
       "'а) Вероятность того, что случайным образом выбранный взрослый человек имеет рост больше 182 см, составляет 15.87%'"
      ]
     },
     "execution_count": 67,
     "metadata": {},
     "output_type": "execute_result"
    }
   ],
   "source": [
    "f'а) Вероятность того, что случайным образом выбранный взрослый человек имеет рост больше 182 см, составляет {round((1 - 0.8413)*100, 2)}%'"
   ]
  },
  {
   "cell_type": "code",
   "execution_count": 35,
   "id": "0541f49a-7a9f-41da-92c5-c3f737ae30b7",
   "metadata": {},
   "outputs": [
    {
     "data": {
      "text/plain": [
       "'Отклонение в пределах 2.0 сигмы'"
      ]
     },
     "execution_count": 35,
     "metadata": {},
     "output_type": "execute_result"
    }
   ],
   "source": [
    "f'Отклонение в пределах {(190-174)/8} сигмы'"
   ]
  },
  {
   "cell_type": "code",
   "execution_count": 68,
   "id": "ce4f78fc-81e2-4f62-a6df-33fd4d7f8ff5",
   "metadata": {},
   "outputs": [
    {
     "data": {
      "text/plain": [
       "'б) Вероятность того, что случайным образом выбранный взрослый человек имеет рост больше 190 см, составляет 2.28%'"
      ]
     },
     "execution_count": 68,
     "metadata": {},
     "output_type": "execute_result"
    }
   ],
   "source": [
    "f'б) Вероятность того, что случайным образом выбранный взрослый человек имеет рост больше 190 см, составляет {round((1 - 0.9772)*100, 2)}%' "
   ]
  },
  {
   "cell_type": "code",
   "execution_count": 36,
   "id": "f461cd48-c688-4de8-911c-83ee930822cd",
   "metadata": {},
   "outputs": [
    {
     "data": {
      "text/plain": [
       "'Отклонение в пределах -1.0 сигмы'"
      ]
     },
     "execution_count": 36,
     "metadata": {},
     "output_type": "execute_result"
    }
   ],
   "source": [
    "f'Отклонение в пределах {(166-174)/8} сигмы'"
   ]
  },
  {
   "cell_type": "code",
   "execution_count": 69,
   "id": "43074393-35ec-4d49-9973-878305ed392e",
   "metadata": {},
   "outputs": [
    {
     "data": {
      "text/plain": [
       "'в) Вероятность того, что случайным образом выбранный взрослый человек имеет рост от 166 см до 190 см, составляет 81.85%'"
      ]
     },
     "execution_count": 69,
     "metadata": {},
     "output_type": "execute_result"
    }
   ],
   "source": [
    "f'в) Вероятность того, что случайным образом выбранный взрослый человек имеет рост от 166 см до 190 см, составляет {round(((1 - 0.1587) - (1 - 0.9772))*100, 2)}%' "
   ]
  },
  {
   "cell_type": "code",
   "execution_count": 70,
   "id": "39928551-4ddd-41d0-b51c-00edbec03152",
   "metadata": {},
   "outputs": [
    {
     "data": {
      "text/plain": [
       "'г) Вероятность того, что случайным образом выбранный взрослый человек имеет рост от от 166 см до 182 см, составляет 68.26%'"
      ]
     },
     "execution_count": 70,
     "metadata": {},
     "output_type": "execute_result"
    }
   ],
   "source": [
    "f'г) Вероятность того, что случайным образом выбранный взрослый человек имеет рост от от 166 см до 182 см, составляет {round((1 - 0.1587*2)*100, 2)}%' "
   ]
  },
  {
   "cell_type": "code",
   "execution_count": 37,
   "id": "d0087ff4-3104-491e-bbac-ae07b00f4c8d",
   "metadata": {},
   "outputs": [
    {
     "data": {
      "text/plain": [
       "'Отклонение в пределах -2.0 сигмы'"
      ]
     },
     "execution_count": 37,
     "metadata": {},
     "output_type": "execute_result"
    }
   ],
   "source": [
    "f'Отклонение в пределах {(158-174)/8} сигмы'"
   ]
  },
  {
   "cell_type": "code",
   "execution_count": 71,
   "id": "d54ce316-eda6-497e-aa35-a4f9b556ecdd",
   "metadata": {},
   "outputs": [
    {
     "data": {
      "text/plain": [
       "'д) Вероятность того, что случайным образом выбранный взрослый человек имеет рост от 158 см до 190 см, составляет 95.44%'"
      ]
     },
     "execution_count": 71,
     "metadata": {},
     "output_type": "execute_result"
    }
   ],
   "source": [
    "f'д) Вероятность того, что случайным образом выбранный взрослый человек имеет рост от 158 см до 190 см, составляет {round((1 - 0.0228*2)*100, 2)}%' "
   ]
  },
  {
   "cell_type": "code",
   "execution_count": 33,
   "id": "b447d48f-83ff-40aa-b9c1-64702155a8ed",
   "metadata": {},
   "outputs": [
    {
     "data": {
      "text/plain": [
       "'Отклонение в пределах -3.0 сигмы'"
      ]
     },
     "execution_count": 33,
     "metadata": {},
     "output_type": "execute_result"
    }
   ],
   "source": [
    "f'Отклонение в пределах {(150-174)/8} сигмы'"
   ]
  },
  {
   "cell_type": "code",
   "execution_count": 72,
   "id": "baf08785-740b-4e0f-8e79-c1d4763437de",
   "metadata": {},
   "outputs": [
    {
     "data": {
      "text/plain": [
       "'е) Вероятность того, что случайным образом выбранный взрослый человек имеет рост от не выше 150 см или не ниже 190 см, составляет 2.42%'"
      ]
     },
     "execution_count": 72,
     "metadata": {},
     "output_type": "execute_result"
    }
   ],
   "source": [
    "f'е) Вероятность того, что случайным образом выбранный взрослый человек имеет рост от не выше 150 см или не ниже 190 см, составляет {round(((1-0.9772)+0.0014)*100, 2)}%'"
   ]
  },
  {
   "cell_type": "code",
   "execution_count": 51,
   "id": "5376e961-0d2b-419a-9f78-32840b84f853",
   "metadata": {},
   "outputs": [
    {
     "data": {
      "text/plain": [
       "'Отклонение в пределах 3.0 сигмы'"
      ]
     },
     "execution_count": 51,
     "metadata": {},
     "output_type": "execute_result"
    }
   ],
   "source": [
    "f'Отклонение в пределах {(198-174)/8} сигмы'"
   ]
  },
  {
   "cell_type": "code",
   "execution_count": 73,
   "id": "b73eb02a-087f-4f6f-aecd-76be4d40113a",
   "metadata": {},
   "outputs": [
    {
     "data": {
      "text/plain": [
       "'ё) Вероятность того, что случайным образом выбранный взрослый человек имеет рост от не выше 150 см или не ниже 198 см, составляет 0.28%'"
      ]
     },
     "execution_count": 73,
     "metadata": {},
     "output_type": "execute_result"
    }
   ],
   "source": [
    "f'ё) Вероятность того, что случайным образом выбранный взрослый человек имеет рост от не выше 150 см или не ниже 198 см, составляет {round((0.0014*2)*100, 2)}%'"
   ]
  },
  {
   "cell_type": "code",
   "execution_count": 54,
   "id": "6fca9de5-b30e-4a75-b7af-168894637984",
   "metadata": {},
   "outputs": [
    {
     "data": {
      "text/plain": [
       "'Отклонение в пределах -1.0 сигмы'"
      ]
     },
     "execution_count": 54,
     "metadata": {},
     "output_type": "execute_result"
    }
   ],
   "source": [
    "f'Отклонение в пределах {(166-174)/8} сигмы'"
   ]
  },
  {
   "cell_type": "code",
   "execution_count": 74,
   "id": "f13fdd6a-ae3d-4d8c-8a50-86b4812dfdd2",
   "metadata": {},
   "outputs": [
    {
     "data": {
      "text/plain": [
       "'ж) Вероятность того, что случайным образом выбранный взрослый человек имеет рост ниже 166 см, составляет 15.87%'"
      ]
     },
     "execution_count": 74,
     "metadata": {},
     "output_type": "execute_result"
    }
   ],
   "source": [
    "f'ж) Вероятность того, что случайным образом выбранный взрослый человек имеет рост ниже 166 см, составляет {round((0.1587)*100, 2)}%'"
   ]
  },
  {
   "cell_type": "markdown",
   "id": "41822525-3b71-402b-a5c2-d049f09b1d16",
   "metadata": {},
   "source": [
    "### На сколько сигм (средних квадратичных отклонений) отклоняется рост человека, равный 190 см, от\n",
    "### математического ожидания роста в популяции, в которой M(X) = 178 см и D(X) = 25 кв.см?"
   ]
  },
  {
   "cell_type": "code",
   "execution_count": 78,
   "id": "cc088b34-5e8a-4ca8-a832-ff1baf87e7d8",
   "metadata": {},
   "outputs": [
    {
     "data": {
      "text/plain": [
       "'Значение роста человека в 190 см отклоняется на 2.4 сигм от математического ожидания равного 178 см при значении дисперсии 25 кв.см'"
      ]
     },
     "execution_count": 78,
     "metadata": {},
     "output_type": "execute_result"
    }
   ],
   "source": [
    "f'Значение роста человека в 190 см отклоняется на {(190-178)/np.sqrt(25)} сигм от математического ожидания равного 178 см при значении дисперсии 25 кв.см'"
   ]
  }
 ],
 "metadata": {
  "kernelspec": {
   "display_name": "Python 3 (ipykernel)",
   "language": "python",
   "name": "python3"
  },
  "language_info": {
   "codemirror_mode": {
    "name": "ipython",
    "version": 3
   },
   "file_extension": ".py",
   "mimetype": "text/x-python",
   "name": "python",
   "nbconvert_exporter": "python",
   "pygments_lexer": "ipython3",
   "version": "3.9.7"
  }
 },
 "nbformat": 4,
 "nbformat_minor": 5
}

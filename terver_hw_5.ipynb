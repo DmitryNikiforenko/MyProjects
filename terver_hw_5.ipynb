{
 "cells": [
  {
   "cell_type": "code",
   "execution_count": 190,
   "id": "0d0952ad-6422-4c22-8d28-1b71551ea73c",
   "metadata": {},
   "outputs": [],
   "source": [
    "from scipy.stats import norm\n",
    "import numpy as np"
   ]
  },
  {
   "cell_type": "markdown",
   "id": "a7c04844-8007-4065-abe1-19e5287f48e7",
   "metadata": {
    "tags": []
   },
   "source": [
    "### Известно, что генеральная совокупность распределена нормально\n",
    "### со средним квадратическим отклонением, равным 16.\n",
    "### Найти доверительный интервал для оценки математического ожидания a с надежностью 0.95,\n",
    "### если выборочная средняя M = 80, а объем выборки n = 256."
   ]
  },
  {
   "cell_type": "code",
   "execution_count": 191,
   "id": "9d61b014-4210-476d-a51d-ba0d273bee87",
   "metadata": {},
   "outputs": [],
   "source": [
    "M = 80\n",
    "std = 16\n",
    "n = 256\n",
    "alpha = 0.05\n",
    "z = norm.ppf(0.975)"
   ]
  },
  {
   "cell_type": "code",
   "execution_count": 192,
   "id": "0f6bef21-18a4-4527-b782-db6ac997bb35",
   "metadata": {},
   "outputs": [
    {
     "data": {
      "text/plain": [
       "78.04"
      ]
     },
     "execution_count": 192,
     "metadata": {},
     "output_type": "execute_result"
    }
   ],
   "source": [
    "round(((M-z)*std)/np.sqrt(n), 2) #Нижняя граница доверительного интервала"
   ]
  },
  {
   "cell_type": "code",
   "execution_count": 193,
   "id": "ba20247c-5ae1-45d5-824e-ad4d4a1d68ba",
   "metadata": {},
   "outputs": [
    {
     "data": {
      "text/plain": [
       "81.96"
      ]
     },
     "execution_count": 193,
     "metadata": {},
     "output_type": "execute_result"
    }
   ],
   "source": [
    "round(((M+z)*std)/np.sqrt(n), 2) #Верхняя граница доверительного интервала"
   ]
  },
  {
   "cell_type": "code",
   "execution_count": 194,
   "id": "9fa69a7a-6732-4c10-b92d-7044db802634",
   "metadata": {},
   "outputs": [
    {
     "data": {
      "text/plain": [
       "'Доверительный интервал для оценки матожидания с надёжностью в 0,95 находится в интервале значений от 78.04 до 81.96'"
      ]
     },
     "execution_count": 194,
     "metadata": {},
     "output_type": "execute_result"
    }
   ],
   "source": [
    "f'Доверительный интервал для оценки матожидания с надёжностью в 0,95 находится в интервале значений от {round(((M-z)*std)/np.sqrt(n), 2)} до {round(((M+z)*std)/np.sqrt(n), 2)}'"
   ]
  },
  {
   "cell_type": "markdown",
   "id": "86b03313-92f5-464e-8425-747f32bb3225",
   "metadata": {},
   "source": [
    "### В результате 10 независимых измерений некоторой величины X, выполненных с одинаковой точностью,\n",
    "### получены опытные данные:\n",
    "### 6.9, 6.1, 6.2, 6.8, 7.5, 6.3, 6.4, 6.9, 6.7, 6.1\n",
    "### Предполагая, что результаты измерений подчинены нормальному закону распределения вероятностей,\n",
    "### оценить истинное значение величины X при помощи доверительного интервала, покрывающего это\n",
    "### значение с доверительной вероятностью 0,95."
   ]
  },
  {
   "cell_type": "code",
   "execution_count": 195,
   "id": "6d3bb725-1802-4578-a96e-fe97edae6a38",
   "metadata": {},
   "outputs": [],
   "source": [
    "n = 10\n",
    "X = np.array([6.9, 6.1, 6.2, 6.8, 7.5, 6.3, 6.4, 6.9, 6.7, 6.1])\n",
    "X_mean = X.mean()\n",
    "X_std = X.std(ddof=1)\n",
    "t = 2.262"
   ]
  },
  {
   "cell_type": "code",
   "execution_count": 196,
   "id": "6db88047-23c9-4f7f-adda-5664c5ebd7a6",
   "metadata": {},
   "outputs": [
    {
     "data": {
      "text/plain": [
       "6.267538255912426"
      ]
     },
     "execution_count": 196,
     "metadata": {},
     "output_type": "execute_result"
    }
   ],
   "source": [
    "X_mean-t*X_std/n**0.5 #Нижняя граница доверительного интервала"
   ]
  },
  {
   "cell_type": "code",
   "execution_count": 197,
   "id": "9639ba2a-e613-4e38-8f2b-10d08f6cd9c6",
   "metadata": {},
   "outputs": [
    {
     "data": {
      "text/plain": [
       "6.912461744087575"
      ]
     },
     "execution_count": 197,
     "metadata": {},
     "output_type": "execute_result"
    }
   ],
   "source": [
    "X_mean+t*X_std/n**0.5 #Верхняя граница доверительного интервала"
   ]
  },
  {
   "cell_type": "markdown",
   "id": "f18ca724-6e2e-4938-b5d5-6d910aca7f30",
   "metadata": {},
   "source": [
    "### Утверждается, что шарики для подшипников, изготовленные автоматическим станком, имеют средний диаметр 17 мм.\n",
    "### Используя односторонний критерий с α=0,05, проверить эту гипотезу, если в выборке из n=100 шариков средний диаметр\n",
    "### оказался равным 17.5 мм, а дисперсия известна и равна 4 мм."
   ]
  },
  {
   "cell_type": "code",
   "execution_count": 198,
   "id": "885493e7-866b-413b-8f78-4ad5d5f0cc3f",
   "metadata": {},
   "outputs": [],
   "source": [
    "M0 = 17.0\n",
    "М  = 17.5\n",
    "alpha = 0.05\n",
    "n = 100\n",
    "X = 17.5\n",
    "var = 4"
   ]
  },
  {
   "cell_type": "code",
   "execution_count": 199,
   "id": "b0f9786f-d3df-4119-9ad2-6dba2428556a",
   "metadata": {},
   "outputs": [
    {
     "data": {
      "text/plain": [
       "1.6448536269514722"
      ]
     },
     "execution_count": 199,
     "metadata": {},
     "output_type": "execute_result"
    }
   ],
   "source": [
    "norm.ppf(0.95) #табличное значение"
   ]
  },
  {
   "cell_type": "code",
   "execution_count": 200,
   "id": "f89e9346-36f8-4c44-8973-5d127b3e1f1a",
   "metadata": {},
   "outputs": [
    {
     "data": {
      "text/plain": [
       "2.5"
      ]
     },
     "execution_count": 200,
     "metadata": {},
     "output_type": "execute_result"
    }
   ],
   "source": [
    "((17.5 - 17)*100**0.5)/2 #z - критерий"
   ]
  },
  {
   "cell_type": "code",
   "execution_count": 201,
   "id": "67f97945-8156-4ac5-b771-f8a8fee93567",
   "metadata": {},
   "outputs": [],
   "source": [
    "# верна альтернативная гипотеза на уровне статистической значимости в 5% H1: M > M0"
   ]
  },
  {
   "cell_type": "code",
   "execution_count": 202,
   "id": "961c35bb-1d1f-4476-9a37-42c396311e33",
   "metadata": {},
   "outputs": [],
   "source": [
    "# шарики для подшипников имеют диаметр 17,5 мм. Гипотеза не верна при alpha = 0.05"
   ]
  },
  {
   "cell_type": "markdown",
   "id": "ab002158-12b2-4cb5-a40f-494328527972",
   "metadata": {},
   "source": [
    "### Продавец утверждает, что средний вес пачки печенья составляет 200 г.\n",
    "### Из партии извлечена выборка из 10 пачек. Вес каждой пачки составляет:\n",
    "### 202, 203, 199, 197, 195, 201, 200, 204, 194, 190.\n",
    "### Известно, что их веса распределены нормально.\n",
    "### Верно ли утверждение продавца, если учитывать, что доверительная вероятность равна 99%?"
   ]
  },
  {
   "cell_type": "code",
   "execution_count": 203,
   "id": "c128aab0-a596-438f-a273-f796893012f0",
   "metadata": {},
   "outputs": [],
   "source": [
    "M0 = 200\n",
    "X = np.array([202, 203, 199, 197, 195, 201, 200, 204, 194, 190])\n",
    "n = 10\n",
    "X_mean = X.mean()\n",
    "X_std = np.std(X, ddof=1)\n",
    "alpha = 0.005\n",
    "t = +-3.250 #значение табличного критерия Стъюдента"
   ]
  },
  {
   "cell_type": "code",
   "execution_count": 204,
   "id": "dbe3a8ac-1464-4424-a0f2-7b6d767fca2e",
   "metadata": {},
   "outputs": [
    {
     "data": {
      "text/plain": [
       "-1.0651074037450896"
      ]
     },
     "execution_count": 204,
     "metadata": {},
     "output_type": "execute_result"
    }
   ],
   "source": [
    "(X_mean-M0)*n**0.5/X_std #t - критерий"
   ]
  },
  {
   "cell_type": "code",
   "execution_count": 205,
   "id": "014d33ce-7929-4c39-b83e-cd6392ff0d49",
   "metadata": {},
   "outputs": [],
   "source": [
    "#Утверждение продавца верно, т. к. получившееся значение входит в область принятия гипотезы Н0"
   ]
  }
 ],
 "metadata": {
  "kernelspec": {
   "display_name": "Python 3 (ipykernel)",
   "language": "python",
   "name": "python3"
  },
  "language_info": {
   "codemirror_mode": {
    "name": "ipython",
    "version": 3
   },
   "file_extension": ".py",
   "mimetype": "text/x-python",
   "name": "python",
   "nbconvert_exporter": "python",
   "pygments_lexer": "ipython3",
   "version": "3.9.7"
  }
 },
 "nbformat": 4,
 "nbformat_minor": 5
}

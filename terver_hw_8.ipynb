{
 "cells": [
  {
   "cell_type": "code",
   "execution_count": 4,
   "id": "2e82449d-3e3d-48d8-9525-c6d105ce580b",
   "metadata": {},
   "outputs": [],
   "source": [
    "import numpy as np\n",
    "from scipy import stats"
   ]
  },
  {
   "cell_type": "markdown",
   "id": "e059f0d9-84bf-4a38-9e2b-8ac4f83b415a",
   "metadata": {},
   "source": [
    "### Провести дисперсионный анализ для определения того, есть ли различия среднего роста среди взрослых футболистов, хоккеистов и штангистов. Даны значения роста в трех группах случайно выбранных спортсменов: Футболисты: 173, 175, 180, 178, 177, 185, 183, 182. Хоккеисты: 177, 179, 180, 188, 177, 172, 171, 184, 180. Штангисты: 172, 173, 169, 177, 166, 180, 178, 177, 172, 166, 170. alpha = 0.05."
   ]
  },
  {
   "cell_type": "markdown",
   "id": "0bf5fba4-febb-4c58-b885-d2fb9c373bcb",
   "metadata": {},
   "source": [
    "### Данная задача является частным случаем однофакторного дисперсионного анализа"
   ]
  },
  {
   "cell_type": "code",
   "execution_count": 7,
   "id": "957cddbd-1cbd-42ce-a5fd-83853a3b7db7",
   "metadata": {},
   "outputs": [],
   "source": [
    "f = np.array([173, 175, 180, 178, 177, 185, 183, 182]) #футболисты\n",
    "h = np.array([177, 179, 180, 188, 177, 172, 171, 184, 180]) #хоккеисты\n",
    "st = np.array([172, 173, 169, 177, 166, 180, 178, 177, 172, 166, 170]) # штфнгисты\n",
    "a = 0.05 #значение альфа"
   ]
  },
  {
   "cell_type": "code",
   "execution_count": 8,
   "id": "e9cdc233-816c-40f4-8a20-c288f1ce9cab",
   "metadata": {},
   "outputs": [
    {
     "data": {
      "text/plain": [
       "F_onewayResult(statistic=5.500053450812596, pvalue=0.010482206918698694)"
      ]
     },
     "execution_count": 8,
     "metadata": {},
     "output_type": "execute_result"
    }
   ],
   "source": [
    "stats.f_oneway(f, h, st)"
   ]
  },
  {
   "cell_type": "markdown",
   "id": "b1273169-14a3-493a-a0d7-32502ea192c8",
   "metadata": {},
   "source": [
    "### Значение pvalue = 0.01 меньше чем a = 0.05, следовательно, принимается альтернативная гипотеза - имеются статистически значимые различия среднего роста среди футболистов, хоккеистов и штангистов."
   ]
  },
  {
   "cell_type": "code",
   "execution_count": null,
   "id": "c267f00f-7dbd-4367-ae14-0082c2800a00",
   "metadata": {},
   "outputs": [],
   "source": []
  }
 ],
 "metadata": {
  "kernelspec": {
   "display_name": "Python 3 (ipykernel)",
   "language": "python",
   "name": "python3"
  },
  "language_info": {
   "codemirror_mode": {
    "name": "ipython",
    "version": 3
   },
   "file_extension": ".py",
   "mimetype": "text/x-python",
   "name": "python",
   "nbconvert_exporter": "python",
   "pygments_lexer": "ipython3",
   "version": "3.9.7"
  }
 },
 "nbformat": 4,
 "nbformat_minor": 5
}

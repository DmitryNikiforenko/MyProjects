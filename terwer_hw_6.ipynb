{
 "cells": [
  {
   "cell_type": "code",
   "execution_count": 96,
   "id": "59cecb98-55fa-48e1-852b-012209a18348",
   "metadata": {},
   "outputs": [],
   "source": [
    "import numpy as np\n",
    "from scipy.stats import norm, t"
   ]
  },
  {
   "cell_type": "markdown",
   "id": "9cbd645d-9f6a-47c7-9603-3741ad9b84bb",
   "metadata": {},
   "source": [
    "### Даны значения величины заработной платы заемщиков банка (zp) и значения их поведенческого кредитного скоринга (ks):\n",
    "### zp = [35, 45, 190, 200, 40, 70, 54, 150, 120, 110],\n",
    "### ks = [401, 574, 874, 919, 459, 739, 653, 902, 746, 832].\n",
    "### Найдите ковариацию этих двух величин с помощью элементарных действий, а затем с помощью функции cov из numpy\n",
    "### Полученные значения должны быть равны.\n",
    "### Найдите коэффициент корреляции Пирсона с помощью ковариации и среднеквадратичных отклонений двух признаков,\n",
    "### а затем с использованием функций из библиотек numpy и pandas."
   ]
  },
  {
   "cell_type": "code",
   "execution_count": 17,
   "id": "d6ac9975-04ca-413b-9515-486b44b707e5",
   "metadata": {},
   "outputs": [],
   "source": [
    "zp = np.array([35, 45, 190, 200, 40, 70, 54, 150, 120, 110]) # заработной платы заемщиков банка\n",
    "ks = np.array([401, 574, 874, 919, 459, 739, 653, 902, 746, 832]) # значения поведенческого кредитного скоринга"
   ]
  },
  {
   "cell_type": "code",
   "execution_count": 9,
   "id": "f203bb64-8ebe-434a-a6bb-cce2677a6a3f",
   "metadata": {},
   "outputs": [
    {
     "data": {
      "text/plain": [
       "array([[ 3882.93333333, 10175.37777778],\n",
       "       [10175.37777778, 33854.32222222]])"
      ]
     },
     "execution_count": 9,
     "metadata": {},
     "output_type": "execute_result"
    }
   ],
   "source": [
    "np.cov(zp, ks)"
   ]
  },
  {
   "cell_type": "code",
   "execution_count": 39,
   "id": "7ff720d9-0c5f-4856-8058-7094b3f11999",
   "metadata": {},
   "outputs": [],
   "source": [
    "cov_xy = (sum((zp[k] - zp.mean()) * (ks[k] - ks.mean()) for k in range(len(ks)))/ (len(ks) - 1))"
   ]
  },
  {
   "cell_type": "code",
   "execution_count": 52,
   "id": "4ba14f92-0226-4789-b29d-c74660896d43",
   "metadata": {},
   "outputs": [
    {
     "data": {
      "text/plain": [
       "10175.377777777778"
      ]
     },
     "execution_count": 52,
     "metadata": {},
     "output_type": "execute_result"
    }
   ],
   "source": [
    "cov_xy #несмещённая оценка"
   ]
  },
  {
   "cell_type": "code",
   "execution_count": 51,
   "id": "e9313f1f-8112-4a27-ab50-445db66e6b95",
   "metadata": {},
   "outputs": [
    {
     "data": {
      "text/plain": [
       "9157.839999999997"
      ]
     },
     "execution_count": 51,
     "metadata": {},
     "output_type": "execute_result"
    }
   ],
   "source": [
    "cov_xy1 = (zp*ks).mean() - zp.mean()*ks.mean()\n",
    "cov_xy1 #смещённая оценка"
   ]
  },
  {
   "cell_type": "code",
   "execution_count": 43,
   "id": "d1df7d42-39f7-4ade-92b0-9a67c13c7424",
   "metadata": {},
   "outputs": [],
   "source": [
    "#среднее арифметическое\n",
    "def mean_user(m):\n",
    "    a = 0\n",
    "    for i in m:\n",
    "        a = a + i\n",
    "    return a/len(m)"
   ]
  },
  {
   "cell_type": "code",
   "execution_count": 44,
   "id": "83197c76-351a-493d-a5c9-b97721ca0541",
   "metadata": {},
   "outputs": [],
   "source": [
    "#среднее квадратичное отклонение\n",
    "def std_user(m):\n",
    "    a = 0\n",
    "    for i in m:\n",
    "        a = a + (i - mean_user(m))**2\n",
    "    return np.sqrt(a/len(m))"
   ]
  },
  {
   "cell_type": "code",
   "execution_count": 50,
   "id": "26ed1325-6367-4645-9c14-f6fbaceebe12",
   "metadata": {},
   "outputs": [
    {
     "data": {
      "text/plain": [
       "0.8874900920739158"
      ]
     },
     "execution_count": 50,
     "metadata": {},
     "output_type": "execute_result"
    }
   ],
   "source": [
    "cov_xy1/(std_user(zp)*std_user(ks))"
   ]
  },
  {
   "cell_type": "code",
   "execution_count": 48,
   "id": "3c91ffd4-2e14-49ae-90fa-aad2a08e5218",
   "metadata": {},
   "outputs": [
    {
     "data": {
      "text/plain": [
       "array([[1.        , 0.88749009],\n",
       "       [0.88749009, 1.        ]])"
      ]
     },
     "execution_count": 48,
     "metadata": {},
     "output_type": "execute_result"
    }
   ],
   "source": [
    "np.corrcoef(zp, ks)"
   ]
  },
  {
   "cell_type": "markdown",
   "id": "44fe1652-49b5-4c88-9b51-19482c67c5b5",
   "metadata": {},
   "source": [
    "### Измерены значения IQ выборки студентов,\n",
    "### обучающихся в местных технических вузах:\n",
    "### 131, 125, 115, 122, 131, 115, 107, 99, 125, 111.\n",
    "### Известно, что в генеральной совокупности IQ распределен нормально.\n",
    "### Найдите доверительный интервал для математического ожидания с надежностью 0.95."
   ]
  },
  {
   "cell_type": "code",
   "execution_count": 99,
   "id": "cb843b14-89eb-45e7-ab38-d3c89bcd1b1b",
   "metadata": {},
   "outputs": [],
   "source": [
    "x = np.array([131, 125, 115, 122, 131, 115, 107, 99, 125, 111])\n",
    "x_mean = x.mean()\n",
    "n = len(x)\n",
    "alpha = 0.025\n",
    "t = t.ppf(1 - 0.025, n-1) #критерий Стъюдента"
   ]
  },
  {
   "cell_type": "code",
   "execution_count": 100,
   "id": "2a9869bc-a7ee-4654-8bde-4902d86b97c5",
   "metadata": {},
   "outputs": [
    {
     "data": {
      "text/plain": [
       "110.55608365158724"
      ]
     },
     "execution_count": 100,
     "metadata": {},
     "output_type": "execute_result"
    }
   ],
   "source": [
    "x_mean-t*np.std(x, ddof=1)/n**0.5 # левая граница доверительного интервала с надёжностью в 0,95"
   ]
  },
  {
   "cell_type": "code",
   "execution_count": 101,
   "id": "964cccbc-a490-4b8c-af79-06f7643d96ba",
   "metadata": {},
   "outputs": [
    {
     "data": {
      "text/plain": [
       "125.64391634841274"
      ]
     },
     "execution_count": 101,
     "metadata": {},
     "output_type": "execute_result"
    }
   ],
   "source": [
    "x_mean+t*np.std(x, ddof=1)/n**0.5 # правая граница доверительного интервалас надёжностью в 0,95"
   ]
  },
  {
   "cell_type": "markdown",
   "id": "a48cedca-f9b3-4696-a684-271151ccdef9",
   "metadata": {},
   "source": [
    "### Известно, что рост футболистов в сборной распределен нормально\n",
    "### с дисперсией генеральной совокупности, равной 25 кв.см. Объем выборки равен 27,\n",
    "### среднее выборочное составляет 174.2. Найдите доверительный интервал для математического\n",
    "### ожидания с надежностью 0.95."
   ]
  },
  {
   "cell_type": "code",
   "execution_count": 106,
   "id": "91ad98df-0a91-42a6-907e-061bd69019f7",
   "metadata": {},
   "outputs": [],
   "source": [
    "std = 25**0.5\n",
    "n = 27\n",
    "MU = 174.2\n",
    "alpha = 0.05/2\n",
    "z = norm.ppf(1-alpha)"
   ]
  },
  {
   "cell_type": "code",
   "execution_count": 107,
   "id": "d1fe283e-94c1-4caf-8abb-4b31c33a1be4",
   "metadata": {},
   "outputs": [
    {
     "data": {
      "text/plain": [
       "172.3140237765397"
      ]
     },
     "execution_count": 107,
     "metadata": {},
     "output_type": "execute_result"
    }
   ],
   "source": [
    "MU-z*std/n**0.5 # левая граница доверительного интервала с надёжностью в 0,95"
   ]
  },
  {
   "cell_type": "code",
   "execution_count": 108,
   "id": "efc80605-0841-49db-a13a-ad566733504f",
   "metadata": {},
   "outputs": [
    {
     "data": {
      "text/plain": [
       "176.08597622346028"
      ]
     },
     "execution_count": 108,
     "metadata": {},
     "output_type": "execute_result"
    }
   ],
   "source": [
    "MU+z*std/n**0.5 # правая граница доверительного интервала с надёжностью в 0,95"
   ]
  }
 ],
 "metadata": {
  "kernelspec": {
   "display_name": "Python 3 (ipykernel)",
   "language": "python",
   "name": "python3"
  },
  "language_info": {
   "codemirror_mode": {
    "name": "ipython",
    "version": 3
   },
   "file_extension": ".py",
   "mimetype": "text/x-python",
   "name": "python",
   "nbconvert_exporter": "python",
   "pygments_lexer": "ipython3",
   "version": "3.9.7"
  }
 },
 "nbformat": 4,
 "nbformat_minor": 5
}
